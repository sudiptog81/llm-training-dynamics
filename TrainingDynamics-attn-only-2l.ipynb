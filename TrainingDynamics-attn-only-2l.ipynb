{
 "cells": [
  {
   "cell_type": "code",
   "execution_count": 1,
   "metadata": {
    "colab": {
     "base_uri": "https://localhost:8080/"
    },
    "execution": {
     "iopub.execute_input": "2024-11-24T10:28:16.448942Z",
     "iopub.status.busy": "2024-11-24T10:28:16.448603Z",
     "iopub.status.idle": "2024-11-24T10:28:27.601495Z",
     "shell.execute_reply": "2024-11-24T10:28:27.600412Z",
     "shell.execute_reply.started": "2024-11-24T10:28:16.448913Z"
    },
    "id": "dJvRAf5GudNs",
    "outputId": "1eb89e8b-6969-4c6b-e194-6daed0a30e99",
    "trusted": true
   },
   "outputs": [],
   "source": [
    "# %pip install transformer_lens circuitsvis"
   ]
  },
  {
   "cell_type": "code",
   "execution_count": 2,
   "metadata": {
    "_cell_guid": "58d55351-cb80-4e47-959a-0f6c3b9cc821",
    "_uuid": "4249fa71-f21f-40fd-865c-c4f5cce80fa7",
    "execution": {
     "iopub.execute_input": "2024-11-24T10:28:31.525566Z",
     "iopub.status.busy": "2024-11-24T10:28:31.525192Z",
     "iopub.status.idle": "2024-11-24T10:28:35.962265Z",
     "shell.execute_reply": "2024-11-24T10:28:35.961483Z",
     "shell.execute_reply.started": "2024-11-24T10:28:31.525534Z"
    },
    "id": "b64JCD8eudNt",
    "jupyter": {
     "outputs_hidden": false
    },
    "trusted": true
   },
   "outputs": [],
   "source": [
    "import torch\n",
    "import torch.nn as nn\n",
    "import torch.nn.functional as F\n",
    "import torch.optim as optim\n",
    "import numpy as np\n",
    "import einops\n",
    "from fancy_einsum import einsum\n",
    "import os\n",
    "import tqdm.auto as tqdm\n",
    "import random\n",
    "from pathlib import Path\n",
    "import plotly.express as px\n",
    "from torch.utils.data import DataLoader\n",
    "\n",
    "from typing import List, Union, Optional\n",
    "from functools import partial\n",
    "import copy\n",
    "\n",
    "import itertools\n",
    "from transformers import AutoModelForCausalLM, AutoConfig, AutoTokenizer\n",
    "import dataclasses\n",
    "import datasets\n",
    "\n",
    "import transformer_lens\n",
    "import transformer_lens.utils as utils\n",
    "from transformer_lens.hook_points import (\n",
    "    HookedRootModule,\n",
    "    HookPoint,\n",
    ")\n",
    "from transformer_lens import HookedTransformer, HookedTransformerConfig, FactoredMatrix, ActivationCache\n",
    "\n",
    "device = \"cuda:1\" if torch.cuda.is_available() else \"cpu\""
   ]
  },
  {
   "cell_type": "code",
   "execution_count": 3,
   "metadata": {
    "execution": {
     "iopub.execute_input": "2024-11-24T10:28:35.964107Z",
     "iopub.status.busy": "2024-11-24T10:28:35.963814Z",
     "iopub.status.idle": "2024-11-24T10:28:35.971012Z",
     "shell.execute_reply": "2024-11-24T10:28:35.970198Z",
     "shell.execute_reply.started": "2024-11-24T10:28:35.964078Z"
    },
    "id": "-YfgRO5nudNt",
    "trusted": true
   },
   "outputs": [],
   "source": [
    "def imshow(tensor, model=None, renderer=None, xaxis=\"\", yaxis=\"\", **kwargs):\n",
    "    px.imshow(utils.to_numpy(tensor), color_continuous_midpoint=0.0, color_continuous_scale=\"RdBu\", labels={\"x\":xaxis, \"y\":yaxis}, **kwargs).write_image('images/' + model + '/' + kwargs.get('title') + '.png')\n",
    "\n",
    "def line(tensor, renderer=None, xaxis=\"\", yaxis=\"\", **kwargs):\n",
    "    px.line(utils.to_numpy(tensor), labels={\"x\":xaxis, \"y\":yaxis}, **kwargs).show(renderer)\n",
    "\n",
    "def scatter(x, y, xaxis=\"\", yaxis=\"\", caxis=\"\", renderer=None, **kwargs):\n",
    "    x = utils.to_numpy(x)\n",
    "    y = utils.to_numpy(y)\n",
    "    px.scatter(y=y, x=x, labels={\"x\":xaxis, \"y\":yaxis, \"color\":caxis}, **kwargs).show(renderer)"
   ]
  },
  {
   "cell_type": "code",
   "execution_count": 4,
   "metadata": {
    "colab": {
     "base_uri": "https://localhost:8080/"
    },
    "execution": {
     "iopub.execute_input": "2024-11-24T10:28:41.826776Z",
     "iopub.status.busy": "2024-11-24T10:28:41.825914Z",
     "iopub.status.idle": "2024-11-24T10:28:41.854995Z",
     "shell.execute_reply": "2024-11-24T10:28:41.853905Z",
     "shell.execute_reply.started": "2024-11-24T10:28:41.826738Z"
    },
    "id": "272pci3zudNt",
    "outputId": "3fc198c1-8fcf-4d44-e94a-551532326609",
    "trusted": true
   },
   "outputs": [
    {
     "name": "stdout",
     "output_type": "stream",
     "text": [
      "\n",
      "Target GCD: 29\n",
      "Triplets:\n",
      "[[ 58  87  29]\n",
      " [ 58 116  29]\n",
      " [116 145  87]\n",
      " [ 58 145 203]\n",
      " [ 87  87 203]\n",
      " [203 145 145]\n",
      " [ 87 116  87]\n",
      " [ 58 116 145]\n",
      " [145 203 203]\n",
      " [ 87  29 203]]\n",
      "\n",
      "Target GCD: 62\n",
      "Triplets:\n",
      "[[186 124 124]\n",
      " [186 186 124]\n",
      " [ 62 186  62]\n",
      " [ 62 124 186]\n",
      " [ 62 186 186]\n",
      " [124 124 124]\n",
      " [ 62 124 124]\n",
      " [124 186 186]\n",
      " [124  62 186]\n",
      " [ 62  62 124]]\n"
     ]
    }
   ],
   "source": [
    "import numpy as np\n",
    "from einops import repeat\n",
    "import circuitsvis as cv\n",
    "\n",
    "n = 1000\n",
    "m = 10\n",
    "\n",
    "gcd_targets = np.random.randint(1, 65, size=n)\n",
    "gcd_targets_expanded = repeat(gcd_targets, 'n -> (n m)', m=m)\n",
    "scaling_factors = np.random.randint(1, 256 // gcd_targets_expanded[:, None], size=(n * m, 3))\n",
    "\n",
    "numbers = gcd_targets_expanded[:, None] * scaling_factors\n",
    "numbers_grouped = numbers.reshape(n, m, 3)\n",
    "\n",
    "for i, target_gcd in enumerate(gcd_targets[:2]):\n",
    "    print(f\"\\nTarget GCD: {target_gcd}\")\n",
    "    print(\"Triplets:\")\n",
    "    print(numbers_grouped[i])"
   ]
  },
  {
   "cell_type": "code",
   "execution_count": 5,
   "metadata": {
    "colab": {
     "base_uri": "https://localhost:8080/"
    },
    "execution": {
     "iopub.execute_input": "2024-11-23T16:16:47.935549Z",
     "iopub.status.busy": "2024-11-23T16:16:47.93526Z",
     "iopub.status.idle": "2024-11-23T16:16:47.942798Z",
     "shell.execute_reply": "2024-11-23T16:16:47.94195Z",
     "shell.execute_reply.started": "2024-11-23T16:16:47.9355Z"
    },
    "id": "6ElahhNnudNt",
    "outputId": "3b79cbbd-712f-4a9b-8b40-02308d649015",
    "trusted": true
   },
   "outputs": [
    {
     "data": {
      "text/plain": [
       "(torch.Size([10000, 3]), torch.Size([10000, 1]))"
      ]
     },
     "execution_count": 5,
     "metadata": {},
     "output_type": "execute_result"
    }
   ],
   "source": [
    "numbers_tensor = torch.tensor(numbers, dtype=int)\n",
    "gcd_tensor = torch.tensor(gcd_targets_expanded, dtype=int).reshape(10000, 1)\n",
    "numbers_tensor.shape, gcd_tensor.shape"
   ]
  },
  {
   "cell_type": "code",
   "execution_count": 6,
   "metadata": {
    "colab": {
     "base_uri": "https://localhost:8080/"
    },
    "execution": {
     "iopub.execute_input": "2024-11-23T16:16:47.944223Z",
     "iopub.status.busy": "2024-11-23T16:16:47.943934Z",
     "iopub.status.idle": "2024-11-23T16:16:47.953957Z",
     "shell.execute_reply": "2024-11-23T16:16:47.953158Z",
     "shell.execute_reply.started": "2024-11-23T16:16:47.944195Z"
    },
    "id": "ksozxTHYudNu",
    "outputId": "4b0889cf-2ffb-439b-a136-4df31dfcc3db",
    "trusted": true
   },
   "outputs": [
    {
     "data": {
      "text/plain": [
       "torch.Size([10000, 4])"
      ]
     },
     "execution_count": 6,
     "metadata": {},
     "output_type": "execute_result"
    }
   ],
   "source": [
    "concatenated_tensor = torch.cat((numbers_tensor, gcd_tensor), dim=1)\n",
    "concatenated_tensor.shape"
   ]
  },
  {
   "cell_type": "code",
   "execution_count": 7,
   "metadata": {
    "colab": {
     "base_uri": "https://localhost:8080/"
    },
    "execution": {
     "iopub.execute_input": "2024-11-23T16:16:47.955361Z",
     "iopub.status.busy": "2024-11-23T16:16:47.955094Z",
     "iopub.status.idle": "2024-11-23T16:16:47.966245Z",
     "shell.execute_reply": "2024-11-23T16:16:47.965538Z",
     "shell.execute_reply.started": "2024-11-23T16:16:47.955335Z"
    },
    "id": "41Fgkh8dudNu",
    "outputId": "80155c03-1c69-4436-9e70-c3c2e285e7ac",
    "trusted": true
   },
   "outputs": [
    {
     "data": {
      "text/plain": [
       "tensor([[210,  70, 105,  35],\n",
       "        [130,  78, 104,  26],\n",
       "        [208,  78,  78,  26],\n",
       "        [225, 115, 235,   5],\n",
       "        [210, 119,  77,   7]])"
      ]
     },
     "execution_count": 7,
     "metadata": {},
     "output_type": "execute_result"
    }
   ],
   "source": [
    "sample_indices = np.random.choice(concatenated_tensor.shape[0], size=5, replace=False)\n",
    "samples = concatenated_tensor[sample_indices]\n",
    "samples"
   ]
  },
  {
   "cell_type": "code",
   "execution_count": 8,
   "metadata": {
    "execution": {
     "iopub.execute_input": "2024-11-23T16:16:47.967654Z",
     "iopub.status.busy": "2024-11-23T16:16:47.967287Z",
     "iopub.status.idle": "2024-11-23T16:16:48.898626Z",
     "shell.execute_reply": "2024-11-23T16:16:48.897896Z",
     "shell.execute_reply.started": "2024-11-23T16:16:47.967613Z"
    },
    "id": "TDLjeElSudNu",
    "trusted": true
   },
   "outputs": [],
   "source": [
    "training_datapoints = []\n",
    "for _ in range(2000):\n",
    "  sample_indices = np.random.choice(concatenated_tensor.shape[0], size=10, replace=False)\n",
    "  samples = concatenated_tensor[sample_indices]\n",
    "  prompt = ''\n",
    "  for idx, tensor in enumerate(samples):\n",
    "    prompt += (','.join(map(str, (tensor[:-1].tolist()))) + f'=>{tensor[-1]}\\n')\n",
    "  training_datapoints.append(prompt.strip())\n",
    "\n",
    "test_datapoints = []\n",
    "for _ in range(1000):\n",
    "  sample_indices = np.random.choice(concatenated_tensor.shape[0], size=10, replace=False)\n",
    "  samples = concatenated_tensor[sample_indices]\n",
    "  prompt = ''\n",
    "  for idx, tensor in enumerate(samples):\n",
    "    prompt += (','.join(map(str, (tensor[:-1].tolist()))) + f'=>{tensor[-1]}\\n')\n",
    "  test_datapoints.append(prompt.strip())"
   ]
  },
  {
   "cell_type": "code",
   "execution_count": 9,
   "metadata": {
    "colab": {
     "base_uri": "https://localhost:8080/"
    },
    "execution": {
     "iopub.execute_input": "2024-11-23T16:16:48.899964Z",
     "iopub.status.busy": "2024-11-23T16:16:48.899613Z",
     "iopub.status.idle": "2024-11-23T16:16:48.904398Z",
     "shell.execute_reply": "2024-11-23T16:16:48.903608Z",
     "shell.execute_reply.started": "2024-11-23T16:16:48.899919Z"
    },
    "id": "9aHAPad7udNu",
    "outputId": "3cd6ed86-9dc6-407b-b6b1-1779d38e1f28",
    "trusted": true
   },
   "outputs": [
    {
     "name": "stdout",
     "output_type": "stream",
     "text": [
      "96,128,224=>32\n",
      "164,123,82=>41\n",
      "225,100,175=>25\n",
      "75,165,210=>15\n",
      "37,74,148=>37\n",
      "171,114,114=>57\n",
      "87,177,147=>3\n",
      "204,34,204=>34\n",
      "108,54,108=>54\n",
      "55,110,110=>55\n"
     ]
    }
   ],
   "source": [
    "print(training_datapoints[0])"
   ]
  },
  {
   "cell_type": "code",
   "execution_count": 10,
   "metadata": {
    "execution": {
     "iopub.execute_input": "2024-11-23T16:16:48.906327Z",
     "iopub.status.busy": "2024-11-23T16:16:48.905738Z",
     "iopub.status.idle": "2024-11-23T16:16:49.324747Z",
     "shell.execute_reply": "2024-11-23T16:16:49.324017Z",
     "shell.execute_reply.started": "2024-11-23T16:16:48.906288Z"
    },
    "id": "ndKdbHXBudNu",
    "trusted": true
   },
   "outputs": [],
   "source": [
    "import matplotlib.pyplot as plt\n",
    "import seaborn as sns\n",
    "\n",
    "sns.set()\n",
    "sns.set_theme(rc={'figure.figsize':(5,5)})"
   ]
  },
  {
   "cell_type": "code",
   "execution_count": 11,
   "metadata": {
    "execution": {
     "iopub.execute_input": "2024-11-23T16:16:49.327806Z",
     "iopub.status.busy": "2024-11-23T16:16:49.327322Z",
     "iopub.status.idle": "2024-11-23T16:16:49.331813Z",
     "shell.execute_reply": "2024-11-23T16:16:49.330959Z",
     "shell.execute_reply.started": "2024-11-23T16:16:49.327776Z"
    },
    "id": "g1HiT_xbudNu",
    "trusted": true
   },
   "outputs": [],
   "source": [
    "from transformer_lens import evals\n",
    "\n",
    "model_names = ['attn-only-1l','attn-only-2l','attn-only-3l']"
   ]
  },
  {
   "cell_type": "code",
   "execution_count": 31,
   "metadata": {
    "colab": {
     "base_uri": "https://localhost:8080/"
    },
    "execution": {
     "iopub.execute_input": "2024-11-23T16:36:57.683687Z",
     "iopub.status.busy": "2024-11-23T16:36:57.682939Z",
     "iopub.status.idle": "2024-11-23T16:37:03.319753Z",
     "shell.execute_reply": "2024-11-23T16:37:03.318805Z",
     "shell.execute_reply.started": "2024-11-23T16:36:57.68365Z"
    },
    "id": "qY5jC2HxudNu",
    "outputId": "42b8f6e3-3531-4743-df6b-19cfdced6eb0",
    "trusted": true
   },
   "outputs": [
    {
     "data": {
      "application/vnd.jupyter.widget-view+json": {
       "model_id": "9da416450bdd4540b9dbb290014960ed",
       "version_major": 2,
       "version_minor": 0
      },
      "text/plain": [
       "model_final.pth:   0%|          | 0.00/205M [00:00<?, ?B/s]"
      ]
     },
     "metadata": {},
     "output_type": "display_data"
    },
    {
     "name": "stdout",
     "output_type": "stream",
     "text": [
      "Loaded pretrained model attn-only-1l into HookedTransformer\n"
     ]
    },
    {
     "data": {
      "text/plain": [
       "HookedTransformer(\n",
       "  (embed): Embed()\n",
       "  (hook_embed): HookPoint()\n",
       "  (pos_embed): PosEmbed()\n",
       "  (hook_pos_embed): HookPoint()\n",
       "  (blocks): ModuleList(\n",
       "    (0): TransformerBlock(\n",
       "      (ln1): LayerNormPre(\n",
       "        (hook_scale): HookPoint()\n",
       "        (hook_normalized): HookPoint()\n",
       "      )\n",
       "      (attn): Attention(\n",
       "        (hook_k): HookPoint()\n",
       "        (hook_q): HookPoint()\n",
       "        (hook_v): HookPoint()\n",
       "        (hook_z): HookPoint()\n",
       "        (hook_attn_scores): HookPoint()\n",
       "        (hook_pattern): HookPoint()\n",
       "        (hook_result): HookPoint()\n",
       "      )\n",
       "      (hook_attn_in): HookPoint()\n",
       "      (hook_q_input): HookPoint()\n",
       "      (hook_k_input): HookPoint()\n",
       "      (hook_v_input): HookPoint()\n",
       "      (hook_mlp_in): HookPoint()\n",
       "      (hook_attn_out): HookPoint()\n",
       "      (hook_mlp_out): HookPoint()\n",
       "      (hook_resid_pre): HookPoint()\n",
       "      (hook_resid_post): HookPoint()\n",
       "    )\n",
       "  )\n",
       "  (ln_final): LayerNormPre(\n",
       "    (hook_scale): HookPoint()\n",
       "    (hook_normalized): HookPoint()\n",
       "  )\n",
       "  (unembed): Unembed()\n",
       ")"
      ]
     },
     "execution_count": 31,
     "metadata": {},
     "output_type": "execute_result"
    }
   ],
   "source": [
    "MODEL='attn-only-1l'\n",
    "model = HookedTransformer.from_pretrained(MODEL, device=device)\n",
    "for name, param in model.named_parameters():\n",
    "    if \"b_\" in name:\n",
    "        param.requires_grad = False\n",
    "model"
   ]
  },
  {
   "cell_type": "code",
   "execution_count": 32,
   "metadata": {
    "colab": {
     "base_uri": "https://localhost:8080/"
    },
    "execution": {
     "iopub.execute_input": "2024-11-23T16:37:06.578242Z",
     "iopub.status.busy": "2024-11-23T16:37:06.577393Z",
     "iopub.status.idle": "2024-11-23T16:37:06.583072Z",
     "shell.execute_reply": "2024-11-23T16:37:06.582224Z",
     "shell.execute_reply.started": "2024-11-23T16:37:06.578203Z"
    },
    "id": "eRi43UmhudNu",
    "outputId": "e40dc1af-1ac8-41c0-8502-981b5cebb75f",
    "trusted": true
   },
   "outputs": [
    {
     "name": "stdout",
     "output_type": "stream",
     "text": [
      "embed.W_E torch.Size([48262, 512])\n",
      "pos_embed.W_pos torch.Size([1024, 512])\n",
      "blocks.0.attn.W_Q torch.Size([8, 512, 64])\n",
      "blocks.0.attn.W_O torch.Size([8, 64, 512])\n",
      "blocks.0.attn.b_Q torch.Size([8, 64])\n",
      "blocks.0.attn.b_O torch.Size([512])\n",
      "blocks.0.attn.W_K torch.Size([8, 512, 64])\n",
      "blocks.0.attn.W_V torch.Size([8, 512, 64])\n",
      "blocks.0.attn.b_K torch.Size([8, 64])\n",
      "blocks.0.attn.b_V torch.Size([8, 64])\n",
      "unembed.W_U torch.Size([512, 48262])\n",
      "unembed.b_U torch.Size([48262])\n"
     ]
    }
   ],
   "source": [
    "for name, params in model.named_parameters():\n",
    "  print(name, params.shape)"
   ]
  },
  {
   "cell_type": "code",
   "execution_count": 15,
   "metadata": {
    "execution": {
     "iopub.execute_input": "2024-11-23T16:37:06.776136Z",
     "iopub.status.busy": "2024-11-23T16:37:06.775846Z",
     "iopub.status.idle": "2024-11-23T16:37:07.646175Z",
     "shell.execute_reply": "2024-11-23T16:37:07.6452Z",
     "shell.execute_reply.started": "2024-11-23T16:37:06.776108Z"
    },
    "id": "DYX8BcO3udNu",
    "trusted": true
   },
   "outputs": [],
   "source": [
    "from torch.utils.data import Dataset, DataLoader\n",
    "\n",
    "class GCDDataset(Dataset):\n",
    "    def __init__(self, data):\n",
    "        self.data = data\n",
    "\n",
    "    def __len__(self):\n",
    "        return len(self.data)\n",
    "\n",
    "    def __getitem__(self, idx):\n",
    "        return {\"tokens\": self.data[idx]}\n",
    "\n",
    "tokenized_training_datapoints = model.to_tokens(training_datapoints, prepend_bos=False)\n",
    "tokenized_test_datapoints = model.to_tokens(test_datapoints, prepend_bos=False)\n",
    "\n",
    "train_dataset = GCDDataset(tokenized_training_datapoints)\n",
    "test_dataset = GCDDataset(tokenized_test_datapoints)"
   ]
  },
  {
   "cell_type": "code",
   "execution_count": 16,
   "metadata": {
    "execution": {
     "iopub.execute_input": "2024-11-23T16:37:07.64835Z",
     "iopub.status.busy": "2024-11-23T16:37:07.64789Z",
     "iopub.status.idle": "2024-11-23T16:37:07.669085Z",
     "shell.execute_reply": "2024-11-23T16:37:07.668294Z",
     "shell.execute_reply.started": "2024-11-23T16:37:07.648308Z"
    },
    "id": "snkIK8QBudNv",
    "trusted": true
   },
   "outputs": [],
   "source": [
    "import json\n",
    "from tqdm.autonotebook import tqdm\n",
    "\n",
    "total_steps = 500\n",
    "\n",
    "def train(\n",
    "    model,\n",
    "    config\n",
    "):\n",
    "    torch.manual_seed(config.seed)\n",
    "    model.train()\n",
    "    if config.wandb:\n",
    "        if config.wandb_project_name is None:\n",
    "            config.wandb_project_name = \"easy-transformer\"\n",
    "        # wandb.init(project=config.wandb_project_name, config=vars(config))\n",
    "\n",
    "    if config.device is None:\n",
    "        config.device = utils.get_device()\n",
    "\n",
    "    if config.optimizer_name in [\"Adam\", \"AdamW\"]:\n",
    "        if config.weight_decay is not None:\n",
    "            optimizer = optim.AdamW(\n",
    "                model.parameters(),\n",
    "                lr=config.lr,\n",
    "                weight_decay=config.weight_decay,\n",
    "            )\n",
    "        else:\n",
    "            optimizer = optim.Adam(\n",
    "                model.parameters(),\n",
    "                lr=config.lr,\n",
    "            )\n",
    "    elif config.optimizer_name == \"SGD\":\n",
    "        optimizer = optim.SGD(\n",
    "            model.parameters(),\n",
    "            lr=config.lr,\n",
    "            weight_decay=(config.weight_decay if config.weight_decay is not None else 0.0),\n",
    "            momentum=config.momentum,\n",
    "        )\n",
    "    else:\n",
    "        raise ValueError(f\"Optimizer {config.optimizer_name} not supported\")\n",
    "\n",
    "    scheduler = None\n",
    "    if config.warmup_steps > 0:\n",
    "        scheduler = optim.lr_scheduler.LambdaLR(\n",
    "            optimizer,\n",
    "            lr_lambda=lambda step: min(1.0, step / config.warmup_steps),\n",
    "        )\n",
    "\n",
    "    train_loader = torch.utils.data.DataLoader(train_dataset, batch_size=32, shuffle=True)\n",
    "    test_loader = torch.utils.data.DataLoader(test_dataset, batch_size=8, shuffle=True)\n",
    "\n",
    "    model.to(config.device)\n",
    "\n",
    "    steps = 0\n",
    "    step_stats = []\n",
    "    train_losses = []\n",
    "    test_losses = []\n",
    "    per_token_losses = []\n",
    "    for epoch in tqdm(range(1, config.num_epochs + 1)):\n",
    "        if config.max_steps is not None and steps >= config.max_steps:\n",
    "            break\n",
    "\n",
    "        pbar = tqdm(zip(train_loader, test_loader))\n",
    "        for batch_train, batch_test in pbar:\n",
    "            steps += 1\n",
    "\n",
    "            if steps > config.max_steps:\n",
    "                return model, train_losses, test_losses, per_token_losses\n",
    "\n",
    "            model.train()\n",
    "            tokens = batch_train['tokens'].to(config.device)\n",
    "            loss = model(tokens, return_type=\"loss\", prepend_bos=False)\n",
    "            optimizer.zero_grad()\n",
    "            loss.backward()\n",
    "            train_losses.append(loss.item())\n",
    "            optimizer.step()\n",
    "            if config.warmup_steps > 0:\n",
    "                assert scheduler is not None\n",
    "                scheduler.step()\n",
    "            model.eval()\n",
    "            test_tokens = batch_test['tokens'].to(config.device)\n",
    "            test_logits = model(tokens, return_type=\"logits\", prepend_bos=False)\n",
    "            per_token_loss = utils.lm_cross_entropy_loss(test_logits, test_tokens, per_token=True).detach()\n",
    "            icl_score = (per_token_loss[:, -1]-per_token_loss[:, 0]).mean()\n",
    "            test_losses.append(icl_score.item())\n",
    "            per_token_losses.append(per_token_loss)\n",
    "\n",
    "            pbar.set_postfix({\"train_loss\": loss.item(), \"icl_score\": icl_score.item(), 'steps': steps})\n",
    "            step_stats.append({\"train_loss\": loss.item(), \"icl_score\": icl_score.item(), 'steps': steps})\n",
    "            # wandb.log({\"train_loss\": loss.item(), \"icl_score\": icl_score.item()})\n",
    "\n",
    "            if (\n",
    "                config.save_every is not None\n",
    "                and steps % config.save_every == 0\n",
    "                and config.save_dir is not None\n",
    "            ):\n",
    "                torch.save(model.state_dict(), f\"{config.save_dir}/model_checkpoint_{steps}.pth\")\n",
    "\n",
    "            if config.max_steps is not None and steps >= config.max_steps:\n",
    "                break\n",
    "\n",
    "    with open('log_' + MODEL + '.json', 'a') as f:\n",
    "        json.dump(step_stats, f)\n",
    "    return model, train_losses, test_losses, per_token_losses"
   ]
  },
  {
   "cell_type": "code",
   "execution_count": 33,
   "metadata": {
    "_kg_hide-input": true,
    "colab": {
     "base_uri": "https://localhost:8080/",
     "height": 340,
     "referenced_widgets": [
      "5e9bc0fcb4bf41989983baece2422a50",
      "710a190e40494325a45ece8eb0a4b158",
      "a424bda0989845beb9f2bb0aad737960",
      "52f475b9c22d463db047ff42d8e9bc2c",
      "9eb95bb9bcd54fa9bc0ffe75060a864e",
      "e4b1be6554ec47a4b31847e7933ae3bc",
      "e043d7a8d5c64f88be664c8cf3c122c5",
      "25614a17feed47449860819ab4185334",
      "2910f05c3b0e418eb1a76d9cb8688c19",
      "0c88c4f79de843f19ba9ad313a1d6221",
      "c3c136a8b035468eac398e4465d336d7",
      "3c686777db8b4e45a45fb3cdbdbff207",
      "c381aff7e89f44d7a655a72e582af7b8",
      "6ea96f6ae66c458e88dcc524f63aa3cf",
      "dd4ea53f43994eb8881a4b707c209022",
      "66d27f7c20214214824fc7b8bab72a26",
      "793e2d4d6778415b84864a95bf3532a6",
      "b52b3d4a44b0409ab5df32b5304a23cc",
      "a9632dafcb8540a9b3caf643df1712a2",
      "d06158c6cdce4a5f89defd59e69d073e",
      "465f5b8cb87e4d469cd1f767e848b6a9",
      "fc1b5793ff704ad393057b00a9420374",
      "9742d8a8b3f74174ab4d30f744a3eb50",
      "b48aec3fe66a4d35a72967dcbd35df68",
      "ca0ba0cc1eb643ab9495966cb954d051",
      "b932a46b485e4e2fadc822518d78c5db",
      "f87c415fd2b04a46bf439e5911d2e6bb",
      "da542800a43a4cce9077a6ae7ac0b37d",
      "a33ddabffb2c4578b71c66d79ddb155b",
      "4256ef583c584a9692354a2ed3f68e07",
      "30f31075091047ff951aee5eff871362",
      "3d151c904fcc488ba9ce6377a42cb432",
      "05d7e5024535439c96a5e823895a4d19",
      "6c099a85705a45ad8d57e1d643ff31de",
      "cc435c1fad784afe87417cd2a1f4b49e",
      "befc1df6a872482e9c33f3b3b40ee54c",
      "3b4a2b8061d14a7b8f8a246a78bf0a23",
      "93fad50b6950484299cf0e806d09fdd8",
      "874d8c2db3354222aa07652b71b6aadb",
      "9dd68328c815467dbfc858d96fcab2fd",
      "cb9ef1bbb74b41dd8fd5e66db08c7b37",
      "77ebabcdb7f440a29abfc028c2ba52c6",
      "93574226403e4780acad776aad7c1f84",
      "53ba673b0766466d995ba4da8e48e931",
      "bb90b0aff22549d89788d9e3c51442c5",
      "643bce502d93478e99d0c639617a3e0b",
      "16ffa712ff2e4287ad90cb19969a88d9",
      "5e990a1c80a94fc4ab97446bb730e79f",
      "1781054e2fbe4948a4f788e7464441ed",
      "f8f472aa78f343199ca09097c475fa02",
      "c19bd45457d646b986f3d97281970ad2",
      "17dff1238a674a52a7b0c901c92bcbdf",
      "27a3710fc24f40a19e1f8633905738b4",
      "db96978ef1d8428c9980ab0eb71fa0c1",
      "36ec56b16423479aa21822d48a05632f",
      "7e3079bdff13438d851357744ac79d23",
      "7c991e4e3dd743b6a02078ec607f41bd",
      "03ceeb7023a248b399eb17291792cb2b",
      "86a12e728e11418181af56ee606eefd3",
      "313ed5f8612d4d4286b63d842fff228f",
      "4c52f7dafeea41d09e337725d8f56a80",
      "5e3cd16860e744608d7161cc35e61e9b",
      "7503e3af44e8468d8741aa3a44f2e82b",
      "c00362393b944a969dbe35975b203123",
      "ad42e68608a3485b83c90c0cb410cd78",
      "aca0cc3551a04272a67b45fa6bcd24eb",
      "c7b7036eca374ea79966f69316be4af9",
      "014b21cfb01f46008c95a7d53b76c884",
      "514980eb78304705a0a32ce3c3085c7e",
      "c45de8f9a10d4f5b9c4e0a1cd0f659b2",
      "20f72ca525dd4f3b9673dde39b94598e",
      "c0e155ae3e724766991040841b0e3394",
      "4ce0895a48334ca7a92b3ba9031df515",
      "859eaac29c0a4976af94056f96330819",
      "c0e22deb971f42fe83930ab9b1b9921c",
      "18e060de90984e7081aa2163bfaae564",
      "6b8c7f813b474fccb95c5b8156a7699f",
      "0af9c830bd574fd7ab98cdaaf6df5965",
      "b86111d358844a63878e3b001d008202",
      "3a226c7577e14550a619137c641bb05f",
      "3b74ca5db5244ba6bbcad741357171f9",
      "1a7fde740f5043acabdc6427ca60b778",
      "5bbb696e69ff4d48914dc950173813e9",
      "1a8ac6d66312469880ab564c7177562f",
      "f7697755bdd9494eac5aa3a520157ec9",
      "626282d054424faa992b8d395b23546f",
      "8a33d1e380084cf2a3c2c2405a4b9e29",
      "056ecc69f211460f9999ac52e581923f",
      "e0b730c29dec41afb67931a0c5018f39",
      "822ef68239414ca6b96a297b885b6d08",
      "441eb5ea177d4befbceaf6f19b893bfd",
      "9cf15645480c4805b20877af254acf35",
      "d13dc2a10b554663825ed8ba759acc75",
      "4bb795a0b4f2443cb44f4c8ba19bd2f5",
      "f7ce5b23d224449a91e8366614f99483",
      "823e6a4916bd48b0bda424fdf8964d99",
      "00a05e73092e41918b258c4034208603",
      "0ea4e55576074d59913a006fc455a4ca",
      "1d37a17747464d25a2a91a606d1ccd57"
     ]
    },
    "execution": {
     "iopub.execute_input": "2024-11-23T16:37:10.084Z",
     "iopub.status.busy": "2024-11-23T16:37:10.083653Z",
     "iopub.status.idle": "2024-11-23T16:41:15.732877Z",
     "shell.execute_reply": "2024-11-23T16:41:15.731621Z",
     "shell.execute_reply.started": "2024-11-23T16:37:10.083969Z"
    },
    "id": "Y14fUu9WudNv",
    "outputId": "4abf1de6-52f0-4768-ebd2-497402219e89",
    "trusted": true
   },
   "outputs": [
    {
     "name": "stdout",
     "output_type": "stream",
     "text": [
      "rm: cannot remove 'checkpoints/attn-only-1l': No such file or directory\n"
     ]
    },
    {
     "name": "stderr",
     "output_type": "stream",
     "text": [
      "huggingface/tokenizers: The current process just got forked, after parallelism has already been used. Disabling parallelism to avoid deadlocks...\n",
      "To disable this warning, you can either:\n",
      "\t- Avoid using `tokenizers` before the fork if possible\n",
      "\t- Explicitly set the environment variable TOKENIZERS_PARALLELISM=(true | false)\n",
      "huggingface/tokenizers: The current process just got forked, after parallelism has already been used. Disabling parallelism to avoid deadlocks...\n",
      "To disable this warning, you can either:\n",
      "\t- Avoid using `tokenizers` before the fork if possible\n",
      "\t- Explicitly set the environment variable TOKENIZERS_PARALLELISM=(true | false)\n"
     ]
    },
    {
     "name": "stdout",
     "output_type": "stream",
     "text": [
      "rm: cannot remove 'log_attn-only-1l.json': No such file or directory\n"
     ]
    },
    {
     "name": "stderr",
     "output_type": "stream",
     "text": [
      "huggingface/tokenizers: The current process just got forked, after parallelism has already been used. Disabling parallelism to avoid deadlocks...\n",
      "To disable this warning, you can either:\n",
      "\t- Avoid using `tokenizers` before the fork if possible\n",
      "\t- Explicitly set the environment variable TOKENIZERS_PARALLELISM=(true | false)\n"
     ]
    },
    {
     "name": "stdout",
     "output_type": "stream",
     "text": [
      "Moving model to device:  cuda:1\n"
     ]
    },
    {
     "data": {
      "application/vnd.jupyter.widget-view+json": {
       "model_id": "87aecc422c7a474c908ac5ad090b1559",
       "version_major": 2,
       "version_minor": 0
      },
      "text/plain": [
       "  0%|          | 0/100 [00:00<?, ?it/s]"
      ]
     },
     "metadata": {},
     "output_type": "display_data"
    },
    {
     "data": {
      "application/vnd.jupyter.widget-view+json": {
       "model_id": "ec241fc304564e59a96af8c5189ae312",
       "version_major": 2,
       "version_minor": 0
      },
      "text/plain": [
       "0it [00:00, ?it/s]"
      ]
     },
     "metadata": {},
     "output_type": "display_data"
    },
    {
     "data": {
      "application/vnd.jupyter.widget-view+json": {
       "model_id": "b585bf135cbe434693fe1159c00fb075",
       "version_major": 2,
       "version_minor": 0
      },
      "text/plain": [
       "0it [00:00, ?it/s]"
      ]
     },
     "metadata": {},
     "output_type": "display_data"
    },
    {
     "data": {
      "application/vnd.jupyter.widget-view+json": {
       "model_id": "91e56149a63e40dc977d5b173f5f21c8",
       "version_major": 2,
       "version_minor": 0
      },
      "text/plain": [
       "0it [00:00, ?it/s]"
      ]
     },
     "metadata": {},
     "output_type": "display_data"
    },
    {
     "data": {
      "application/vnd.jupyter.widget-view+json": {
       "model_id": "bb68af577d2345baab79acb0fd6314e1",
       "version_major": 2,
       "version_minor": 0
      },
      "text/plain": [
       "0it [00:00, ?it/s]"
      ]
     },
     "metadata": {},
     "output_type": "display_data"
    },
    {
     "data": {
      "application/vnd.jupyter.widget-view+json": {
       "model_id": "1a5affdc7876414fb7e3e49997832e59",
       "version_major": 2,
       "version_minor": 0
      },
      "text/plain": [
       "0it [00:00, ?it/s]"
      ]
     },
     "metadata": {},
     "output_type": "display_data"
    },
    {
     "data": {
      "application/vnd.jupyter.widget-view+json": {
       "model_id": "435a133d927b43b2aae3297dc2d4a83d",
       "version_major": 2,
       "version_minor": 0
      },
      "text/plain": [
       "0it [00:00, ?it/s]"
      ]
     },
     "metadata": {},
     "output_type": "display_data"
    },
    {
     "data": {
      "application/vnd.jupyter.widget-view+json": {
       "model_id": "89ab9ff9af7a4eada66749061df3685e",
       "version_major": 2,
       "version_minor": 0
      },
      "text/plain": [
       "0it [00:00, ?it/s]"
      ]
     },
     "metadata": {},
     "output_type": "display_data"
    },
    {
     "data": {
      "application/vnd.jupyter.widget-view+json": {
       "model_id": "ca5594fbf0524202a24d2234866f0654",
       "version_major": 2,
       "version_minor": 0
      },
      "text/plain": [
       "0it [00:00, ?it/s]"
      ]
     },
     "metadata": {},
     "output_type": "display_data"
    }
   ],
   "source": [
    "from transformer_lens.train import HookedTransformerTrainConfig\n",
    "\n",
    "!rm -r checkpoints/{MODEL}\n",
    "!mkdir -p checkpoints/{MODEL}\n",
    "!rm log_{MODEL}.json\n",
    "\n",
    "model, train_losses, test_losses, per_token_losses = train(model, config=HookedTransformerTrainConfig(device=device, num_epochs=100, batch_size=32, lr=1e-4, wandb=True, wandb_project_name=MODEL, save_every=100, save_dir='checkpoints/' + MODEL, max_steps=total_steps))"
   ]
  },
  {
   "cell_type": "code",
   "execution_count": 18,
   "metadata": {
    "colab": {
     "base_uri": "https://localhost:8080/",
     "height": 467
    },
    "execution": {
     "iopub.execute_input": "2024-11-23T16:28:03.213126Z",
     "iopub.status.busy": "2024-11-23T16:28:03.212378Z",
     "iopub.status.idle": "2024-11-23T16:28:03.509176Z",
     "shell.execute_reply": "2024-11-23T16:28:03.508234Z",
     "shell.execute_reply.started": "2024-11-23T16:28:03.213089Z"
    },
    "id": "Z9e3h7nNudNv",
    "outputId": "0900430a-0fb5-4da2-8381-98cbd490210c",
    "trusted": true
   },
   "outputs": [
    {
     "data": {
      "image/png": "[encoded data removed]",
      "text/plain": [
       "<Figure size 500x500 with 1 Axes>"
      ]
     },
     "metadata": {},
     "output_type": "display_data"
    }
   ],
   "source": [
    "plt.title(\"Training Loss - \" + MODEL)\n",
    "plt.xlabel(\"Steps\")\n",
    "plt.ylabel(\"Loss\")\n",
    "sns.lineplot(x=range(1,500+1), y=train_losses[:500])\n",
    "plt.show()\n"
   ]
  },
  {
   "cell_type": "code",
   "execution_count": 34,
   "metadata": {},
   "outputs": [
    {
     "data": {
      "image/png": "[encoded data removed]",
      "text/plain": [
       "<Figure size 500x500 with 1 Axes>"
      ]
     },
     "metadata": {},
     "output_type": "display_data"
    }
   ],
   "source": [
    "plt.title(\"Training Loss - \" + MODEL)\n",
    "plt.xlabel(\"Steps\")\n",
    "plt.ylabel(\"Loss\")\n",
    "sns.lineplot(x=range(1,500+1), y=train_losses[:500])\n",
    "plt.show()\n"
   ]
  },
  {
   "cell_type": "code",
   "execution_count": 19,
   "metadata": {
    "colab": {
     "base_uri": "https://localhost:8080/",
     "height": 467
    },
    "execution": {
     "iopub.execute_input": "2024-11-23T16:28:11.643356Z",
     "iopub.status.busy": "2024-11-23T16:28:11.643008Z",
     "iopub.status.idle": "2024-11-23T16:28:11.94898Z",
     "shell.execute_reply": "2024-11-23T16:28:11.948071Z",
     "shell.execute_reply.started": "2024-11-23T16:28:11.643323Z"
    },
    "id": "WeaxqgD5udNv",
    "outputId": "8ba60558-1a12-44e3-ad2f-2ed2bd39fda1",
    "trusted": true
   },
   "outputs": [
    {
     "data": {
      "image/png": "[encoded data removed]",
      "text/plain": [
       "<Figure size 500x500 with 1 Axes>"
      ]
     },
     "metadata": {},
     "output_type": "display_data"
    }
   ],
   "source": [
    "plt.title(\"In-Context Learning Score - \" + MODEL)\n",
    "plt.xlabel(\"Steps\")\n",
    "plt.ylabel(\"ICL Score\")\n",
    "sns.lineplot(x=range(1,500+1), y=test_losses[:500])\n",
    "plt.show()"
   ]
  },
  {
   "cell_type": "code",
   "execution_count": 35,
   "metadata": {},
   "outputs": [
    {
     "data": {
      "image/png": "[encoded data removed]",
      "text/plain": [
       "<Figure size 500x500 with 1 Axes>"
      ]
     },
     "metadata": {},
     "output_type": "display_data"
    }
   ],
   "source": [
    "plt.title(\"In-Context Learning Score - \" + MODEL)\n",
    "plt.xlabel(\"Steps\")\n",
    "plt.ylabel(\"ICL Score\")\n",
    "sns.lineplot(x=range(1,500+1), y=test_losses[:500])\n",
    "plt.show()"
   ]
  },
  {
   "cell_type": "code",
   "execution_count": 20,
   "metadata": {
    "colab": {
     "base_uri": "https://localhost:8080/"
    },
    "execution": {
     "iopub.execute_input": "2024-11-23T16:41:25.891458Z",
     "iopub.status.busy": "2024-11-23T16:41:25.890764Z",
     "iopub.status.idle": "2024-11-23T16:41:25.92782Z",
     "shell.execute_reply": "2024-11-23T16:41:25.927055Z",
     "shell.execute_reply.started": "2024-11-23T16:41:25.891414Z"
    },
    "id": "xhmiCCdmudNv",
    "outputId": "add10143-6c63-467c-961d-72cb011be43c",
    "trusted": true
   },
   "outputs": [
    {
     "name": "stdout",
     "output_type": "stream",
     "text": [
      "627406\n"
     ]
    }
   ],
   "source": [
    "tokens = model.to_tokens(test_datapoints[-50].split('\\n')[0], prepend_bos=False)\n",
    "original_logits, cache = model.run_with_cache(tokens)\n",
    "print(original_logits.numel())"
   ]
  },
  {
   "cell_type": "code",
   "execution_count": 21,
   "metadata": {
    "colab": {
     "base_uri": "https://localhost:8080/"
    },
    "execution": {
     "iopub.execute_input": "2024-11-23T16:41:29.6252Z",
     "iopub.status.busy": "2024-11-23T16:41:29.624552Z",
     "iopub.status.idle": "2024-11-23T16:41:29.630265Z",
     "shell.execute_reply": "2024-11-23T16:41:29.629405Z",
     "shell.execute_reply.started": "2024-11-23T16:41:29.625163Z"
    },
    "id": "xU1Xzq_4udNv",
    "outputId": "5b2bba2e-302d-4aaa-c37a-7558fb8a2f97",
    "trusted": true
   },
   "outputs": [
    {
     "name": "stdout",
     "output_type": "stream",
     "text": [
      "hook_embed torch.Size([1, 13, 512])\n",
      "hook_pos_embed torch.Size([1, 13, 512])\n",
      "blocks.0.hook_resid_pre torch.Size([1, 13, 512])\n",
      "blocks.0.ln1.hook_scale torch.Size([1, 13, 1])\n",
      "blocks.0.ln1.hook_normalized torch.Size([1, 13, 512])\n",
      "blocks.0.attn.hook_q torch.Size([1, 13, 8, 64])\n",
      "blocks.0.attn.hook_k torch.Size([1, 13, 8, 64])\n",
      "blocks.0.attn.hook_v torch.Size([1, 13, 8, 64])\n",
      "blocks.0.attn.hook_attn_scores torch.Size([1, 8, 13, 13])\n",
      "blocks.0.attn.hook_pattern torch.Size([1, 8, 13, 13])\n",
      "blocks.0.attn.hook_z torch.Size([1, 13, 8, 64])\n",
      "blocks.0.hook_attn_out torch.Size([1, 13, 512])\n",
      "blocks.0.hook_resid_post torch.Size([1, 13, 512])\n",
      "blocks.1.hook_resid_pre torch.Size([1, 13, 512])\n",
      "blocks.1.ln1.hook_scale torch.Size([1, 13, 1])\n",
      "blocks.1.ln1.hook_normalized torch.Size([1, 13, 512])\n",
      "blocks.1.attn.hook_q torch.Size([1, 13, 8, 64])\n",
      "blocks.1.attn.hook_k torch.Size([1, 13, 8, 64])\n",
      "blocks.1.attn.hook_v torch.Size([1, 13, 8, 64])\n",
      "blocks.1.attn.hook_attn_scores torch.Size([1, 8, 13, 13])\n",
      "blocks.1.attn.hook_pattern torch.Size([1, 8, 13, 13])\n",
      "blocks.1.attn.hook_z torch.Size([1, 13, 8, 64])\n",
      "blocks.1.hook_attn_out torch.Size([1, 13, 512])\n",
      "blocks.1.hook_resid_post torch.Size([1, 13, 512])\n",
      "ln_final.hook_scale torch.Size([1, 13, 1])\n",
      "ln_final.hook_normalized torch.Size([1, 13, 512])\n"
     ]
    }
   ],
   "source": [
    "for param_name, param in cache.items():\n",
    "    print(param_name, param.shape)"
   ]
  },
  {
   "cell_type": "code",
   "execution_count": 22,
   "metadata": {
    "colab": {
     "base_uri": "https://localhost:8080/"
    },
    "execution": {
     "iopub.execute_input": "2024-11-23T16:41:33.740273Z",
     "iopub.status.busy": "2024-11-23T16:41:33.739449Z",
     "iopub.status.idle": "2024-11-23T16:41:34.813469Z",
     "shell.execute_reply": "2024-11-23T16:41:34.812316Z",
     "shell.execute_reply.started": "2024-11-23T16:41:33.740238Z"
    },
    "id": "3axxbyALudNv",
    "outputId": "594561f0-9e3c-4aae-dda7-940fe130cec2",
    "trusted": true
   },
   "outputs": [
    {
     "name": "stderr",
     "output_type": "stream",
     "text": [
      "huggingface/tokenizers: The current process just got forked, after parallelism has already been used. Disabling parallelism to avoid deadlocks...\n",
      "To disable this warning, you can either:\n",
      "\t- Avoid using `tokenizers` before the fork if possible\n",
      "\t- Explicitly set the environment variable TOKENIZERS_PARALLELISM=(true | false)\n"
     ]
    }
   ],
   "source": [
    "# %pip install kaleido\n",
    "!mkdir -p images/{MODEL}"
   ]
  },
  {
   "cell_type": "code",
   "execution_count": 23,
   "metadata": {
    "execution": {
     "iopub.execute_input": "2024-11-23T16:41:34.815958Z",
     "iopub.status.busy": "2024-11-23T16:41:34.815654Z",
     "iopub.status.idle": "2024-11-23T16:41:35.023385Z",
     "shell.execute_reply": "2024-11-23T16:41:35.022394Z",
     "shell.execute_reply.started": "2024-11-23T16:41:34.815929Z"
    },
    "id": "hAZZ_VKXudNv",
    "trusted": true
   },
   "outputs": [],
   "source": [
    "for l in [0,1]:\n",
    "  imshow(cache[\"pattern\", l].mean(dim=0)[:, -1, :], model=MODEL, title=f\"Average Attention Pattern per Head - Layer {l}\", xaxis=\"Token Index\", yaxis=\"Head\")"
   ]
  },
  {
   "cell_type": "code",
   "execution_count": 24,
   "metadata": {
    "execution": {
     "iopub.execute_input": "2024-11-23T16:41:35.111273Z",
     "iopub.status.busy": "2024-11-23T16:41:35.11096Z",
     "iopub.status.idle": "2024-11-23T16:41:36.020566Z",
     "shell.execute_reply": "2024-11-23T16:41:36.019842Z",
     "shell.execute_reply.started": "2024-11-23T16:41:35.111244Z"
    },
    "id": "NcGiP-kXudNv",
    "trusted": true
   },
   "outputs": [],
   "source": [
    "for l in range(0, 2):\n",
    "  for i in range(0, model.cfg.n_heads):\n",
    "    imshow(cache[\"pattern\", l][:, i].reshape(cache[\"pattern\", l].shape[2], cache[\"pattern\", l].shape[2]), model=MODEL, title=f\"Attention for Head {i}, Layer {l}\")"
   ]
  },
  {
   "cell_type": "code",
   "execution_count": 25,
   "metadata": {
    "colab": {
     "base_uri": "https://localhost:8080/",
     "height": 84
    },
    "id": "IzoS-0FKxNXb",
    "outputId": "0a319be2-ab1e-4bfc-a0ac-10e55962a5b8"
   },
   "outputs": [
    {
     "name": "stdout",
     "output_type": "stream",
     "text": [
      "Layer 0\n"
     ]
    },
    {
     "data": {
      "text/html": [
       "<div id=\"circuits-vis-dc9b68cc-ecad\" style=\"margin: 15px 0;\"/>\n",
       "    <script crossorigin type=\"module\">\n",
       "    import { render, AttentionPatterns } from \"https://unpkg.com/circuitsvis@1.43.2/dist/cdn/esm.js\";\n",
       "    render(\n",
       "      \"circuits-vis-dc9b68cc-ecad\",\n",
       "      AttentionPatterns,\n",
       "      {\"tokens\": [\"4\", \"4\", \",\", \"1\", \"9\", \"8\", \",\", \"1\", \"1\", \"0\", \"=>\", \"2\", \"2\"], \"attention\": [[[1.0, 0.0, 0.0, 0.0, 0.0, 0.0, 0.0, 0.0, 0.0, 0.0, 0.0, 0.0, 0.0], [0.868624746799469, 0.13137519359588623, 0.0, 0.0, 0.0, 0.0, 0.0, 0.0, 0.0, 0.0, 0.0, 0.0, 0.0], [0.36587196588516235, 0.3361333906650543, 0.2979946732521057, 0.0, 0.0, 0.0, 0.0, 0.0, 0.0, 0.0, 0.0, 0.0, 0.0], [0.16227667033672333, 0.20375452935695648, 0.5952886343002319, 0.03868021443486214, 0.0, 0.0, 0.0, 0.0, 0.0, 0.0, 0.0, 0.0, 0.0], [0.09801308065652847, 0.14369499683380127, 0.5546926259994507, 0.12613092362880707, 0.0774683728814125, 0.0, 0.0, 0.0, 0.0, 0.0, 0.0, 0.0, 0.0], [0.11709366738796234, 0.0849236249923706, 0.3202357292175293, 0.15380695462226868, 0.2397659868001938, 0.08417408168315887, 0.0, 0.0, 0.0, 0.0, 0.0, 0.0, 0.0], [0.06944026052951813, 0.044074658304452896, 0.18232311308383942, 0.04587255045771599, 0.28509485721588135, 0.21093013882637024, 0.16226445138454437, 0.0, 0.0, 0.0, 0.0, 0.0, 0.0], [0.034452132880687714, 0.01345285028219223, 0.09355462342500687, 0.027979768812656403, 0.09265077114105225, 0.18079020082950592, 0.5279344916343689, 0.02918514795601368, 0.0, 0.0, 0.0, 0.0, 0.0], [0.027459125965833664, 0.006036515347659588, 0.04759086295962334, 0.014440039172768593, 0.04761141538619995, 0.09583386778831482, 0.6557992696762085, 0.08129020035266876, 0.023938683792948723, 0.0, 0.0, 0.0, 0.0], [0.07615214586257935, 0.010288797318935394, 0.035497650504112244, 0.019433828070759773, 0.08527101576328278, 0.12756873667240143, 0.340000182390213, 0.167246475815773, 0.10265759378671646, 0.03588361665606499, 0.0, 0.0, 0.0], [0.05028313025832176, 0.01290220394730568, 0.020778747275471687, 0.015766853466629982, 0.06657705456018448, 0.10877717286348343, 0.12976190447807312, 0.11542689055204391, 0.18362443149089813, 0.24052584171295166, 0.05557575449347496, 0.0, 0.0], [0.034350331872701645, 0.0017921931575983763, 0.009573807939887047, 0.004275465849786997, 0.017564231529831886, 0.029055822640657425, 0.15090303122997284, 0.05093298479914665, 0.07945538312196732, 0.13431145250797272, 0.4625650644302368, 0.025220325216650963, 0.0], [0.033993806689977646, 0.0007820614264346659, 0.004602523520588875, 0.002434712601825595, 0.010605715215206146, 0.013447434641420841, 0.06947045028209686, 0.031682200729846954, 0.044921647757291794, 0.07893847674131393, 0.6101157069206238, 0.07571009546518326, 0.02329515479505062]], [[1.0, 0.0, 0.0, 0.0, 0.0, 0.0, 0.0, 0.0, 0.0, 0.0, 0.0, 0.0, 0.0], [0.6823778748512268, 0.3176220655441284, 0.0, 0.0, 0.0, 0.0, 0.0, 0.0, 0.0, 0.0, 0.0, 0.0, 0.0], [0.4290626347064972, 0.24531422555446625, 0.32562312483787537, 0.0, 0.0, 0.0, 0.0, 0.0, 0.0, 0.0, 0.0, 0.0, 0.0], [0.2878465950489044, 0.22882576286792755, 0.3538878262042999, 0.12943975627422333, 0.0, 0.0, 0.0, 0.0, 0.0, 0.0, 0.0, 0.0, 0.0], [0.24009935557842255, 0.1565699577331543, 0.36714664101600647, 0.11635522544384003, 0.11982882767915726, 0.0, 0.0, 0.0, 0.0, 0.0, 0.0, 0.0, 0.0], [0.1968546062707901, 0.14201967418193817, 0.3261173367500305, 0.10720851272344589, 0.11276667565107346, 0.11503324657678604, 0.0, 0.0, 0.0, 0.0, 0.0, 0.0, 0.0], [0.3176302909851074, 0.08310631662607193, 0.18079829216003418, 0.04347779229283333, 0.05699178948998451, 0.06985194236040115, 0.2481435239315033, 0.0, 0.0, 0.0, 0.0, 0.0, 0.0], [0.1646948605775833, 0.08512548357248306, 0.19699329137802124, 0.06401311606168747, 0.0799066349864006, 0.08332555741071701, 0.24820543825626373, 0.07773561030626297, 0.0, 0.0, 0.0, 0.0, 0.0], [0.1382066011428833, 0.07283534109592438, 0.18100568652153015, 0.05806540697813034, 0.07428004592657089, 0.0787903293967247, 0.25374582409858704, 0.07759396731853485, 0.06547676771879196, 0.0, 0.0, 0.0, 0.0], [0.12841205298900604, 0.052749063819646835, 0.17772947251796722, 0.048826124519109726, 0.05165249854326248, 0.06468508392572403, 0.2844950258731842, 0.0717429593205452, 0.061362482607364655, 0.05834515765309334, 0.0, 0.0, 0.0], [0.07071905583143234, 0.04449976235628128, 0.17165103554725647, 0.03713824227452278, 0.042052824050188065, 0.050877708941698074, 0.31936272978782654, 0.062014512717723846, 0.05525260046124458, 0.05858468636870384, 0.08784681558609009, 0.0, 0.0], [0.08107291907072067, 0.03371675685048103, 0.1206163838505745, 0.03484735265374184, 0.03917871415615082, 0.05076425150036812, 0.2257508784532547, 0.062188874930143356, 0.05602887272834778, 0.0692175030708313, 0.1670241504907608, 0.05959324538707733, 0.0], [0.08371327072381973, 0.029952043667435646, 0.10681848227977753, 0.030816340819001198, 0.03422363102436066, 0.044502388685941696, 0.20609262585639954, 0.05783548206090927, 0.05365592986345291, 0.0665973573923111, 0.16969363391399384, 0.060207340866327286, 0.05589139461517334]], [[1.0, 0.0, 0.0, 0.0, 0.0, 0.0, 0.0, 0.0, 0.0, 0.0, 0.0, 0.0, 0.0], [0.4369708299636841, 0.5630291700363159, 0.0, 0.0, 0.0, 0.0, 0.0, 0.0, 0.0, 0.0, 0.0, 0.0, 0.0], [0.6140612363815308, 0.2919612526893616, 0.09397750347852707, 0.0, 0.0, 0.0, 0.0, 0.0, 0.0, 0.0, 0.0, 0.0, 0.0], [0.10485588014125824, 0.4606045186519623, 0.025967001914978027, 0.40857258439064026, 0.0, 0.0, 0.0, 0.0, 0.0, 0.0, 0.0, 0.0, 0.0], [0.21977154910564423, 0.21267753839492798, 0.023477163165807724, 0.4009722173213959, 0.1431015282869339, 0.0, 0.0, 0.0, 0.0, 0.0, 0.0, 0.0, 0.0], [0.15206463634967804, 0.24646829068660736, 0.01635761745274067, 0.2796227037906647, 0.14116747677326202, 0.16431933641433716, 0.0, 0.0, 0.0, 0.0, 0.0, 0.0, 0.0], [0.4525269567966461, 0.11075099557638168, 0.046791646629571915, 0.2043152153491974, 0.05213373526930809, 0.07162149995565414, 0.06185995787382126, 0.0, 0.0, 0.0, 0.0, 0.0, 0.0], [0.08040491491556168, 0.18696948885917664, 0.014206445775926113, 0.2072983980178833, 0.11992678046226501, 0.15525856614112854, 0.015715669840574265, 0.22021973133087158, 0.0, 0.0, 0.0, 0.0, 0.0], [0.0636296421289444, 0.15420816838741302, 0.012268365360796452, 0.1591508537530899, 0.09347324818372726, 0.12661032378673553, 0.015323090367019176, 0.21711012721061707, 0.15822625160217285, 0.0, 0.0, 0.0, 0.0], [0.07563608884811401, 0.06040054187178612, 0.016917424276471138, 0.13595552742481232, 0.08604859560728073, 0.0801951065659523, 0.026969045400619507, 0.22634665668010712, 0.18253101408481598, 0.10900010913610458, 0.0, 0.0, 0.0], [0.45092159509658813, 0.029095834121108055, 0.0214528925716877, 0.05296328291296959, 0.018128324300050735, 0.02441263757646084, 0.04047979786992073, 0.09824173152446747, 0.09519381821155548, 0.08412498235702515, 0.08498506247997284, 0.0, 0.0], [0.05282752960920334, 0.0519871860742569, 0.010300562717020512, 0.1231837123632431, 0.04998261481523514, 0.05516890808939934, 0.012964121997356415, 0.17303968966007233, 0.1631344109773636, 0.0796867161989212, 0.06561712920665741, 0.1621074080467224, 0.0], [0.048589564859867096, 0.04407274350523949, 0.008967508561909199, 0.10128644853830338, 0.044849637895822525, 0.04755191504955292, 0.011045609600841999, 0.13452491164207458, 0.12234319001436234, 0.06422032415866852, 0.06168491020798683, 0.16749973595142365, 0.14336341619491577]], [[1.0, 0.0, 0.0, 0.0, 0.0, 0.0, 0.0, 0.0, 0.0, 0.0, 0.0, 0.0, 0.0], [0.8242206573486328, 0.17577938735485077, 0.0, 0.0, 0.0, 0.0, 0.0, 0.0, 0.0, 0.0, 0.0, 0.0, 0.0], [0.09018212556838989, 0.8897515535354614, 0.02006630226969719, 0.0, 0.0, 0.0, 0.0, 0.0, 0.0, 0.0, 0.0, 0.0, 0.0], [0.010979651473462582, 0.01577167771756649, 0.9640836119651794, 0.009165088646113873, 0.0, 0.0, 0.0, 0.0, 0.0, 0.0, 0.0, 0.0, 0.0], [0.04680225998163223, 0.002838700544089079, 0.5983006954193115, 0.24870888888835907, 0.10334952175617218, 0.0, 0.0, 0.0, 0.0, 0.0, 0.0, 0.0, 0.0], [0.011611604131758213, 0.0005222740583121777, 0.009506230242550373, 0.010111279785633087, 0.8968881368637085, 0.07136043906211853, 0.0, 0.0, 0.0, 0.0, 0.0, 0.0, 0.0], [0.039822932332754135, 0.00025686316075734794, 0.00014025137352291495, 0.0006285423296503723, 0.04307952895760536, 0.8922328352928162, 0.023839140310883522, 0.0, 0.0, 0.0, 0.0, 0.0, 0.0], [0.005442415364086628, 0.00013681930431630462, 0.00016896863235160708, 4.321982487454079e-05, 0.0006182496435940266, 0.02377903275191784, 0.9598463773727417, 0.009964934550225735, 0.0, 0.0, 0.0, 0.0, 0.0], [0.01610027253627777, 0.0005954843945801258, 0.0014791188295930624, 0.00010582542017800733, 0.0008788044797256589, 0.003386925673112273, 0.2944943606853485, 0.6463090181350708, 0.036650143563747406, 0.0, 0.0, 0.0, 0.0], [0.08155331760644913, 0.00027572925318963826, 0.011132918298244476, 0.00021099162404425442, 0.0011203666217625141, 0.0035804426297545433, 0.058560099452733994, 0.047295235097408295, 0.6626811623573303, 0.1335897445678711, 0.0, 0.0, 0.0], [0.1692030429840088, 0.00030728461570106447, 0.0019451737171038985, 0.0003092454862780869, 0.0002574971003923565, 0.0010918529005721211, 0.01437627524137497, 0.0013529738644137979, 0.035245563834905624, 0.6419061422348022, 0.13400495052337646, 0.0, 0.0], [0.012313984334468842, 0.00017669500084593892, 0.0004225936718285084, 0.000102701858850196, 0.00022072684078011662, 8.563084702473134e-05, 0.002952937502413988, 0.000230613790336065, 0.00024670283892191947, 0.016476400196552277, 0.950660765171051, 0.01611013524234295, 0.0], [0.021590927615761757, 9.659555507823825e-05, 0.001144164358265698, 0.00020034580666106194, 0.00318478187546134, 0.00043698534136638045, 0.0012896417174488306, 0.0006297752261161804, 0.000415781483752653, 0.0008758450858294964, 0.2344285100698471, 0.6905276775360107, 0.04517894983291626]], [[1.0, 0.0, 0.0, 0.0, 0.0, 0.0, 0.0, 0.0, 0.0, 0.0, 0.0, 0.0, 0.0], [0.9385583400726318, 0.061441708356142044, 0.0, 0.0, 0.0, 0.0, 0.0, 0.0, 0.0, 0.0, 0.0, 0.0, 0.0], [0.5322420597076416, 0.03241102397441864, 0.43534693121910095, 0.0, 0.0, 0.0, 0.0, 0.0, 0.0, 0.0, 0.0, 0.0, 0.0], [0.6233569383621216, 0.037334542721509933, 0.30488839745521545, 0.034420132637023926, 0.0, 0.0, 0.0, 0.0, 0.0, 0.0, 0.0, 0.0, 0.0], [0.4703539311885834, 0.030950317159295082, 0.44646984338760376, 0.026382235810160637, 0.025843584910035133, 0.0, 0.0, 0.0, 0.0, 0.0, 0.0, 0.0, 0.0], [0.5727533102035522, 0.03004685416817665, 0.32547879219055176, 0.024457138031721115, 0.025808323174715042, 0.021455535665154457, 0.0, 0.0, 0.0, 0.0, 0.0, 0.0, 0.0], [0.39938586950302124, 0.019280271604657173, 0.24987244606018066, 0.013951784931123257, 0.014357364736497402, 0.012329633347690105, 0.2908225655555725, 0.0, 0.0, 0.0, 0.0, 0.0, 0.0], [0.47581592202186584, 0.023704785853624344, 0.18916356563568115, 0.022218499332666397, 0.022000186145305634, 0.018632901832461357, 0.22581756114959717, 0.022646566852927208, 0.0, 0.0, 0.0, 0.0, 0.0], [0.4620470702648163, 0.023487858474254608, 0.18582235276699066, 0.02222263440489769, 0.022177517414093018, 0.018664134666323662, 0.22231760621070862, 0.02270546741783619, 0.020555350929498672, 0.0, 0.0, 0.0, 0.0], [0.3797106146812439, 0.021943839266896248, 0.2196621298789978, 0.020042307674884796, 0.017753595486283302, 0.015346137806773186, 0.2644517421722412, 0.020818153396248817, 0.018987396731972694, 0.02128409780561924, 0.0, 0.0, 0.0], [0.36390411853790283, 0.016486411914229393, 0.16422851383686066, 0.01218107808381319, 0.013441112823784351, 0.011812200769782066, 0.2018418312072754, 0.012595601379871368, 0.011546474881470203, 0.013301798142492771, 0.17866088449954987, 0.0, 0.0], [0.37088629603385925, 0.016294581815600395, 0.1506211906671524, 0.014515032060444355, 0.014918825589120388, 0.01284760981798172, 0.18500365316867828, 0.01519986242055893, 0.013792487792670727, 0.016946550458669662, 0.17595936357975006, 0.013014490716159344, 0.0], [0.36257392168045044, 0.01605411246418953, 0.15035861730575562, 0.0143129276111722, 0.014804345555603504, 0.01262632105499506, 0.1831924021244049, 0.014895770698785782, 0.013500095345079899, 0.016782211139798164, 0.17565377056598663, 0.012803544290363789, 0.012441989034414291]], [[1.0, 0.0, 0.0, 0.0, 0.0, 0.0, 0.0, 0.0, 0.0, 0.0, 0.0, 0.0, 0.0], [0.1928071826696396, 0.807192862033844, 0.0, 0.0, 0.0, 0.0, 0.0, 0.0, 0.0, 0.0, 0.0, 0.0, 0.0], [0.005763147491961718, 0.005686891730874777, 0.9885498881340027, 0.0, 0.0, 0.0, 0.0, 0.0, 0.0, 0.0, 0.0, 0.0, 0.0], [0.0334891751408577, 0.16572435200214386, 0.5686869025230408, 0.23209962248802185, 0.0, 0.0, 0.0, 0.0, 0.0, 0.0, 0.0, 0.0, 0.0], [0.021471809595823288, 0.028393732383847237, 0.047417111694812775, 0.532257616519928, 0.3704597055912018, 0.0, 0.0, 0.0, 0.0, 0.0, 0.0, 0.0, 0.0], [0.00728849321603775, 0.00822859350591898, 0.006546610966324806, 0.12783485651016235, 0.6208165884017944, 0.22928479313850403, 0.0, 0.0, 0.0, 0.0, 0.0, 0.0, 0.0], [0.00710179703310132, 0.00016021011106204242, 0.023303549736738205, 0.00012766732834279537, 0.0024514016695320606, 0.0019330953946337104, 0.964922308921814, 0.0, 0.0, 0.0, 0.0, 0.0, 0.0], [0.016444319859147072, 0.00899504590779543, 0.009298230521380901, 0.002649315632879734, 0.030299317091703415, 0.12955212593078613, 0.6307438611984253, 0.17201778292655945, 0.0, 0.0, 0.0, 0.0, 0.0], [0.027012430131435394, 0.010708882473409176, 0.013011574745178223, 0.003971942234784365, 0.03801534324884415, 0.06605322659015656, 0.23803937435150146, 0.30534273386001587, 0.2978445291519165, 0.0, 0.0, 0.0, 0.0], [0.07394429296255112, 0.008530264720320702, 0.002971616107970476, 0.006324409041553736, 0.04052116349339485, 0.0679490938782692, 0.022476891055703163, 0.10599955916404724, 0.3919953405857086, 0.2792873680591583, 0.0, 0.0, 0.0], [0.004806710872799158, 4.152990004513413e-05, 0.0006286842399276793, 3.159479456371628e-05, 9.970374958356842e-05, 0.00012393547513056546, 0.005794757977128029, 0.0002874644997064024, 0.0011592184891924262, 0.008177890442311764, 0.9788484573364258, 0.0, 0.0], [0.018141891807317734, 0.003284120000898838, 0.0024238175246864557, 0.011734171770513058, 0.013935212045907974, 0.019675036892294884, 0.018332453444600105, 0.08192938566207886, 0.12120138853788376, 0.34977149963378906, 0.06779346615076065, 0.2917776107788086, 0.0], [0.019398435950279236, 0.0013366363709792495, 0.0009691042359918356, 0.0054211788810789585, 0.01308908499777317, 0.01840517669916153, 0.010687374509871006, 0.05496318265795708, 0.07423900812864304, 0.10199114680290222, 0.02059014141559601, 0.30892834067344666, 0.36998116970062256]], [[1.0, 0.0, 0.0, 0.0, 0.0, 0.0, 0.0, 0.0, 0.0, 0.0, 0.0, 0.0, 0.0], [0.7410801649093628, 0.2589198052883148, 0.0, 0.0, 0.0, 0.0, 0.0, 0.0, 0.0, 0.0, 0.0, 0.0, 0.0], [0.8560829758644104, 0.007993214763700962, 0.13592378795146942, 0.0, 0.0, 0.0, 0.0, 0.0, 0.0, 0.0, 0.0, 0.0, 0.0], [0.31958621740341187, 0.3075597584247589, 0.08636901527643204, 0.2864850163459778, 0.0, 0.0, 0.0, 0.0, 0.0, 0.0, 0.0, 0.0, 0.0], [0.4641602337360382, 0.14968368411064148, 0.10222449898719788, 0.11362259089946747, 0.17030899226665497, 0.0, 0.0, 0.0, 0.0, 0.0, 0.0, 0.0, 0.0], [0.17120403051376343, 0.11901118606328964, 0.11239783465862274, 0.17575868964195251, 0.15785248577594757, 0.26377570629119873, 0.0, 0.0, 0.0, 0.0, 0.0, 0.0, 0.0], [0.6176930069923401, 0.00299705914221704, 0.10120116919279099, 0.006828319747000933, 0.00447001913562417, 0.007392154540866613, 0.2594183385372162, 0.0, 0.0, 0.0, 0.0, 0.0, 0.0], [0.15842090547084808, 0.0997876524925232, 0.02637503482401371, 0.0906941145658493, 0.11311950534582138, 0.3732150197029114, 0.0458243228495121, 0.0925634577870369, 0.0, 0.0, 0.0, 0.0, 0.0], [0.17470788955688477, 0.08908376097679138, 0.020367657765746117, 0.08146286755800247, 0.08574075996875763, 0.2926323115825653, 0.035961512476205826, 0.1163855716586113, 0.10365769267082214, 0.0, 0.0, 0.0, 0.0], [0.1325027197599411, 0.048516660928726196, 0.020412426441907883, 0.11207471787929535, 0.024557387456297874, 0.058878663927316666, 0.03290088474750519, 0.20858193933963776, 0.23773564398288727, 0.12383893877267838, 0.0, 0.0, 0.0], [0.12428246438503265, 0.01245243288576603, 0.11750593781471252, 0.01870666816830635, 0.010343782603740692, 0.017332209274172783, 0.20183706283569336, 0.02867303416132927, 0.03255816921591759, 0.03236732259392738, 0.40394094586372375, 0.0, 0.0], [0.05245436728000641, 0.023734796792268753, 0.010297808796167374, 0.020879779011011124, 0.01679464429616928, 0.04812518134713173, 0.013765936717391014, 0.025877192616462708, 0.034810200333595276, 0.021563787013292313, 0.6683785319328308, 0.06331774592399597, 0.0], [0.051531679928302765, 0.01991642825305462, 0.010477252304553986, 0.020175375044345856, 0.016315968707203865, 0.04356224462389946, 0.012785404920578003, 0.02228417992591858, 0.02774573676288128, 0.01656736619770527, 0.6131897568702698, 0.0763675719499588, 0.06908100098371506]], [[1.0, 0.0, 0.0, 0.0, 0.0, 0.0, 0.0, 0.0, 0.0, 0.0, 0.0, 0.0, 0.0], [0.9272695779800415, 0.07273045927286148, 0.0, 0.0, 0.0, 0.0, 0.0, 0.0, 0.0, 0.0, 0.0, 0.0, 0.0], [0.17828042805194855, 0.03389132395386696, 0.7878282070159912, 0.0, 0.0, 0.0, 0.0, 0.0, 0.0, 0.0, 0.0, 0.0, 0.0], [0.01328241266310215, 0.005262015387415886, 0.009307355619966984, 0.9721481204032898, 0.0, 0.0, 0.0, 0.0, 0.0, 0.0, 0.0, 0.0, 0.0], [0.03003181517124176, 0.014327541925013065, 0.006155532319098711, 0.004818534012883902, 0.9446664452552795, 0.0, 0.0, 0.0, 0.0, 0.0, 0.0, 0.0, 0.0], [0.1266259253025055, 0.058276496827602386, 0.006540083792060614, 0.004498640540987253, 0.11560789495706558, 0.6884509325027466, 0.0, 0.0, 0.0, 0.0, 0.0, 0.0, 0.0], [0.0555448941886425, 0.017062922939658165, 0.702422022819519, 0.02579575590789318, 0.010585510171949863, 0.004010054282844067, 0.18457886576652527, 0.0, 0.0, 0.0, 0.0, 0.0, 0.0], [0.0029696437995880842, 0.0014942270936444402, 0.004198842216283083, 0.6615566611289978, 0.00953761488199234, 0.002275077160447836, 0.0029575920198112726, 0.3150103688240051, 0.0, 0.0, 0.0, 0.0, 0.0], [0.0019355957629159093, 0.0010661351261660457, 0.0029675124678760767, 0.4851810038089752, 0.0069336676970124245, 0.0017936535878106952, 0.0031737694516777992, 0.2952841520309448, 0.20166446268558502, 0.0, 0.0, 0.0, 0.0], [0.051297832280397415, 0.014306553639471531, 0.004758658818900585, 0.004361475817859173, 0.05737920105457306, 0.03170749917626381, 0.004779910668730736, 0.003478238359093666, 0.0022105646785348654, 0.8257201313972473, 0.0, 0.0, 0.0], [0.013945289887487888, 0.001834558555856347, 0.010861685499548912, 0.003690676996484399, 0.0006624899688176811, 0.0006989288958720863, 0.008704856969416142, 0.0032817861065268517, 0.0025562988594174385, 0.0008402838138863444, 0.9529231190681458, 0.0, 0.0], [0.03131112828850746, 0.02080524154007435, 0.005390232428908348, 0.025243978947401047, 0.006328602321445942, 0.009615352377295494, 0.007914057932794094, 0.025136355310678482, 0.020130697637796402, 0.007975326851010323, 0.0019072998547926545, 0.8382417559623718, 0.0], [0.014506403356790543, 0.009876614436507225, 0.0026600356213748455, 0.012790250591933727, 0.00291105336509645, 0.004061667248606682, 0.0034542016219347715, 0.012047351337969303, 0.009144478477537632, 0.003981901332736015, 0.001055153668858111, 0.491921067237854, 0.431589812040329]]]}\n",
       "    )\n",
       "    </script>"
      ],
      "text/plain": [
       "<circuitsvis.utils.render.RenderedHTML at 0x7f983f70fcd0>"
      ]
     },
     "metadata": {},
     "output_type": "display_data"
    },
    {
     "name": "stdout",
     "output_type": "stream",
     "text": [
      "Layer 1\n"
     ]
    },
    {
     "data": {
      "text/html": [
       "<div id=\"circuits-vis-2638eafd-c7b5\" style=\"margin: 15px 0;\"/>\n",
       "    <script crossorigin type=\"module\">\n",
       "    import { render, AttentionPatterns } from \"https://unpkg.com/circuitsvis@1.43.2/dist/cdn/esm.js\";\n",
       "    render(\n",
       "      \"circuits-vis-2638eafd-c7b5\",\n",
       "      AttentionPatterns,\n",
       "      {\"tokens\": [\"4\", \"4\", \",\", \"1\", \"9\", \"8\", \",\", \"1\", \"1\", \"0\", \"=>\", \"2\", \"2\"], \"attention\": [[[1.0, 0.0, 0.0, 0.0, 0.0, 0.0, 0.0, 0.0, 0.0, 0.0, 0.0, 0.0, 0.0], [0.1014680415391922, 0.898531973361969, 0.0, 0.0, 0.0, 0.0, 0.0, 0.0, 0.0, 0.0, 0.0, 0.0, 0.0], [0.5034643411636353, 0.43188175559043884, 0.0646539255976677, 0.0, 0.0, 0.0, 0.0, 0.0, 0.0, 0.0, 0.0, 0.0, 0.0], [0.25306665897369385, 0.5316986441612244, 0.09537114202976227, 0.11986357718706131, 0.0, 0.0, 0.0, 0.0, 0.0, 0.0, 0.0, 0.0, 0.0], [0.016363419592380524, 0.039958346635103226, 0.9290200471878052, 0.004404450301080942, 0.01025371067225933, 0.0, 0.0, 0.0, 0.0, 0.0, 0.0, 0.0, 0.0], [0.0060365572571754456, 0.0307422187179327, 0.8301656246185303, 0.0005453892517834902, 0.008233517408370972, 0.12427674978971481, 0.0, 0.0, 0.0, 0.0, 0.0, 0.0, 0.0], [0.598771870136261, 0.2830211818218231, 0.04953429102897644, 0.0342692993581295, 0.015419842675328255, 0.007424752227962017, 0.011558801867067814, 0.0, 0.0, 0.0, 0.0, 0.0, 0.0], [0.27773213386535645, 0.28321030735969543, 0.12436000257730484, 0.11186981946229935, 0.11809045076370239, 0.026636410504579544, 0.021965336054563522, 0.036135513335466385, 0.0, 0.0, 0.0, 0.0, 0.0], [0.012586277909576893, 0.029644928872585297, 0.5594766736030579, 0.0024252417497336864, 0.009740971028804779, 0.01951102912425995, 0.35185185074806213, 0.001021469128318131, 0.013741585426032543, 0.0, 0.0, 0.0, 0.0], [0.005904149264097214, 0.005643282551318407, 0.4098964333534241, 8.042080298764631e-05, 0.0006047445349395275, 0.00962874572724104, 0.5612403154373169, 4.814397470909171e-05, 0.0011599059216678143, 0.0057938736863434315, 0.0, 0.0, 0.0], [0.13160766661167145, 0.04198317974805832, 0.055868398398160934, 0.00828773807734251, 0.1514236032962799, 0.2483445554971695, 0.09452755749225616, 0.007487477269023657, 0.06438212096691132, 0.193764790892601, 0.0023229438811540604, 0.0, 0.0], [0.021543072536587715, 0.04639993980526924, 0.27351808547973633, 0.007789878640323877, 0.04798009246587753, 0.09741777181625366, 0.39472177624702454, 0.005833987612277269, 0.08947344869375229, 0.012674154713749886, 0.0021821025293320417, 0.0004657369863707572, 0.0], [0.004955085925757885, 0.010419893078505993, 0.2930230498313904, 0.0001803036720957607, 0.001445474219508469, 0.014799530617892742, 0.632522463798523, 0.000163859614985995, 0.0029591694474220276, 0.007655296474695206, 0.01947241835296154, 5.166072878637351e-05, 0.012351774610579014]], [[1.0, 0.0, 0.0, 0.0, 0.0, 0.0, 0.0, 0.0, 0.0, 0.0, 0.0, 0.0, 0.0], [0.18434260785579681, 0.815657377243042, 0.0, 0.0, 0.0, 0.0, 0.0, 0.0, 0.0, 0.0, 0.0, 0.0, 0.0], [0.007625067140907049, 0.0011013010516762733, 0.9912735819816589, 0.0, 0.0, 0.0, 0.0, 0.0, 0.0, 0.0, 0.0, 0.0, 0.0], [1.4403261729967198e-06, 1.3859119007975096e-06, 0.014906531199812889, 0.9850906133651733, 0.0, 0.0, 0.0, 0.0, 0.0, 0.0, 0.0, 0.0, 0.0], [1.7379759810864925e-05, 1.917354438774055e-06, 0.05442134663462639, 0.20045539736747742, 0.7451039552688599, 0.0, 0.0, 0.0, 0.0, 0.0, 0.0, 0.0, 0.0], [0.00012894472456537187, 5.597571362159215e-05, 0.39717164635658264, 0.027619194239377975, 0.5358045697212219, 0.0392196886241436, 0.0, 0.0, 0.0, 0.0, 0.0, 0.0, 0.0], [0.0006609403644688427, 4.496473047765903e-05, 0.042269106954336166, 0.011330744251608849, 0.0022821577731519938, 0.00025662375264801085, 0.9431555271148682, 0.0, 0.0, 0.0, 0.0, 0.0, 0.0], [1.194007950289233e-07, 4.1647894022389664e-08, 0.0002834716869983822, 0.024226373061537743, 0.00406379671767354, 1.9117785996058956e-05, 0.010138625279068947, 0.961268424987793, 0.0, 0.0, 0.0, 0.0, 0.0], [2.7488265459396644e-06, 4.5992777586434386e-07, 0.001205298351123929, 0.015987759456038475, 0.008892111480236053, 0.00010263987496728078, 0.05902470275759697, 0.842585027217865, 0.07219932228326797, 0.0, 0.0, 0.0, 0.0], [0.0009397139656357467, 2.5151241061394103e-05, 0.022143881767988205, 0.0004406754160299897, 0.0003718848165590316, 0.00019402397447265685, 0.9473775029182434, 0.013387124985456467, 0.005407226737588644, 0.009712859988212585, 0.0, 0.0, 0.0], [5.9040852647740394e-05, 3.6878334412904223e-06, 0.0010021488415077329, 4.49675371783087e-06, 1.6059653944466845e-06, 1.0224491234112065e-05, 0.025505894795060158, 6.55146359349601e-05, 5.512357529369183e-05, 0.0005719350301660597, 0.9727204442024231, 0.0, 0.0], [9.021436540024297e-07, 2.7869775820477116e-08, 0.0002345103130210191, 1.4075718354433775e-05, 5.0117446335207205e-06, 1.072654185918509e-06, 0.02045026794075966, 0.0005741173517890275, 0.00014524502330459654, 0.00010285604366799816, 0.9783194661140442, 0.00015245053509715945, 0.0], [5.897028586332453e-06, 9.64431876582239e-08, 0.00024386010773014277, 3.325764282635646e-06, 1.101673774428491e-06, 7.664204417778819e-07, 0.020474063232541084, 0.00014372194709721953, 8.037857332965359e-05, 0.00015993849956430495, 0.9788441061973572, 2.5567665943526663e-05, 1.713841083983425e-05]], [[1.0, 0.0, 0.0, 0.0, 0.0, 0.0, 0.0, 0.0, 0.0, 0.0, 0.0, 0.0, 0.0], [0.0904453843832016, 0.909554660320282, 0.0, 0.0, 0.0, 0.0, 0.0, 0.0, 0.0, 0.0, 0.0, 0.0, 0.0], [0.08157289028167725, 0.2227613776922226, 0.6956656575202942, 0.0, 0.0, 0.0, 0.0, 0.0, 0.0, 0.0, 0.0, 0.0, 0.0], [6.614485300815431e-06, 7.312701927730814e-05, 0.0028638620860874653, 0.9970564842224121, 0.0, 0.0, 0.0, 0.0, 0.0, 0.0, 0.0, 0.0, 0.0], [0.07401373237371445, 0.01607917621731758, 0.01159533578902483, 0.6799464225769043, 0.2183653563261032, 0.0, 0.0, 0.0, 0.0, 0.0, 0.0, 0.0, 0.0], [0.16904833912849426, 0.1279391497373581, 0.025140374898910522, 0.061662886291742325, 0.1821097582578659, 0.4340995252132416, 0.0, 0.0, 0.0, 0.0, 0.0, 0.0, 0.0], [0.001796591212041676, 0.0031033491250127554, 0.008584179915487766, 0.29171642661094666, 0.3270776569843292, 0.16706416010856628, 0.20065762102603912, 0.0, 0.0, 0.0, 0.0, 0.0, 0.0], [4.398863211463322e-07, 3.0665687518194318e-06, 7.029865810181946e-05, 0.07544952630996704, 0.12294940650463104, 0.0034461249597370625, 0.0013027989771217108, 0.7967782616615295, 0.0, 0.0, 0.0, 0.0, 0.0], [0.0023648743517696857, 0.0019557352643460035, 0.0012779402313753963, 0.05997784808278084, 0.05295759066939354, 0.032423488795757294, 0.006633282173424959, 0.21265234053134918, 0.6297568678855896, 0.0, 0.0, 0.0, 0.0], [0.4151422679424286, 0.055332258343696594, 0.0017179603455588222, 0.02775386907160282, 0.01918943040072918, 0.11705435812473297, 0.015074241906404495, 0.06573982536792755, 0.0496298223733902, 0.2333659678697586, 0.0, 0.0, 0.0], [0.0010887549724429846, 0.0014805980026721954, 0.004286289680749178, 0.003358274232596159, 0.0419900119304657, 0.46220862865448, 0.26432469487190247, 0.008418833836913109, 0.003990428987890482, 0.20172613859176636, 0.007127276621758938, 0.0, 0.0], [0.0054321070201694965, 0.0008430800517089665, 0.0010627569863572717, 0.10222166776657104, 0.016012845560908318, 0.00161481904797256, 0.010909284465014935, 0.6259040832519531, 0.027307024225592613, 0.014317641034722328, 0.0005202885367907584, 0.19385437667369843, 0.0], [0.7603332996368408, 0.033439066261053085, 0.005600325763225555, 0.03490477055311203, 0.0032718945294618607, 0.0029393057338893414, 0.019438790157437325, 0.08222917467355728, 0.011499235406517982, 0.009504606015980244, 0.0011817944468930364, 0.02990955114364624, 0.005748186260461807]], [[1.0, 0.0, 0.0, 0.0, 0.0, 0.0, 0.0, 0.0, 0.0, 0.0, 0.0, 0.0, 0.0], [0.14967507123947144, 0.8503249883651733, 0.0, 0.0, 0.0, 0.0, 0.0, 0.0, 0.0, 0.0, 0.0, 0.0, 0.0], [0.018923303112387657, 0.008379855193197727, 0.9726969003677368, 0.0, 0.0, 0.0, 0.0, 0.0, 0.0, 0.0, 0.0, 0.0, 0.0], [0.0015565325738862157, 0.00543421832844615, 0.9713696241378784, 0.021639591082930565, 0.0, 0.0, 0.0, 0.0, 0.0, 0.0, 0.0, 0.0, 0.0], [0.009362137876451015, 0.010499841533601284, 0.8312580585479736, 0.062453266233205795, 0.08642680943012238, 0.0, 0.0, 0.0, 0.0, 0.0, 0.0, 0.0, 0.0], [0.02725660800933838, 0.03312428295612335, 0.6929674744606018, 0.052731238305568695, 0.12671048939228058, 0.06720995903015137, 0.0, 0.0, 0.0, 0.0, 0.0, 0.0, 0.0], [0.26360735297203064, 0.05382009223103523, 0.3085997402667999, 0.005215970799326897, 0.001426761387847364, 0.002008571522310376, 0.36532145738601685, 0.0, 0.0, 0.0, 0.0, 0.0, 0.0], [0.08678161352872849, 0.13664846122264862, 0.4063066840171814, 0.04608340933918953, 0.03426676616072655, 0.03892848640680313, 0.23001578450202942, 0.020968768745660782, 0.0, 0.0, 0.0, 0.0, 0.0], [0.295516699552536, 0.2699504494667053, 0.12396411597728729, 0.05834440514445305, 0.049838460981845856, 0.057111650705337524, 0.06999074667692184, 0.026003967970609665, 0.04927941784262657, 0.0, 0.0, 0.0, 0.0], [0.800076961517334, 0.1629219502210617, 0.005472071468830109, 0.003248035442084074, 0.004087472800165415, 0.012635060586035252, 0.004994049668312073, 0.0015548986848443747, 0.0017442627577111125, 0.003265160834416747, 0.0, 0.0, 0.0], [0.01862446591258049, 0.00332692195661366, 0.00020414557366166264, 0.00021522256429307163, 0.0003801402635872364, 0.0002297412429470569, 0.00027554386178962886, 0.0001241175486939028, 7.04965423210524e-05, 0.000261584238614887, 0.9762876629829407, 0.0, 0.0], [2.7890123419638257e-06, 3.75478771275084e-06, 0.0007698357221670449, 2.346972905797884e-05, 7.09926534909755e-05, 1.1460704627097584e-05, 0.002920205006375909, 5.0520917284302413e-05, 5.294829315971583e-05, 4.80699454783462e-05, 0.9890629649162292, 0.006983052473515272, 0.0], [0.00016136163321789354, 0.00010491052671568468, 0.008874885737895966, 0.00012278262875042856, 0.00016086794494185597, 8.41835790197365e-05, 0.018465016037225723, 0.00016976933693513274, 0.00014245288912206888, 0.00014077097875997424, 0.9584617018699646, 0.006180121563374996, 0.0069311875849962234]], [[1.0, 0.0, 0.0, 0.0, 0.0, 0.0, 0.0, 0.0, 0.0, 0.0, 0.0, 0.0, 0.0], [0.08491609990596771, 0.9150838851928711, 0.0, 0.0, 0.0, 0.0, 0.0, 0.0, 0.0, 0.0, 0.0, 0.0, 0.0], [0.005310591775923967, 0.008579257875680923, 0.9861100912094116, 0.0, 0.0, 0.0, 0.0, 0.0, 0.0, 0.0, 0.0, 0.0, 0.0], [1.3121324116127653e-07, 1.36534890771145e-06, 0.9997426867485046, 0.00025587648269720376, 0.0, 0.0, 0.0, 0.0, 0.0, 0.0, 0.0, 0.0, 0.0], [0.00017947348533198237, 0.00020478619262576103, 0.9176791906356812, 0.004511009901762009, 0.07742556184530258, 0.0, 0.0, 0.0, 0.0, 0.0, 0.0, 0.0, 0.0], [0.21838155388832092, 0.10628055036067963, 0.0006689875153824687, 0.0030173694249242544, 0.1555093377828598, 0.5161421895027161, 0.0, 0.0, 0.0, 0.0, 0.0, 0.0, 0.0], [0.001098060980439186, 0.0009149076649919152, 0.05167550966143608, 0.006165164522826672, 0.026075512170791626, 0.008582975715398788, 0.9054879546165466, 0.0, 0.0, 0.0, 0.0, 0.0, 0.0], [8.753044511422559e-09, 3.039129836679422e-08, 0.020971300080418587, 3.2885536711546592e-06, 9.976954061130527e-06, 3.3556749258423224e-05, 0.9789438247680664, 3.7927569792373106e-05, 0.0, 0.0, 0.0, 0.0, 0.0], [0.00013526747352443635, 0.00013355967530515045, 0.04827667772769928, 0.0015247967094182968, 0.009931257925927639, 0.018754005432128906, 0.8836582899093628, 0.008700215257704258, 0.02888585440814495, 0.0, 0.0, 0.0, 0.0], [0.11346746981143951, 0.014902369119226933, 0.00742378830909729, 0.00180762296076864, 0.01667306199669838, 0.0632927417755127, 0.06401491165161133, 0.00468683335930109, 0.023765796795487404, 0.6899653673171997, 0.0, 0.0, 0.0], [0.000559284002520144, 0.0003136320738121867, 3.5635453059512656e-06, 3.4735774079308612e-06, 0.000574740523006767, 0.006957734003663063, 1.7432388631277718e-05, 6.673369171039667e-06, 0.000136810980620794, 0.013799911364912987, 0.9776265621185303, 0.0, 0.0], [2.7929751013289206e-05, 1.0829732673300896e-05, 0.012124726548790932, 4.691846334026195e-05, 8.470142347505316e-05, 0.0009011136135086417, 0.3242558240890503, 0.00039282022044062614, 0.0008001604001037776, 0.008124778047204018, 0.6524323225021362, 0.0007979291840456426, 0.0], [0.019556934013962746, 0.0015564165078103542, 0.0017687698127701879, 0.00011999884009128436, 0.0003123758651781827, 0.003347322577610612, 0.016072779893875122, 0.0003918717848137021, 0.0022834832780063152, 0.021146168932318687, 0.7298121452331543, 0.06349406391382217, 0.14013762772083282]], [[1.0, 0.0, 0.0, 0.0, 0.0, 0.0, 0.0, 0.0, 0.0, 0.0, 0.0, 0.0, 0.0], [0.799137532711029, 0.20086248219013214, 0.0, 0.0, 0.0, 0.0, 0.0, 0.0, 0.0, 0.0, 0.0, 0.0, 0.0], [0.8266100287437439, 0.16795262694358826, 0.005437345243990421, 0.0, 0.0, 0.0, 0.0, 0.0, 0.0, 0.0, 0.0, 0.0, 0.0], [0.11439517140388489, 0.01963222585618496, 0.025169121101498604, 0.8408033847808838, 0.0, 0.0, 0.0, 0.0, 0.0, 0.0, 0.0, 0.0, 0.0], [0.0016259766416624188, 0.0003834438684862107, 0.07369934022426605, 0.2147497981786728, 0.7095414996147156, 0.0, 0.0, 0.0, 0.0, 0.0, 0.0, 0.0, 0.0], [0.006891967263072729, 0.0013845599023625255, 0.6217826008796692, 0.01781172677874565, 0.34855127334594727, 0.003577826777473092, 0.0, 0.0, 0.0, 0.0, 0.0, 0.0, 0.0], [0.7118048667907715, 0.15416114032268524, 0.005868775770068169, 0.03244057297706604, 0.03483656048774719, 0.05200420692563057, 0.008883935399353504, 0.0, 0.0, 0.0, 0.0, 0.0, 0.0], [0.10435399413108826, 0.014595789834856987, 0.015585747547447681, 0.4833607077598572, 0.025643663480877876, 0.0008837765781208873, 0.0345274992287159, 0.321048766374588, 0.0, 0.0, 0.0, 0.0, 0.0], [0.012898135930299759, 0.0016358147840946913, 0.07947700470685959, 0.16676703095436096, 0.028024574741721153, 0.00069891766179353, 0.3330933153629303, 0.3624931275844574, 0.014912056736648083, 0.0, 0.0, 0.0, 0.0], [0.0033259207848459482, 0.00025539682246744633, 0.10629963129758835, 0.005611421540379524, 0.010575905442237854, 0.00021155743161216378, 0.8381143808364868, 0.02477003075182438, 0.005525841377675533, 0.0053098443895578384, 0.0, 0.0, 0.0], [0.008527550846338272, 0.001655260450206697, 0.002824235474690795, 0.00037146100657992065, 0.0074189817532896996, 0.006272919476032257, 0.012027137912809849, 0.0010349740041419864, 0.007388782687485218, 0.016985684633255005, 0.935492992401123, 0.0, 0.0], [0.0003997029853053391, 3.3018499379977584e-05, 0.01871759444475174, 0.025801794603466988, 0.005672701634466648, 2.3690383386565372e-05, 0.2980601489543915, 0.0542227104306221, 0.011802015826106071, 0.0037167039699852467, 0.27435657382011414, 0.3071933090686798, 0.0], [0.00017093023052439094, 1.3503453374141827e-05, 0.00570276053622365, 0.0008687563822604716, 0.0009429182973690331, 2.5259067115257494e-05, 0.10897766798734665, 0.0032325286883860826, 0.0026267555076628923, 0.005062163341790438, 0.7226034998893738, 0.11782674491405487, 0.03194647654891014]], [[1.0, 0.0, 0.0, 0.0, 0.0, 0.0, 0.0, 0.0, 0.0, 0.0, 0.0, 0.0, 0.0], [0.9212635159492493, 0.0787365511059761, 0.0, 0.0, 0.0, 0.0, 0.0, 0.0, 0.0, 0.0, 0.0, 0.0, 0.0], [0.9409178495407104, 0.032059233635663986, 0.027022957801818848, 0.0, 0.0, 0.0, 0.0, 0.0, 0.0, 0.0, 0.0, 0.0, 0.0], [0.33001789450645447, 0.03484049811959267, 0.1256060153245926, 0.5095356106758118, 0.0, 0.0, 0.0, 0.0, 0.0, 0.0, 0.0, 0.0, 0.0], [0.07883387058973312, 0.02707000821828842, 0.8894238471984863, 8.788185368757695e-05, 0.004584394861012697, 0.0, 0.0, 0.0, 0.0, 0.0, 0.0, 0.0, 0.0], [0.09848777949810028, 0.010201451368629932, 0.890271008014679, 9.488676369073801e-07, 2.0891839085379615e-05, 0.0010179810924455523, 0.0, 0.0, 0.0, 0.0, 0.0, 0.0, 0.0], [0.926840603351593, 0.01694486476480961, 0.02739509381353855, 0.010367389768362045, 0.0003120664623565972, 2.563448560977122e-06, 0.018137434497475624, 0.0, 0.0, 0.0, 0.0, 0.0, 0.0], [0.08943401277065277, 0.007232195232063532, 0.026252731680870056, 0.2226964682340622, 0.3577435314655304, 0.0061308350414037704, 0.019600456580519676, 0.2709098160266876, 0.0, 0.0, 0.0, 0.0, 0.0], [0.07343414425849915, 0.01895085535943508, 0.29131531715393066, 1.1896437172254082e-05, 0.007736071478575468, 0.3057136535644531, 0.06685298681259155, 2.7445250907476293e-06, 0.23598229885101318, 0.0, 0.0, 0.0, 0.0], [0.1155453771352768, 0.013868954963982105, 0.742468535900116, 2.3790367009723923e-08, 1.297859398619039e-05, 0.004135759547352791, 0.09495840966701508, 5.791819912559504e-09, 8.414293006353546e-06, 0.02900153025984764, 0.0, 0.0, 0.0], [0.8175771236419678, 0.0077697825618088245, 0.010530888102948666, 0.004993870388716459, 0.00011355101742083207, 1.2376530094115878e-06, 0.01740027591586113, 0.011532005853950977, 3.56192764172647e-08, 2.0371712707856204e-06, 0.1300792247056961, 0.0, 0.0], [0.12580911815166473, 0.024229615926742554, 0.3537423312664032, 0.07030636072158813, 0.05311230570077896, 0.018401041626930237, 0.2433248907327652, 0.05448919162154198, 0.03486642986536026, 0.0011704933131113648, 0.0016776763368397951, 0.018870601430535316, 0.0], [0.02497399039566517, 0.006555602420121431, 0.7409530282020569, 3.876590199070051e-05, 0.00021838652901351452, 0.002171426545828581, 0.216940239071846, 1.4848795217403676e-05, 0.0001767885114531964, 0.0002211798564530909, 0.0005711627891287208, 1.93250052689109e-05, 0.007145239040255547]], [[1.0, 0.0, 0.0, 0.0, 0.0, 0.0, 0.0, 0.0, 0.0, 0.0, 0.0, 0.0, 0.0], [0.2477303445339203, 0.7522696852684021, 0.0, 0.0, 0.0, 0.0, 0.0, 0.0, 0.0, 0.0, 0.0, 0.0, 0.0], [0.3852737545967102, 0.5550392270088196, 0.0596870519220829, 0.0, 0.0, 0.0, 0.0, 0.0, 0.0, 0.0, 0.0, 0.0, 0.0], [0.34675344824790955, 0.44749557971954346, 0.17785611748695374, 0.027894873172044754, 0.0, 0.0, 0.0, 0.0, 0.0, 0.0, 0.0, 0.0, 0.0], [0.04152993857860565, 0.10311142355203629, 0.8490376472473145, 0.003224870190024376, 0.0030961737502366304, 0.0, 0.0, 0.0, 0.0, 0.0, 0.0, 0.0, 0.0], [0.01263472717255354, 0.041525643318891525, 0.8731977939605713, 0.0026426329277455807, 0.001658658729866147, 0.06834057718515396, 0.0, 0.0, 0.0, 0.0, 0.0, 0.0, 0.0], [0.3653082847595215, 0.41720443964004517, 0.04200519621372223, 0.03808227553963661, 0.06684044003486633, 0.03845886141061783, 0.03210048750042915, 0.0, 0.0, 0.0, 0.0, 0.0, 0.0], [0.27660971879959106, 0.2805883586406708, 0.1351165473461151, 0.01471860520541668, 0.020177464932203293, 0.11294154077768326, 0.15198710560798645, 0.007860695011913776, 0.0, 0.0, 0.0, 0.0, 0.0], [0.036641720682382584, 0.07535899430513382, 0.28374332189559937, 0.006850825157016516, 0.005707896314561367, 0.11407037079334259, 0.4445352554321289, 0.005526975262910128, 0.027564626187086105, 0.0, 0.0, 0.0, 0.0], [0.00641122879460454, 0.011756321415305138, 0.3577430844306946, 0.00014902997645549476, 0.00013828733062837273, 0.015514716506004333, 0.601220965385437, 0.0001319052535109222, 0.001664001727476716, 0.005270359106361866, 0.0, 0.0, 0.0], [0.031041063368320465, 0.06202811375260353, 0.24922266602516174, 0.004934841301292181, 0.010347648523747921, 0.2542397379875183, 0.29145169258117676, 0.004736899398267269, 0.021049506962299347, 0.0421377569437027, 0.0288100466132164, 0.0, 0.0], [0.010948206298053265, 0.02755715511739254, 0.1867271214723587, 0.005988026037812233, 0.017860140651464462, 0.19257637858390808, 0.43394145369529724, 0.005980326794087887, 0.03964737057685852, 0.043876003473997116, 0.03312759846448898, 0.0017702090553939342, 0.0], [0.015034294687211514, 0.04241468012332916, 0.19507093727588654, 0.021060938015580177, 0.02837805077433586, 0.10167121887207031, 0.3810453414916992, 0.02115578018128872, 0.039759110659360886, 0.026510439813137054, 0.047417737543582916, 0.012039399705827236, 0.06844205409288406]]]}\n",
       "    )\n",
       "    </script>"
      ],
      "text/plain": [
       "<circuitsvis.utils.render.RenderedHTML at 0x7f983f1585b0>"
      ]
     },
     "metadata": {},
     "output_type": "display_data"
    }
   ],
   "source": [
    "\n",
    "tokens = model.to_tokens(test_datapoints[-50].split('\\n')[0], prepend_bos=False)\n",
    "original_logits, cache = model.run_with_cache(tokens, remove_batch_dim=True)\n",
    "str_tokens = model.to_str_tokens(test_datapoints[-50].split('\\n')[0], prepend_bos=False)\n",
    "for l in range(model.cfg.n_layers):\n",
    "  print('Layer ' + str(l))\n",
    "  attention_pattern = cache[\"pattern\", l, \"attn\"]\n",
    "  display(cv.attention.attention_patterns(tokens=str_tokens, attention=attention_pattern))"
   ]
  },
  {
   "cell_type": "code",
   "execution_count": 26,
   "metadata": {
    "colab": {
     "base_uri": "https://localhost:8080/"
    },
    "id": "OVLx7SNbxhsl",
    "outputId": "828bcb78-b754-4c2e-c643-868b01fa582d"
   },
   "outputs": [],
   "source": [
    "# We make a tensor to store the induction score for each head. We put it on the model's device to avoid needing to move things between the GPU and CPU, which can be slow.\n",
    "tokens = model.to_tokens(test_datapoints[-50].split('\\n')[0], prepend_bos=False)\n",
    "induction_score_store = torch.zeros((model.cfg.n_layers, model.cfg.n_heads), device=model.cfg.device)\n",
    "def induction_score_hook(\n",
    "    pattern,\n",
    "    hook,\n",
    "):\n",
    "    # We take the diagonal of attention paid from each destination position to source positions seq_len-1 tokens back\n",
    "    # (This only has entries for tokens with index>=seq_len)\n",
    "    induction_stripe = pattern.diagonal(dim1=-2, dim2=-1)\n",
    "    # Get an average score per head\n",
    "    induction_score = einops.reduce(induction_stripe, \"batch head_index position -> head_index\", \"mean\")\n",
    "    # Store the result.\n",
    "    induction_score_store[hook.layer(), :] = induction_score\n",
    "\n",
    "# We make a boolean filter on activation names, that's true only on attention pattern names.\n",
    "pattern_hook_names_filter = lambda name: name.endswith(\"pattern\")\n",
    "\n",
    "model.run_with_hooks(\n",
    "    tokens, \n",
    "    return_type=None, # For efficiency, we don't need to calculate the logits\n",
    "    fwd_hooks=[(\n",
    "        pattern_hook_names_filter,\n",
    "        induction_score_hook\n",
    "    )]\n",
    ")\n",
    "\n",
    "imshow(induction_score_store, model=MODEL, xaxis=\"Head\", yaxis=\"Layer\", title=\"Induction Score by Head\")"
   ]
  },
  {
   "cell_type": "code",
   "execution_count": 27,
   "metadata": {},
   "outputs": [],
   "source": [
    "# neuron_activations_for_all_layers = torch.stack([\n",
    "#     cache[\"post\", layer, \"mlp\"] for layer in range(model.cfg.n_layers)\n",
    "# ], dim=1)\n",
    "\n",
    "\n",
    "# cv.activations.text_neuron_activations(\n",
    "#     tokens=str_tokens,\n",
    "#     activations=neuron_activations_for_all_layers\n",
    "# )"
   ]
  },
  {
   "cell_type": "code",
   "execution_count": 30,
   "metadata": {},
   "outputs": [
    {
     "name": "stdout",
     "output_type": "stream",
     "text": [
      "tensor(0.0807, device='cuda:1')\n",
      "tensor(0.1151, device='cuda:1')\n",
      "tensor(0.0868, device='cuda:1')\n",
      "tensor(0.0022, device='cuda:1')\n",
      "tensor(0.1291, device='cuda:1')\n",
      "tensor(0.0168, device='cuda:1')\n",
      "tensor(0.0450, device='cuda:1')\n",
      "tensor(0.0889, device='cuda:1')\n",
      "tensor(0.1325, device='cuda:1')\n",
      "tensor(0.0047, device='cuda:1')\n",
      "tensor(0.1008, device='cuda:1')\n",
      "tensor(0.0691, device='cuda:1')\n",
      "tensor(0.0738, device='cuda:1')\n",
      "tensor(0.0827, device='cuda:1')\n",
      "tensor(0.0481, device='cuda:1')\n",
      "tensor(0.1602, device='cuda:1')\n"
     ]
    },
    {
     "data": {
      "text/plain": [
       "['1.7']"
      ]
     },
     "execution_count": 30,
     "metadata": {},
     "output_type": "execute_result"
    }
   ],
   "source": [
    "def induction_attn_detector(cache) -> list[str]:\n",
    "    '''\n",
    "    Returns a list e.g. [\"0.2\", \"1.4\", \"1.9\"] of \"layer.head\" which you judge to be induction heads\n",
    "\n",
    "    Remember - the tokens used to generate rep_cache are (bos_token, *rand_tokens, *rand_tokens)\n",
    "    '''\n",
    "    # SOLUTION\n",
    "    attn_heads = []\n",
    "    for layer in range(model.cfg.n_layers):\n",
    "        for head in range(model.cfg.n_heads):\n",
    "            attention_pattern = cache[\"pattern\", layer][head]\n",
    "            # take avg of (-seq_len+1)-offset elements\n",
    "            seq_len = (attention_pattern.shape[-1] - 1) // 2\n",
    "            score = attention_pattern.diagonal(-seq_len+1).mean()\n",
    "            print(score)\n",
    "            if score > 0.15:\n",
    "                attn_heads.append(f\"{layer}.{head}\")\n",
    "    return attn_heads\n",
    "\n",
    "induction_attn_detector(cache)"
   ]
  },
  {
   "cell_type": "code",
   "execution_count": 29,
   "metadata": {},
   "outputs": [
    {
     "data": {
      "text/html": [
       "<div id=\"circuits-vis-68808dd0-be36\" style=\"margin: 15px 0;\"/>\n",
       "    <script crossorigin type=\"module\">\n",
       "    import { render, TokenLogProbs } from \"https://unpkg.com/circuitsvis@1.43.2/dist/cdn/esm.js\";\n",
       "    render(\n",
       "      \"circuits-vis-68808dd0-be36\",\n",
       "      TokenLogProbs,\n",
       "      {\"prompt\": [\"<|BOS|>\", \"4\", \"4\", \",\", \"1\", \"9\", \"8\", \",\", \"1\", \"1\", \"0\", \"=>\", \"2\", \"2\", \"\\n\", \"1\", \"1\", \"9\", \",\", \"1\", \"8\", \"9\", \",\", \"2\", \"3\", \"8\", \"=>\", \"7\", \"\\n\", \"8\", \"5\", \",\", \"6\", \"8\", \",\", \"8\", \"5\", \"=>\", \"1\", \"7\", \"\\n\", \"9\", \"4\", \",\", \"9\", \"4\", \",\", \"1\", \"8\", \"8\", \"=>\", \"4\", \"7\", \"\\n\", \"6\", \"5\", \",\", \"2\", \"0\", \"8\", \",\", \"1\", \"9\", \"5\", \"=>\", \"1\", \"3\", \"\\n\", \"5\", \"2\", \",\", \"1\", \"5\", \"6\", \",\", \"1\", \"0\", \"4\", \"=>\", \"5\", \"2\", \"\\n\", \"1\", \"1\", \"5\", \",\", \"2\", \"0\", \",\", \"5\", \"0\", \"=>\", \"5\", \"\\n\", \"7\", \"4\", \",\", \"1\", \"1\", \"1\", \",\", \"3\", \"7\", \"=>\", \"3\", \"7\", \"\\n\", \"2\", \"1\", \"7\", \",\", \"1\", \"1\", \"9\", \",\", \"2\", \"1\", \"7\", \"=>\", \"7\", \"\\n\", \"4\", \"7\", \",\", \"1\", \"8\", \"8\", \",\", \"4\", \"7\", \"=>\", \"4\", \"7\"], \"topKLogProbs\": [[-1.3245360851287842, -1.9997889995574951, -2.1676127910614014, -2.217921018600464, -2.3222224712371826, -2.329279661178589, -2.8431308269500732, -3.19519305229187, -3.2190463542938232, -3.2528655529022217], [-0.058191701769828796, -3.3916878700256348, -4.878458499908447, -6.443748950958252, -6.512827396392822, -6.862005710601807, -6.927107334136963, -7.165588855743408, -7.348730564117432, -7.378668308258057], [-0.05892788618803024, -3.2587645053863525, -4.630880832672119, -5.592850208282471, -7.06594705581665, -7.072950839996338, -7.5488362312316895, -7.796635150909424, -7.925022602081299, -7.9675164222717285], [-1.514682412147522, -1.7661014795303345, -1.8128753900527954, -2.0511889457702637, -2.38862943649292, -2.733039379119873, -2.8496241569519043, -2.9166712760925293, -3.0317816734313965, -8.052974700927734], [-1.317336916923523, -1.7654951810836792, -1.838668704032898, -1.8668135404586792, -2.3762454986572266, -2.8317527770996094, -3.3948440551757812, -3.491973876953125, -3.6174850463867188, -5.432380676269531], [-0.37292954325675964, -2.189999580383301, -2.4187707901000977, -2.9594736099243164, -4.339118003845215, -4.393601417541504, -4.51101016998291, -4.902068138122559, -5.4426469802856445, -5.938942909240723], [-0.00421682745218277, -6.8985114097595215, -7.11134672164917, -7.366174221038818, -7.489175319671631, -8.086894989013672, -9.108003616333008, -9.230508804321289, -9.419240951538086, -9.51942253112793], [-1.4269741773605347, -1.656706690788269, -1.800148844718933, -2.3458471298217773, -2.4250879287719727, -2.464247703552246, -2.951258659362793, -3.1833066940307617, -3.199091911315918, -9.331696510314941], [-1.3050317764282227, -1.595890998840332, -1.833329200744629, -2.1095285415649414, -2.2866010665893555, -2.8740224838256836, -3.397171974182129, -3.6244077682495117, -3.8148317337036133, -5.374716758728027], [-1.14944326877594, -1.4212557077407837, -2.080202579498291, -2.5633091926574707, -2.799398899078369, -2.9117226600646973, -3.1549172401428223, -3.747246265411377, -4.191614627838135, -4.395643711090088], [-1.2331867218017578, -1.4537200927734375, -2.1591567993164062, -3.0449914932250977, -3.051947593688965, -3.6586380004882812, -3.908553123474121, -3.9472570419311523, -4.0852813720703125, -4.624700546264648], [-0.8128976225852966, -1.1913652420043945, -2.54116153717041, -2.822758674621582, -3.1487131118774414, -3.978867530822754, -4.091841697692871, -4.2529706954956055, -4.547776222229004, -5.205071449279785], [-0.003319469979032874, -7.3996148109436035, -7.526676654815674, -7.717983722686768, -7.825758457183838, -8.12243366241455, -8.477932929992676, -8.611374855041504, -8.725899696350098, -9.203993797302246], [-0.0006841464783065021, -8.288296699523926, -8.90579605102539, -9.041589736938477, -10.057133674621582, -10.403470039367676, -11.111312866210938, -11.48189640045166, -11.767679214477539, -11.916085243225098], [-0.6611156463623047, -1.7531757354736328, -2.411256790161133, -2.7511940002441406, -2.8714332580566406, -3.3767127990722656, -3.4363250732421875, -3.996889114379883, -4.173213958740234, -9.516620635986328], [-0.9901219606399536, -1.7240830659866333, -1.8028584718704224, -2.178709030151367, -2.741109848022461, -3.3568058013916016, -3.7840328216552734, -3.9320850372314453, -4.006990432739258, -4.940752029418945], [-1.1943458318710327, -1.6171211004257202, -2.3644661903381348, -2.3802437782287598, -2.394339084625244, -2.5758309364318848, -2.7038140296936035, -3.6035447120666504, -3.9152722358703613, -4.030516147613525], [-6.639736966462806e-05, -10.799829483032227, -11.273351669311523, -11.42300796508789, -12.012304306030273, -12.294292449951172, -12.711469650268555, -13.267417907714844, -13.562311172485352, -13.606191635131836], [-1.4638035297393799, -1.872788667678833, -1.9504978656768799, -2.0951855182647705, -2.1425888538360596, -2.226567506790161, -2.9377071857452393, -3.222562074661255, -3.4853546619415283, -6.9442338943481445], [-1.3708611726760864, -1.7037431001663208, -1.9508248567581177, -2.170969009399414, -2.3715267181396484, -2.405885696411133, -2.6533355712890625, -3.61163330078125, -4.003992080688477, -4.762456893920898], [-0.6505472660064697, -1.4234278202056885, -2.5056631565093994, -2.8578455448150635, -3.252533197402954, -3.909315347671509, -4.323955535888672, -4.396764755249023, -4.591815948486328, -6.026201248168945], [-0.0015442363219335675, -7.522768974304199, -8.330540657043457, -8.77131175994873, -9.0258207321167, -9.67290210723877, -9.677094459533691, -9.722111701965332, -9.76840877532959, -9.802298545837402], [-1.6626605987548828, -1.6643543243408203, -1.7168083190917969, -2.0147705078125, -2.13812255859375, -2.37664794921875, -3.340618133544922, -3.392862319946289, -3.5784568786621094, -7.877193450927734], [-0.7142239212989807, -1.6418743133544922, -2.2882957458496094, -2.8024654388427734, -3.064168930053711, -3.404203414916992, -3.5520267486572266, -3.8684730529785156, -4.058876037597656, -4.834001541137695], [-1.449728012084961, -1.5710201263427734, -1.900655746459961, -2.1017589569091797, -2.543210983276367, -2.570039749145508, -2.9084949493408203, -3.0404911041259766, -4.170042037963867, -4.383245468139648], [-0.10346201062202454, -3.19477915763855, -4.7807416915893555, -5.465136528015137, -5.959697723388672, -6.432417869567871, -6.440262794494629, -6.751043319702148, -7.271676063537598, -7.2898712158203125], [-0.5618277788162231, -2.0162572860717773, -2.107630729675293, -2.776545524597168, -2.8993444442749023, -3.6080923080444336, -3.904391288757324, -5.087395668029785, -5.903634071350098, -7.6389007568359375], [-0.009093299508094788, -5.401135444641113, -5.873187065124512, -8.47194766998291, -9.332484245300293, -9.409444808959961, -9.443422317504883, -9.500295639038086, -9.697794914245605, -10.218561172485352], [-0.3846072852611542, -1.727853775024414, -3.3366432189941406, -3.4423656463623047, -3.519500732421875, -4.163349151611328, -4.250722885131836, -4.7215728759765625, -5.174064636230469, -10.613679885864258], [-0.9542535543441772, -1.7237523794174194, -2.266845226287842, -2.5016512870788574, -2.7813353538513184, -2.897021770477295, -2.974849224090576, -3.2963786125183105, -3.930720806121826, -4.139255046844482], [-5.066266385256313e-05, -11.1576509475708, -11.983880043029785, -12.658989906311035, -12.789109230041504, -12.863945960998535, -12.901677131652832, -12.948803901672363, -13.013566017150879, -13.206097602844238], [-0.7217922806739807, -1.7252655029296875, -2.556825637817383, -2.623300552368164, -2.996673583984375, -3.263589859008789, -3.3559494018554688, -3.3617820739746094, -3.575601577758789, -9.05133056640625], [-1.4921824932098389, -1.5925166606903076, -1.8121612071990967, -2.43353533744812, -2.4955356121063232, -2.53845477104187, -2.6063449382781982, -3.2764270305633545, -3.391789197921753, -4.597046852111816], [-0.00024971229140646756, -9.406848907470703, -10.29736328125, -10.376832962036133, -10.561758041381836, -10.778253555297852, -11.458505630493164, -11.99801254272461, -12.265018463134766, -12.497825622558594], [-0.6403777599334717, -1.9098079204559326, -2.795456647872925, -2.8139007091522217, -2.9312808513641357, -2.9426372051239014, -3.2011992931365967, -3.4026057720184326, -3.748518705368042, -8.937722206115723], [-0.7241271138191223, -1.562195062637329, -2.6099836826324463, -2.6177542209625244, -2.848573923110962, -3.032850503921509, -4.250095844268799, -4.307608127593994, -4.387400150299072, -4.422743320465088], [-0.05840076133608818, -3.8041388988494873, -4.708969593048096, -6.334996700286865, -6.533392429351807, -6.71915864944458, -6.936791896820068, -7.291384220123291, -7.350503444671631, -7.38252592086792], [-0.5955408811569214, -1.9574965238571167, -2.4992427825927734, -2.576047897338867, -2.6454944610595703, -2.852996826171875, -4.456823348999023, -4.866277694702148, -6.62571907043457, -10.574502944946289], [-0.5620812773704529, -2.00034236907959, -2.565243721008301, -2.8033037185668945, -3.0273733139038086, -3.156184196472168, -3.486111640930176, -4.235684394836426, -4.625124931335449, -5.249882698059082], [-0.000501983508002013, -8.510986328125, -9.264150619506836, -9.723264694213867, -10.73367691040039, -11.004207611083984, -11.096931457519531, -11.133106231689453, -11.704944610595703, -11.981047630310059], [-0.5789308547973633, -1.6793737411499023, -2.386136054992676, -3.038893699645996, -3.379733085632324, -3.4026193618774414, -3.962874412536621, -4.198792457580566, -4.447070121765137, -10.527525901794434], [-0.8972201347351074, -1.8316569328308105, -2.026610851287842, -2.1349940299987793, -2.5815787315368652, -3.4573283195495605, -3.54054594039917, -3.9595465660095215, -4.061107158660889, -5.2227702140808105], [-3.838465272565372e-05, -11.45562744140625, -11.59066390991211, -13.070526123046875, -13.158130645751953, -13.267086029052734, -13.280319213867188, -13.500415802001953, -13.605009078979492, -13.86948013305664], [-0.6650592088699341, -2.232945442199707, -2.2781496047973633, -2.9326372146606445, -2.9527063369750977, -3.0169878005981445, -3.0641374588012695, -3.2017621994018555, -3.376816749572754, -9.02269458770752], [-1.1677119731903076, -1.4117705821990967, -1.857109785079956, -1.8823707103729248, -2.776533842086792, -3.5972354412078857, -3.91528582572937, -4.265702247619629, -4.836667060852051, -5.527535438537598], [-0.0002366024418734014, -9.657323837280273, -10.190103530883789, -10.773149490356445, -10.958955764770508, -11.31724739074707, -11.511590957641602, -11.565784454345703, -11.98592758178711, -12.023557662963867], [-0.722923755645752, -2.2324395179748535, -2.47190523147583, -2.643209934234619, -2.7406811714172363, -2.848299503326416, -3.028809070587158, -3.0414376258850098, -3.4074482917785645, -9.127544403076172], [-0.9219958186149597, -1.5688807964324951, -2.031946897506714, -2.8308703899383545, -2.9848392009735107, -3.132836103439331, -3.1644771099090576, -3.179793119430542, -4.0911641120910645, -4.68180513381958], [-1.1499416828155518, -1.2807209491729736, -1.633490800857544, -2.236600160598755, -2.827651262283325, -4.2342634201049805, -4.495953559875488, -4.722813606262207, -4.877921104431152, -6.222512245178223], [-0.16623151302337646, -3.575599193572998, -3.845137119293213, -4.250499248504639, -5.32904577255249, -5.376428127288818, -5.546814441680908, -5.96315336227417, -6.0117363929748535, -6.296205997467041], [-0.8374176025390625, -1.6252574920654297, -1.7421340942382812, -2.8571014404296875, -2.887491226196289, -3.299642562866211, -3.325845718383789, -4.943943023681641, -6.223865509033203, -10.654667854309082], [-0.1949283480644226, -2.640090227127075, -3.461383104324341, -3.4664547443389893, -3.6620266437530518, -4.556164741516113, -5.2398271560668945, -7.247075080871582, -7.610520362854004, -7.760556221008301], [-0.0011460172245278955, -7.295491695404053, -9.37583065032959, -9.715697288513184, -10.570293426513672, -10.994047164916992, -11.015381813049316, -11.440864562988281, -11.66477108001709, -11.934260368347168], [-0.6716038584709167, -1.8386991024017334, -2.0521504878997803, -2.5902020931243896, -3.0159051418304443, -3.2549588680267334, -3.9848649501800537, -4.228950023651123, -5.161487102508545, -9.290416717529297], [-0.7666792869567871, -2.0391554832458496, -2.21333646774292, -2.235024929046631, -2.484933376312256, -3.4756789207458496, -3.693328380584717, -4.0969061851501465, -4.400479793548584, -4.521508693695068], [-3.302042750874534e-05, -11.279879570007324, -12.462018013000488, -13.159667015075684, -13.201079368591309, -13.407776832580566, -13.414772987365723, -13.857823371887207, -13.877766609191895, -13.912137031555176], [-0.8580777049064636, -1.5935685634613037, -2.4205873012542725, -2.66745924949646, -2.6816117763519287, -3.006425619125366, -3.2544915676116943, -3.4217374324798584, -3.6882436275482178, -8.04730224609375], [-0.4081908166408539, -2.0025205612182617, -2.89218807220459, -3.362898826599121, -3.4545793533325195, -3.724087715148926, -3.76804256439209, -3.9681901931762695, -4.802390098571777, -5.860465049743652], [-1.0193815231323242, -1.6732664108276367, -2.1183996200561523, -2.1977415084838867, -2.78690242767334, -2.9731321334838867, -3.2219724655151367, -3.6223630905151367, -3.9994726181030273, -4.479008674621582], [-0.0005629861843772233, -8.610284805297852, -8.778715133666992, -9.626409530639648, -10.392303466796875, -10.548768997192383, -11.029317855834961, -11.183053970336914, -11.405458450317383, -11.877145767211914], [-0.44361063838005066, -2.0492281913757324, -2.392127513885498, -3.2990565299987793, -3.5730223655700684, -3.7720255851745605, -3.8893160820007324, -4.136922359466553, -4.318404674530029, -8.226717948913574], [-1.3855687379837036, -1.9976617097854614, -2.068899154663086, -2.170991897583008, -2.172088623046875, -2.314699172973633, -2.6774959564208984, -3.165271759033203, -3.4584484100341797, -3.983562469482422], [-0.9453101754188538, -1.2831149101257324, -2.2602648735046387, -2.591804027557373, -2.6160922050476074, -3.4446520805358887, -3.9969019889831543, -4.075690746307373, -4.8001933097839355, -5.044787883758545], [-0.08913302421569824, -3.455726385116577, -4.304271697998047, -4.438394546508789, -5.5675458908081055, -6.144926071166992, -6.24570369720459, -7.139464378356934, -7.150176048278809, -7.440556526184082], [-0.7908779978752136, -1.7539746761322021, -2.121833562850952, -2.5385701656341553, -2.6074559688568115, -2.994514226913452, -3.4827229976654053, -4.133067607879639, -5.50209379196167, -10.07741928100586], [-1.174696922302246, -1.5990304946899414, -1.7278013229370117, -2.524306297302246, -2.7498464584350586, -3.0766210556030273, -3.2262868881225586, -3.256625175476074, -3.7738828659057617, -4.4006452560424805], [-7.545663538621739e-05, -9.968188285827637, -11.564955711364746, -12.174241065979004, -12.843405723571777, -12.853333473205566, -13.204894065856934, -13.752835273742676, -13.865249633789062, -14.25751781463623], [-0.6993216276168823, -1.5084971189498901, -2.7659969329833984, -2.909137725830078, -2.960630416870117, -3.12457275390625, -3.6411476135253906, -3.651927947998047, -4.112018585205078, -9.276302337646484], [-1.6340707540512085, -1.8204282522201538, -2.105597972869873, -2.1232829093933105, -2.3308424949645996, -2.359858989715576, -2.4082159996032715, -3.0098185539245605, -3.128486156463623, -3.789376735687256], [-0.00017975145601667464, -9.990011215209961, -10.089435577392578, -10.884300231933594, -11.065568923950195, -11.234020233154297, -11.373523712158203, -11.92108154296875, -12.037994384765625, -12.050247192382812], [-0.6237865686416626, -1.9025341272354126, -2.4543967247009277, -3.0522265434265137, -3.1434264183044434, -3.154212474822998, -3.166593074798584, -3.5065207481384277, -3.7515692710876465, -8.179157257080078], [-1.3500187397003174, -1.7584621906280518, -1.8386433124542236, -2.2773048877716064, -2.5873634815216064, -2.625291109085083, -2.670731782913208, -2.9441444873809814, -3.6604855060577393, -4.464442253112793], [-1.2625237703323364, -1.4627686738967896, -1.8025952577590942, -2.2225990295410156, -2.630514144897461, -2.786792755126953, -3.088132858276367, -4.150957107543945, -4.457775115966797, -5.66316032409668], [-0.0001821352052502334, -9.71481990814209, -10.851239204406738, -11.107199668884277, -11.244780540466309, -11.492003440856934, -11.90054988861084, -12.0004243850708, -12.295699119567871, -12.659064292907715], [-0.9621275067329407, -1.6128251552581787, -2.024667501449585, -2.5205323696136475, -3.02140212059021, -3.0444695949554443, -3.1354405879974365, -3.3842103481292725, -3.4394338130950928, -8.068731307983398], [-1.6999866962432861, -1.732957124710083, -1.7898151874542236, -1.9979164600372314, -2.37121319770813, -2.4332706928253174, -2.5231964588165283, -3.351475954055786, -3.4649956226348877, -4.574044227600098], [-0.7219526767730713, -1.787273645401001, -1.910187005996704, -2.7266790866851807, -3.005432367324829, -3.127542734146118, -4.010322570800781, -4.074930191040039, -5.524105072021484, -7.107702255249023], [-0.006224175915122032, -7.7462944984436035, -8.00356674194336, -8.051953315734863, -8.121752738952637, -8.269747734069824, -8.74412727355957, -8.806416511535645, -8.849005699157715, -9.019518852233887], [-1.3398717641830444, -1.4618257284164429, -1.5918668508529663, -2.0021796226501465, -2.4532065391540527, -3.098966121673584, -3.9957633018493652, -4.565619945526123, -4.863328456878662, -10.447251319885254], [-1.1464512348175049, -1.536677598953247, -1.6702396869659424, -2.398333787918091, -2.913142442703247, -2.9554741382598877, -3.2279903888702393, -3.7773048877716064, -4.475699424743652, -5.806456565856934], [-0.0008652042597532272, -7.835410118103027, -9.840790748596191, -10.190059661865234, -10.339045524597168, -10.57457160949707, -10.741629600524902, -10.91140079498291, -11.268973350524902, -11.791396141052246], [-0.8837162256240845, -1.3619152307510376, -2.733245372772217, -2.741044521331787, -2.9102797508239746, -3.0257506370544434, -3.0740485191345215, -3.4686636924743652, -3.908425807952881, -7.989104747772217], [-0.9791830778121948, -1.9500044584274292, -2.0197372436523438, -2.161243438720703, -2.3564186096191406, -3.275714874267578, -3.3299942016601562, -3.447010040283203, -3.6553173065185547, -4.9642181396484375], [-1.2383087873458862, -1.8686875104904175, -1.9914921522140503, -2.370415687561035, -2.553036689758301, -2.703627586364746, -2.749638557434082, -3.073307991027832, -3.210892677307129, -3.831545829772949], [-2.109982233378105e-05, -12.346494674682617, -12.773759841918945, -13.044977188110352, -13.622732162475586, -13.846372604370117, -13.887962341308594, -14.010517120361328, -14.194982528686523, -14.34343147277832], [-1.4238256216049194, -1.6076349020004272, -1.9395192861557007, -2.0070815086364746, -2.3443617820739746, -2.8562655448913574, -3.105485439300537, -3.1936240196228027, -3.2074713706970215, -6.964351177215576], [-1.068387746810913, -1.3363149166107178, -2.1962716579437256, -2.3353078365325928, -2.6722848415374756, -3.590043783187866, -3.6378533840179443, -3.6728265285491943, -3.716203451156616, -4.453578948974609], [-1.4875189065933228, -1.5733305215835571, -1.7720075845718384, -2.1637425422668457, -2.462036609649658, -2.858433246612549, -2.922214984893799, -3.315330982208252, -3.665832996368408, -3.892948627471924], [-0.837250828742981, -2.142998695373535, -2.458115577697754, -2.5293970108032227, -2.65407657623291, -2.7854413986206055, -2.917801856994629, -2.944523811340332, -3.1022958755493164, -7.173527717590332], [-1.4057904481887817, -1.6252309083938599, -1.9000035524368286, -2.1449832916259766, -2.5613250732421875, -2.6369266510009766, -3.148740768432617, -3.1747875213623047, -3.314413070678711, -3.844289779663086], [-0.019458945840597153, -7.3885498046875, -7.407554626464844, -7.704755783081055, -7.916450500488281, -8.018061637878418, -8.269071578979492, -8.452237129211426, -8.55679988861084, -8.56528377532959], [-1.1416964530944824, -1.4869914054870605, -1.739417552947998, -2.021897792816162, -3.0589098930358887, -3.1771082878112793, -3.2529520988464355, -4.453006267547607, -4.888047695159912, -9.422380447387695], [-0.01414981484413147, -5.838848114013672, -5.908716201782227, -6.77645206451416, -7.056113243103027, -7.518670082092285, -8.289809226989746, -8.410914421081543, -8.520781517028809, -8.739114761352539], [-0.4286866784095764, -1.44096040725708, -3.706190586090088, -3.9089646339416504, -4.06240701675415, -4.161081790924072, -4.324045658111572, -4.328802585601807, -4.837923526763916, -9.42920970916748], [-1.3830938339233398, -1.7524614334106445, -2.068802833557129, -2.328129768371582, -2.369259834289551, -2.43955135345459, -2.9607744216918945, -3.081906318664551, -3.633784294128418, -3.6488237380981445], [-5.245195097813848e-06, -13.190688133239746, -14.57573413848877, -14.661324501037598, -15.135685920715332, -15.34499454498291, -15.459805488586426, -15.608962059020996, -15.6758451461792, -16.0645751953125], [-0.9916220903396606, -1.9233084917068481, -2.1770715713500977, -2.499608039855957, -2.564764976501465, -2.8181371688842773, -2.8291025161743164, -2.850459098815918, -3.392767906188965, -8.372941017150879], [-1.7206090688705444, -1.8218492269515991, -1.8403199911117554, -1.899476408958435, -2.484126567840576, -2.551663875579834, -2.6762614250183105, -3.0194029808044434, -3.031909465789795, -3.758248805999756], [-1.377179741859436, -1.409183144569397, -2.245757579803467, -2.3678126335144043, -2.5496726036071777, -2.6346850395202637, -3.1044745445251465, -3.3417201042175293, -3.404357433319092, -3.892678737640381], [-0.00010358751023886725, -10.224488258361816, -10.720582008361816, -11.727015495300293, -11.809807777404785, -12.205697059631348, -12.508856773376465, -12.56467342376709, -13.046483039855957, -13.209939002990723], [-1.3877943754196167, -1.6029108762741089, -1.962558627128601, -2.1727066040039062, -2.7289352416992188, -2.7365474700927734, -2.8825740814208984, -2.893953323364258, -2.9417591094970703, -7.623376846313477], [-1.1334228515625, -1.7266769409179688, -1.9063491821289062, -2.5732345581054688, -2.8022499084472656, -2.8172760009765625, -2.8549232482910156, -3.1384201049804688, -3.3936424255371094, -3.8951454162597656], [-0.010708724148571491, -5.792126655578613, -7.029682159423828, -8.352044105529785, -8.488930702209473, -8.573724746704102, -8.845402717590332, -8.900104522705078, -8.91482925415039, -8.98951244354248], [-0.9078872203826904, -1.2691428661346436, -1.9775168895721436, -2.380608320236206, -3.3444526195526123, -3.765793561935425, -4.430600166320801, -4.640952110290527, -5.431485176086426, -9.217273712158203], [-0.4261171817779541, -1.4620897769927979, -2.706421136856079, -3.6455461978912354, -4.843083381652832, -5.272195816040039, -6.070029258728027, -6.244495391845703, -6.333286285400391, -6.584352493286133], [-0.00154066551476717, -7.651088237762451, -9.014019966125488, -9.887152671813965, -10.065892219543457, -10.493827819824219, -10.598165512084961, -10.670763969421387, -10.882476806640625, -10.893123626708984], [-0.6622459888458252, -1.5590202808380127, -2.472508668899536, -3.1387264728546143, -3.307452440261841, -3.3919003009796143, -3.4023163318634033, -3.7471916675567627, -3.963731050491333, -9.425250053405762], [-0.4429638683795929, -2.237736940383911, -2.4407436847686768, -2.8297207355499268, -3.594376802444458, -3.9302761554718018, -3.9822399616241455, -4.151963710784912, -4.656846523284912, -4.842605113983154], [-0.7343713045120239, -1.9944630861282349, -2.0528030395507812, -2.3724098205566406, -2.7961959838867188, -3.4348297119140625, -3.6433792114257812, -4.020469665527344, -4.124340057373047, -4.877721786499023], [-4.172316494077677e-06, -13.710620880126953, -14.951278686523438, -15.272293090820312, -15.658098220825195, -15.70037841796875, -15.808032035827637, -15.870697975158691, -15.985201835632324, -16.109495162963867], [-0.8035007119178772, -2.0034708976745605, -2.3777308464050293, -2.4005560874938965, -2.691688060760498, -2.977433681488037, -3.1429877281188965, -3.2943129539489746, -3.362229824066162, -8.039697647094727], [-1.5814967155456543, -1.8197855949401855, -1.8278422355651855, -1.9272570610046387, -2.201535701751709, -2.976386547088623, -2.984370708465576, -3.005958080291748, -3.0400309562683105, -4.124621868133545], [-0.35398873686790466, -1.881567120552063, -2.938720703125, -4.020072937011719, -4.033134460449219, -4.261486053466797, -4.275810241699219, -4.55278205871582, -4.72515869140625, -4.948272705078125], [-0.00013541258522309363, -10.397615432739258, -10.474565505981445, -11.498758316040039, -11.984127044677734, -12.114386558532715, -12.452466011047363, -12.533391952514648, -12.615311622619629, -12.896626472473145], [-1.1991384029388428, -1.7508466243743896, -1.9816129207611084, -2.255439519882202, -2.5551793575286865, -2.689552068710327, -2.990882635116577, -2.9919259548187256, -3.3352277278900146, -7.413984298706055], [-1.0410822629928589, -1.1822527647018433, -2.4347877502441406, -2.5858192443847656, -2.7606029510498047, -3.398092269897461, -3.6159610748291016, -3.7353553771972656, -4.067888259887695, -4.3576812744140625], [-1.2538142204284668, -1.3030180931091309, -1.903592586517334, -2.118272304534912, -2.325295925140381, -3.333961009979248, -3.8661131858825684, -4.827952861785889, -4.8952860832214355, -6.440642833709717], [-0.0006223172531463206, -8.654138565063477, -9.031786918640137, -10.100323677062988, -11.163756370544434, -11.313650131225586, -11.565913200378418, -11.566213607788086, -11.59183406829834, -11.592982292175293], [-1.4323844909667969, -1.5461349487304688, -1.6784648895263672, -1.988067626953125, -2.3937129974365234, -3.140958786010742, -3.3397064208984375, -3.502002716064453, -3.7577133178710938, -7.314131736755371], [-0.006531557533890009, -6.00815486907959, -6.664858818054199, -6.872280120849609, -8.27574634552002, -9.208512306213379, -9.236554145812988, -9.421515464782715, -9.852147102355957, -9.85538101196289], [-0.24648968875408173, -2.1528160572052, -3.637038469314575, -4.019028663635254, -4.052155494689941, -4.307940483093262, -4.462588310241699, -4.539126396179199, -5.330218315124512, -9.865923881530762], [-1.6647363901138306, -1.7942835092544556, -2.1157212257385254, -2.2836060523986816, -2.3548989295959473, -2.4419922828674316, -2.4897313117980957, -2.8149056434631348, -3.0949463844299316, -3.3200554847717285], [-1.156323378381785e-05, -12.273336410522461, -14.118497848510742, -14.434059143066406, -14.504314422607422, -14.584829330444336, -14.804555892944336, -14.837564468383789, -14.915695190429688, -15.068992614746094], [-1.1244734525680542, -1.3856467008590698, -2.516508102416992, -2.6642608642578125, -2.6713485717773438, -2.812023162841797, -2.88946533203125, -2.9187545776367188, -3.341279983520508, -7.9841156005859375], [-1.497901201248169, -1.8326008319854736, -1.9507973194122314, -1.9692585468292236, -2.276171922683716, -2.6679470539093018, -2.9592068195343018, -3.1873791217803955, -3.2552692890167236, -3.486478090286255], [-0.6215987801551819, -1.7093596458435059, -2.7626547813415527, -3.246955394744873, -3.2946581840515137, -3.329047679901123, -3.4764323234558105, -3.5620532035827637, -3.7600035667419434, -3.9514269828796387], [-0.0001284993631998077, -10.660325050354004, -10.944449424743652, -11.031679153442383, -11.736838340759277, -11.768732070922852, -12.182114601135254, -12.596592903137207, -12.682306289672852, -12.750833511352539], [-0.9920447468757629, -2.0862162113189697, -2.243177652359009, -2.288658380508423, -2.4137938022613525, -2.6086161136627197, -2.9164068698883057, -3.075544595718384, -3.39943528175354, -7.588972568511963], [-1.555689811706543, -1.560267448425293, -2.1325979232788086, -2.1926565170288086, -2.370944023132324, -2.4609670639038086, -2.4896860122680664, -2.78261661529541, -4.1470441818237305, -4.675673484802246], [-0.009483525529503822, -6.620599746704102, -7.715482711791992, -8.110258102416992, -8.431516647338867, -8.546907424926758, -8.744470596313477, -8.77922248840332, -8.841695785522461, -9.325221061706543], [-0.5975308418273926, -1.3685193061828613, -2.7998147010803223, -3.0265564918518066, -3.6130967140197754, -3.6360983848571777, -4.054384708404541, -5.2601094245910645, -5.271175861358643, -9.199491500854492], [-1.2432680130004883, -1.4708757400512695, -1.925309181213379, -2.379450798034668, -3.310995101928711, -3.7389907836914062, -3.9348373413085938, -3.965693473815918, -4.074250221252441, -4.1561384201049805]], \"topKTokens\": [[\"2\", \"3\", \"1\", \"6\", \"8\", \"9\", \"0\", \"5\", \"7\", \"4\"], [\",\", \".\", \")\", \").\", \",\\\"\", \";\", \".,\", \":\", \",'\", \");\"], [\",\", \".\", \" and\", \")\", \" or\", \").\", \";\", \"),\", \" (\", \"\\\"\"], [\"1\", \"5\", \"4\", \"8\", \"9\", \"7\", \"6\", \"3\", \"2\", \"0\"], [\"8\", \"9\", \"5\", \"0\", \"6\", \"7\", \"2\", \"3\", \"4\", \"1\"], [\",\", \"8\", \"2\", \"4\", \"6\", \"9\", \"0\", \"=>\", \"1\", \"5\"], [\",\", \".\", \").\", \")\", \"),\", \";\", \"\\n\", \".)\", \" \\u2013\", \"=>\"], [\"8\", \"5\", \"9\", \"1\", \"6\", \"2\", \"7\", \"4\", \"3\", \"0\"], [\"9\", \"8\", \"5\", \"0\", \"6\", \"7\", \"3\", \"2\", \"4\", \"1\"], [\"4\", \"0\", \"8\", \"2\", \"6\", \"9\", \"=>\", \"5\", \"3\", \"7\"], [\"=>\", \",\", \").\", \")\", \" of\", \"\\n\", \".\", \"-\", \"),\", \".)\"], [\"\\n\", \"3\", \"1\", \"7\", \"4\", \"5\", \"2\", \"6\", \"9\", \"8\"], [\"\\n\", \"9\", \"8\", \"6\", \"7\", \"3\", \"4\", \"<|EOS|>\", \"\\n   \", \"2\"], [\"\\n\", \"<|EOS|>\", \"\\n   \", \"\\n\\n\", \"\\n       \", \"\\n\\n   \", \"\\n\\n\\n\", \"\\n \", \"\\n\\n       \", \"\\n\\t\"], [\"1\", \"2\", \"4\", \"6\", \"9\", \"8\", \"3\", \"7\", \"5\", \"0\"], [\"0\", \"9\", \"8\", \"6\", \"2\", \"4\", \"7\", \"5\", \"3\", \"1\"], [\"0\", \",\", \"6\", \"8\", \"4\", \"2\", \"9\", \"5\", \"3\", \"7\"], [\",\", \"2\", \"4\", \"8\", \"9\", \"6\", \"5\", \"3\", \" and\", \"1\"], [\"5\", \"2\", \"9\", \"6\", \"1\", \"8\", \"3\", \"7\", \"4\", \"0\"], [\"9\", \"8\", \"0\", \"6\", \"2\", \"7\", \"5\", \"3\", \"1\", \"4\"], [\"9\", \"8\", \"6\", \"0\", \"2\", \"4\", \"5\", \"7\", \"3\", \",\"], [\",\", \"2\", \"=>\", \"8\", \"6\", \"1\", \"4\", \"9\", \"=\", \" and\"], [\"2\", \"1\", \"5\", \"9\", \"6\", \"8\", \"3\", \"7\", \"4\", \"0\"], [\"0\", \"3\", \"1\", \"7\", \"2\", \"6\", \"8\", \"9\", \"4\", \"5\"], [\"1\", \"8\", \"4\", \"3\", \"6\", \"2\", \"9\", \"7\", \"5\", \"0\"], [\"\\n\", \"=>\", \",\", \"<|EOS|>\", \"\\n\\n\", \"-\", \".\", \" (\", \" (#\", \" \\u2013\"], [\"3\", \"6\", \"7\", \"9\", \"1\", \"4\", \"2\", \"8\", \"\\n\", \"5\"], [\"\\n\", \"<|EOS|>\", \"\\n   \", \"\\n\\n   \", \"\\n                           \", \"\\n                               \", \"\\n       \", \"\\n\\n\", \".\", \"7\"], [\"1\", \"2\", \"9\", \"4\", \"6\", \"3\", \"7\", \"8\", \"5\", \"0\"], [\"0\", \"4\", \"8\", \"9\", \"2\", \"6\", \"3\", \",\", \"7\", \"5\"], [\",\", \" and\", \"4\", \"],\", \".\", \"2\", \")\", \"9\", \" ,\", \"6\"], [\"1\", \"2\", \"9\", \"3\", \"4\", \"5\", \"6\", \"7\", \"8\", \"0\"], [\"0\", \"3\", \"4\", \"6\", \"5\", \"2\", \"8\", \"1\", \"7\", \"9\"], [\",\", \")\", \"],\", \" and\", \"),\", \"=\", \"]\", \" =\", \"=>\", \".,\"], [\"1\", \"2\", \"3\", \"5\", \"4\", \"9\", \"8\", \"6\", \"7\", \"0\"], [\"0\", \"4\", \"6\", \"2\", \"3\", \"8\", \"9\", \"1\", \"7\", \"5\"], [\"=>\", \".\", \",\", \"\\n\", \")\", \" to\", \"!\", \").\", \"able\", \" and\"], [\"3\", \"6\", \"7\", \"2\", \"1\", \"4\", \"9\", \"5\", \"8\", \"\\n\"], [\"\\n\", \"6\", \"4\", \"3\", \"7\", \"2\", \"1\", \"9\", \"8\", \"<|EOS|>\"], [\"\\n\", \"<|EOS|>\", \"\\n       \", \"\\n   \", \"\\n\\t\", \"\\n\\n\", \"\\n         \", \"\\n           \", \"\\n\\n   \", \"\\r\"], [\"1\", \"2\", \"9\", \"4\", \"3\", \"6\", \"8\", \"7\", \"5\", \"0\"], [\"0\", \"8\", \"6\", \"2\", \"9\", \"3\", \"4\", \"7\", \"5\", \",\"], [\",\", \" and\", \"4\", \"2\", \"],\", \"9\", \"8\", \"1\", \".\", \"0\"], [\"1\", \"4\", \"2\", \"9\", \"6\", \"3\", \"8\", \"7\", \"5\", \"0\"], [\"6\", \"8\", \"2\", \"0\", \"9\", \"7\", \"4\", \"3\", \"5\", \"1\"], [\",\", \" and\", \")\", \"),\", \"4\", \"2\", \" or\", \"],\", \"1\", \"]\"], [\"1\", \"2\", \"4\", \"6\", \"9\", \"8\", \"7\", \"3\", \"5\", \"0\"], [\"9\", \"8\", \"6\", \"0\", \"2\", \"7\", \"3\", \"5\", \"4\", \"1\"], [\"9\", \"8\", \"0\", \"2\", \"6\", \"4\", \"3\", \"7\", \"5\", \"1\"], [\"=>\", \"\\n\", \",\", \".\", \")\", \").\", \"=\\\"\", \" =\", \" them\", \" I\"], [\"4\", \"3\", \"1\", \"2\", \"6\", \"9\", \"7\", \"8\", \"5\", \"\\n\"], [\"9\", \"6\", \"7\", \"3\", \"8\", \"4\", \"2\", \"1\", \"5\", \"\\n\"], [\"\\n\", \"<|EOS|>\", \"\\n   \", \"\\n       \", \"\\n\\t\", \"\\n\\n   \", \"\\n\\n\", \"\\n                                               \", \"\\n\\n\\n\", \"\\r\"], [\"1\", \"2\", \"9\", \"4\", \"6\", \"3\", \"7\", \"8\", \"5\", \"0\"], [\"0\", \"4\", \"2\", \"3\", \"8\", \"6\", \",\", \"1\", \"7\", \"9\"], [\",\", \" and\", \"],\", \")\", \" or\", \" to\", \".\", \" ,\", \"]\", \"):\"], [\"1\", \"2\", \"9\", \"3\", \"5\", \"4\", \"8\", \"7\", \"6\", \"0\"], [\"0\", \"3\", \"5\", \"4\", \"2\", \"6\", \"1\", \"7\", \"8\", \"9\"], [\"0\", \"4\", \"5\", \"8\", \"3\", \"1\", \"9\", \"2\", \",\", \"7\"], [\",\", \"],\", \")\", \"),\", \" and\", \"]\", \".\", \"])\", \"=\", \").\"], [\"1\", \"2\", \"5\", \"3\", \"4\", \"9\", \"8\", \"6\", \"7\", \"0\"], [\"0\", \"6\", \"5\", \"2\", \"9\", \"8\", \"3\", \"7\", \"4\", \"1\"], [\"2\", \"0\", \"8\", \"6\", \"9\", \"5\", \"3\", \"4\", \"7\", \"1\"], [\"\\n\", \",\", \".\", \"=>\", \"!\", \"<|EOS|>\", \" to\", \" and\", \"\\n\\n\", \" by\"], [\"3\", \"1\", \"7\", \"4\", \"6\", \"2\", \"5\", \"9\", \"8\", \"\\n\"], [\"\\n\", \"3\", \"6\", \"7\", \"4\", \"2\", \"9\", \"5\", \"8\", \"1\"], [\"\\n\", \"<|EOS|>\", \"\\n\\n\", \"\\n   \", \"\\n\\n\\n\", \"\\n\\t\", \"\\n       \", \"\\r\", \"\\n\\n   \", \"\\n \"], [\"1\", \"2\", \"9\", \"6\", \"4\", \"3\", \"8\", \"7\", \"5\", \"0\"], [\"3\", \"2\", \"0\", \"4\", \"9\", \"8\", \"6\", \"7\", \"5\", \"1\"], [\",\", \"2\", \"4\", \"3\", \"1\", \"9\", \"8\", \" and\", \"6\", \"7\"], [\"1\", \"2\", \"5\", \"6\", \"3\", \"9\", \"8\", \"7\", \"4\", \"0\"], [\"0\", \"8\", \"6\", \"9\", \"2\", \"5\", \"3\", \"7\", \"4\", \"1\"], [\"2\", \"6\", \"8\", \"9\", \"3\", \"4\", \"0\", \"5\", \"7\", \",\"], [\",\", \" and\", \")\", \"],\", \"\\n\", \"),\", \" =\", \"]\", \"2\", \"):\"], [\"1\", \"2\", \"5\", \"9\", \"8\", \"3\", \"6\", \"4\", \"7\", \"0\"], [\"9\", \"0\", \"8\", \"6\", \"5\", \"3\", \"2\", \"7\", \"4\", \"1\"], [\"8\", \"4\", \"9\", \"6\", \"2\", \"3\", \"0\", \"5\", \"7\", \"1\"], [\"=>\", \",\", \"==\", \"=\", \"\\n\", \".\", \"=\\\"\", \"]>\", \">]\", \">,\"], [\"3\", \"5\", \"1\", \"4\", \"2\", \"6\", \"7\", \"8\", \"9\", \"\\n\"], [\"\\n\", \"3\", \"2\", \"4\", \"6\", \"9\", \"8\", \"1\", \"7\", \"<|EOS|>\"], [\"\\n\", \"<|EOS|>\", \"\\n\\n\", \"\\n   \", \"\\n\\n\\n\", \"\\n\\n   \", \"\\n\\n \", \"\\n       \", \"\\n\\t\", \"\\n\\n\\n\\n\"], [\"1\", \"2\", \"6\", \"9\", \"4\", \"3\", \"5\", \"7\", \"8\", \"0\"], [\"0\", \"8\", \"9\", \"2\", \"6\", \"4\", \"3\", \"5\", \"7\", \"1\"], [\"0\", \"2\", \"4\", \"8\", \",\", \"6\", \"9\", \"3\", \"5\", \"7\"], [\",\", \" and\", \"],\", \")\", \" ,\", \"),\", \"]:\", \"]\", \" =\", \"):\"], [\"1\", \"2\", \"5\", \"9\", \"3\", \"7\", \"6\", \"4\", \"8\", \"0\"], [\"0\", \"1\", \"3\", \"2\", \"7\", \"4\", \"5\", \"6\", \"8\", \"9\"], [\"8\", \"5\", \"0\", \"4\", \"9\", \"1\", \"3\", \"7\", \"6\", \"2\"], [\"1\", \"2\", \"5\", \"3\", \"4\", \"7\", \"6\", \"9\", \"8\", \"0\"], [\"5\", \"0\", \"3\", \"2\", \"1\", \"4\", \"7\", \"8\", \"6\", \"9\"], [\"=>\", \" sense\", \",\", \"\\n\", \".\", \"=\", \" we\", \" =>\", \" having\", \"=\\\"\"], [\"1\", \"3\", \"5\", \"7\", \"2\", \"6\", \"4\", \"8\", \"9\", \"\\n\"], [\"\\n\", \"<|EOS|>\", \"\\n   \", \"\\n\\n   \", \"0\", \"\\n\\n\", \"\\n                           \", \" much\", \"\\n                               \", \"\\n\\n\\n\"], [\"1\", \"2\", \"9\", \"6\", \"3\", \"7\", \"5\", \"4\", \"8\", \"0\"], [\"0\", \"2\", \"6\", \"8\", \"3\", \"4\", \"5\", \"7\", \"9\", \"1\"], [\",\", \" and\", \"],\", \")\", \",'\", \" or\", \".,\", \"),\", \";\", \" &\"], [\"1\", \"2\", \"4\", \"3\", \"5\", \"9\", \"7\", \"6\", \"8\", \"0\"], [\"8\", \"0\", \"9\", \"6\", \"2\", \"3\", \"7\", \"4\", \"5\", \"1\"], [\"0\", \"2\", \"8\", \"4\", \"6\", \"5\", \"7\", \"9\", \"1\", \",\"], [\",\", \"4\", \"2\", \"0\", \"1\", \" and\", \"8\", \"5\", \"7\", \"6\"], [\"1\", \"2\", \"5\", \"9\", \"4\", \"6\", \"8\", \"3\", \"7\", \"0\"], [\"8\", \"6\", \"7\", \"0\", \"2\", \"9\", \"3\", \"5\", \"4\", \"1\"], [\"=>\", \" =>\", \",\", \" -->\", \"\\u2013\", \" ->\", \"->\", \"-\", \"\\n\", \">\"], [\"1\", \"4\", \"3\", \"2\", \"9\", \"7\", \"5\", \"6\", \"8\", \"\\n\"], [\"\\n\", \"9\", \"8\", \"7\", \"6\", \"2\", \"3\", \"4\", \"1\", \"\\n   \"], [\"\\n\", \"<|EOS|>\", \"\\n   \", \"\\n\\n\", \"\\n\\t\", \"\\n \", \"\\n\\n\\n\", \"\\n       \", \"\\n    \", \"\\n\\n   \"], [\"1\", \"2\", \"9\", \"4\", \"7\", \"6\", \"3\", \"8\", \"5\", \"0\"], [\"0\", \"3\", \"4\", \"2\", \"1\", \"6\", \"8\", \"7\", \",\", \"5\"], [\"0\", \",\", \"6\", \"8\", \"7\", \"5\", \"4\", \"3\", \"9\", \"2\"], [\",\", \" and\", \")\", \"],\", \" ,\", \"),\", \",...\", \",.\", \",'\", \" or\"], [\"1\", \"5\", \"9\", \"2\", \"7\", \"4\", \"6\", \"3\", \"8\", \"0\"], [\"9\", \"8\", \"6\", \"0\", \"7\", \"5\", \"3\", \"2\", \"4\", \"1\"], [\"7\", \",\", \"9\", \"8\", \"0\", \"4\", \"3\", \"2\", \"6\", \"1\"], [\",\", \"=>\", \"),\", \")\", \"],\", \",,\", \" and\", \" =\", \",...\", \"\\u2026\"], [\"1\", \"5\", \"9\", \"2\", \"7\", \"6\", \"8\", \"4\", \"3\", \"0\"], [\"1\", \"0\", \"2\", \"3\", \"7\", \"6\", \"8\", \"4\", \"9\", \"5\"], [\"7\", \"9\", \"6\", \"8\", \"0\", \"=>\", \"4\", \"5\", \"3\", \"1\"], [\"=>\", \"\\n\", \",\", \" =>\", \">\", \"=\", \"-\", \" =\", \">)\", \"->\"], [\"3\", \"1\", \"9\", \"7\", \"4\", \"2\", \"5\", \"6\", \"8\", \"\\n\"], [\"\\n\", \"\\n   \", \"<|EOS|>\", \"\\n\\n   \", \"\\n\\n\", \"\\n\\n\\n\", \"\\n                           \", \"\\n    \\n   \", \"\\n                               \", \"\\n \"], [\"1\", \"2\", \"4\", \"3\", \"7\", \"5\", \"6\", \"9\", \"8\", \"0\"], [\"0\", \"4\", \"3\", \"7\", \"2\", \"8\", \"9\", \"6\", \"1\", \"5\"], [\",\", \" and\", \"],\", \" or\", \")\", \".\", \".,\", \"4\", \",'\", \" ,\"], [\"1\", \"9\", \"2\", \"6\", \"4\", \"7\", \"8\", \"5\", \"3\", \"0\"], [\"9\", \"8\", \"6\", \"7\", \"4\", \"3\", \"0\", \"1\", \"2\", \"5\"], [\"9\", \"8\", \"0\", \"4\", \"7\", \"6\", \"5\", \"3\", \"2\", \",\"], [\",\", \")\", \"),\", \"=>\", \"],\", \" and\", \".,\", \"]\", \",,\", \" =\"], [\"1\", \"6\", \"4\", \"9\", \"2\", \"7\", \"5\", \"3\", \"8\", \"0\"], [\"9\", \"7\", \"3\", \"4\", \"2\", \"8\", \"1\", \"6\", \"0\", \"5\"], [\"=>\", \" =>\", \"->\", \" ->\", \"ly\", \",\", \" correctly\", \"\\u2014\", \"<|PAD|>\", \" sooner\"], [\"4\", \"1\", \"3\", \"2\", \"7\", \"6\", \"9\", \"8\", \"5\", \"\\n\"], [\"9\", \"<|PAD|>\", \"7\", \"\\n\", \"8\", \"3\", \"4\", \"2\", \"6\", \"1\"]], \"correctTokenRank\": [9, 59, 0, 0, 1, 1, 0, 3, 9, 1, 0, 6, 9, 0, 0, 9, 6, 0, 4, 1, 0, 0, 0, 1, 1, 1, 2, 0, 7, 9, 0, 6, 6, 0, 6, 9, 0, 4, 4, 0, 2, 6, 0, 3, 6, 0, 0, 1, 1, 0, 0, 2, 0, 4, 10, 0, 1, 0, 3, 0, 0, 4, 5, 3, 1, 1, 0, 8, 1, 0, 0, 5, 1, 0, 0, 1, 1, 0, 1, 2, 0, 0, 9, 8, 0, 1, 0, 10, 2, 1, 0, 2, 0, 5, 5, 0, 0, 9, 8, 0, 7, 2, 0, 2, 3, 0, 1, 4, 4, 0, 0, 9, 2, 0, 3, 0, 0, 0, 3, 0, 2, 3, 0, 0, 1, 1, 0, 2, 1, 0, 0, 2], \"correctTokenLogProb\": [-3.2528655529022217, -10.697415351867676, -0.05892788618803024, -1.514682412147522, -1.7654951810836792, -2.189999580383301, -0.00421682745218277, -2.3458471298217773, -5.374716758728027, -1.4212557077407837, -1.2331867218017578, -4.091841697692871, -9.203993797302246, -0.0006841464783065021, -0.6611156463623047, -4.940752029418945, -2.7038140296936035, -6.639736966462806e-05, -2.1425888538360596, -1.7037431001663208, -0.6505472660064697, -0.0015442363219335675, -1.6626605987548828, -1.6418743133544922, -1.5710201263427734, -3.19477915763855, -2.107630729675293, -0.009093299508094788, -4.7215728759765625, -4.139255046844482, -5.066266385256313e-05, -3.3559494018554688, -2.6063449382781982, -0.00024971229140646756, -3.2011992931365967, -4.422743320465088, -0.05840076133608818, -2.6454944610595703, -3.0273733139038086, -0.000501983508002013, -2.386136054992676, -3.54054594039917, -3.838465272565372e-05, -2.9326372146606445, -3.91528582572937, -0.0002366024418734014, -0.722923755645752, -1.5688807964324951, -1.2807209491729736, -0.16623151302337646, -0.8374176025390625, -3.461383104324341, -0.0011460172245278955, -3.0159051418304443, -4.604760646820068, -3.302042750874534e-05, -1.5935685634613037, -0.4081908166408539, -2.1977415084838867, -0.0005629861843772233, -0.44361063838005066, -2.172088623046875, -3.4446520805358887, -4.438394546508789, -1.7539746761322021, -1.5990304946899414, -7.545663538621739e-05, -4.112018585205078, -1.8204282522201538, -0.00017975145601667464, -0.6237865686416626, -2.625291109085083, -1.4627686738967896, -0.0001821352052502334, -0.9621275067329407, -1.732957124710083, -1.787273645401001, -0.006224175915122032, -1.4618257284164429, -1.6702396869659424, -0.0008652042597532272, -0.8837162256240845, -4.9642181396484375, -3.210892677307129, -2.109982233378105e-05, -1.6076349020004272, -1.068387746810913, -5.786470890045166, -2.458115577697754, -1.6252309083938599, -0.019458945840597153, -1.739417552947998, -0.01414981484413147, -4.161081790924072, -2.43955135345459, -5.245195097813848e-06, -0.9916220903396606, -3.758248805999756, -3.404357433319092, -0.00010358751023886725, -2.893953323364258, -1.9063491821289062, -0.010708724148571491, -1.9775168895721436, -3.6455461978912354, -0.00154066551476717, -1.5590202808380127, -3.594376802444458, -2.7961959838867188, -4.172316494077677e-06, -0.8035007119178772, -4.124621868133545, -2.938720703125, -0.00013541258522309363, -2.255439519882202, -1.0410822629928589, -1.2538142204284668, -0.0006223172531463206, -1.988067626953125, -0.006531557533890009, -3.637038469314575, -2.2836060523986816, -1.156323378381785e-05, -1.1244734525680542, -1.8326008319854736, -1.7093596458435059, -0.0001284993631998077, -2.243177652359009, -1.560267448425293, -0.009483525529503822, -0.5975308418273926, -1.925309181213379]}\n",
       "    )\n",
       "    </script>"
      ],
      "text/plain": [
       "<circuitsvis.utils.render.RenderedHTML at 0x7f987097b520>"
      ]
     },
     "execution_count": 29,
     "metadata": {},
     "output_type": "execute_result"
    }
   ],
   "source": [
    "text = test_datapoints[-50]\n",
    "\n",
    "cv.logits.token_log_probs(\n",
    "    model.to_tokens(text, prepend_bos=True)[0].view(-1),\n",
    "    model(text)[0].log_softmax(dim=-1),\n",
    "    model.to_string,\n",
    ")"
   ]
  },
  {
   "cell_type": "code",
   "execution_count": null,
   "metadata": {},
   "outputs": [],
   "source": [
    "!zip -r trainingdynamics.zip . -x \"*.pth\""
   ]
  },
  {
   "cell_type": "code",
   "execution_count": null,
   "metadata": {},
   "outputs": [],
   "source": []
  }
 ],
 "metadata": {
  "accelerator": "GPU",
  "colab": {
   "gpuType": "T4",
   "name": "TrainingDynamics",
   "provenance": []
  },
  "kaggle": {
   "accelerator": "nvidiaTeslaT4",
   "dataSources": [],
   "isGpuEnabled": true,
   "isInternetEnabled": true,
   "language": "python",
   "sourceType": "notebook"
  },
  "kernelspec": {
   "display_name": "ail821",
   "language": "python",
   "name": "python3"
  },
  "language_info": {
   "codemirror_mode": {
    "name": "ipython",
    "version": 3
   },
   "file_extension": ".py",
   "mimetype": "text/x-python",
   "name": "python",
   "nbconvert_exporter": "python",
   "pygments_lexer": "ipython3",
   "version": "3.10.15"
  },
  "widgets": {
   "application/vnd.jupyter.widget-state+json": {
    "00a05e73092e41918b258c4034208603": {
     "model_module": "@jupyter-widgets/controls",
     "model_module_version": "1.5.0",
     "model_name": "ProgressStyleModel",
     "state": {
      "_model_module": "@jupyter-widgets/controls",
      "_model_module_version": "1.5.0",
      "_model_name": "ProgressStyleModel",
      "_view_count": null,
      "_view_module": "@jupyter-widgets/base",
      "_view_module_version": "1.2.0",
      "_view_name": "StyleView",
      "bar_color": null,
      "description_width": ""
     }
    },
    "014b21cfb01f46008c95a7d53b76c884": {
     "model_module": "@jupyter-widgets/controls",
     "model_module_version": "1.5.0",
     "model_name": "HTMLModel",
     "state": {
      "_dom_classes": [],
      "_model_module": "@jupyter-widgets/controls",
      "_model_module_version": "1.5.0",
      "_model_name": "HTMLModel",
      "_view_count": null,
      "_view_module": "@jupyter-widgets/controls",
      "_view_module_version": "1.5.0",
      "_view_name": "HTMLView",
      "description": "",
      "description_tooltip": null,
      "layout": "IPY_MODEL_c0e155ae3e724766991040841b0e3394",
      "placeholder": "​",
      "style": "IPY_MODEL_4ce0895a48334ca7a92b3ba9031df515",
      "value": ""
     }
    },
    "03ceeb7023a248b399eb17291792cb2b": {
     "model_module": "@jupyter-widgets/controls",
     "model_module_version": "1.5.0",
     "model_name": "FloatProgressModel",
     "state": {
      "_dom_classes": [],
      "_model_module": "@jupyter-widgets/controls",
      "_model_module_version": "1.5.0",
      "_model_name": "FloatProgressModel",
      "_view_count": null,
      "_view_module": "@jupyter-widgets/controls",
      "_view_module_version": "1.5.0",
      "_view_name": "ProgressView",
      "bar_style": "success",
      "description": "",
      "description_tooltip": null,
      "layout": "IPY_MODEL_7503e3af44e8468d8741aa3a44f2e82b",
      "max": 1,
      "min": 0,
      "orientation": "horizontal",
      "style": "IPY_MODEL_c00362393b944a969dbe35975b203123",
      "value": 1
     }
    },
    "056ecc69f211460f9999ac52e581923f": {
     "model_module": "@jupyter-widgets/controls",
     "model_module_version": "1.5.0",
     "model_name": "DescriptionStyleModel",
     "state": {
      "_model_module": "@jupyter-widgets/controls",
      "_model_module_version": "1.5.0",
      "_model_name": "DescriptionStyleModel",
      "_view_count": null,
      "_view_module": "@jupyter-widgets/base",
      "_view_module_version": "1.2.0",
      "_view_name": "StyleView",
      "description_width": ""
     }
    },
    "05d7e5024535439c96a5e823895a4d19": {
     "model_module": "@jupyter-widgets/controls",
     "model_module_version": "1.5.0",
     "model_name": "DescriptionStyleModel",
     "state": {
      "_model_module": "@jupyter-widgets/controls",
      "_model_module_version": "1.5.0",
      "_model_name": "DescriptionStyleModel",
      "_view_count": null,
      "_view_module": "@jupyter-widgets/base",
      "_view_module_version": "1.2.0",
      "_view_name": "StyleView",
      "description_width": ""
     }
    },
    "0af9c830bd574fd7ab98cdaaf6df5965": {
     "model_module": "@jupyter-widgets/controls",
     "model_module_version": "1.5.0",
     "model_name": "HBoxModel",
     "state": {
      "_dom_classes": [],
      "_model_module": "@jupyter-widgets/controls",
      "_model_module_version": "1.5.0",
      "_model_name": "HBoxModel",
      "_view_count": null,
      "_view_module": "@jupyter-widgets/controls",
      "_view_module_version": "1.5.0",
      "_view_name": "HBoxView",
      "box_style": "",
      "children": [
       "IPY_MODEL_b86111d358844a63878e3b001d008202",
       "IPY_MODEL_3a226c7577e14550a619137c641bb05f",
       "IPY_MODEL_3b74ca5db5244ba6bbcad741357171f9"
      ],
      "layout": "IPY_MODEL_1a7fde740f5043acabdc6427ca60b778"
     }
    },
    "0c88c4f79de843f19ba9ad313a1d6221": {
     "model_module": "@jupyter-widgets/base",
     "model_module_version": "1.2.0",
     "model_name": "LayoutModel",
     "state": {
      "_model_module": "@jupyter-widgets/base",
      "_model_module_version": "1.2.0",
      "_model_name": "LayoutModel",
      "_view_count": null,
      "_view_module": "@jupyter-widgets/base",
      "_view_module_version": "1.2.0",
      "_view_name": "LayoutView",
      "align_content": null,
      "align_items": null,
      "align_self": null,
      "border": null,
      "bottom": null,
      "display": null,
      "flex": null,
      "flex_flow": null,
      "grid_area": null,
      "grid_auto_columns": null,
      "grid_auto_flow": null,
      "grid_auto_rows": null,
      "grid_column": null,
      "grid_gap": null,
      "grid_row": null,
      "grid_template_areas": null,
      "grid_template_columns": null,
      "grid_template_rows": null,
      "height": null,
      "justify_content": null,
      "justify_items": null,
      "left": null,
      "margin": null,
      "max_height": null,
      "max_width": null,
      "min_height": null,
      "min_width": null,
      "object_fit": null,
      "object_position": null,
      "order": null,
      "overflow": null,
      "overflow_x": null,
      "overflow_y": null,
      "padding": null,
      "right": null,
      "top": null,
      "visibility": null,
      "width": null
     }
    },
    "0ea4e55576074d59913a006fc455a4ca": {
     "model_module": "@jupyter-widgets/base",
     "model_module_version": "1.2.0",
     "model_name": "LayoutModel",
     "state": {
      "_model_module": "@jupyter-widgets/base",
      "_model_module_version": "1.2.0",
      "_model_name": "LayoutModel",
      "_view_count": null,
      "_view_module": "@jupyter-widgets/base",
      "_view_module_version": "1.2.0",
      "_view_name": "LayoutView",
      "align_content": null,
      "align_items": null,
      "align_self": null,
      "border": null,
      "bottom": null,
      "display": null,
      "flex": null,
      "flex_flow": null,
      "grid_area": null,
      "grid_auto_columns": null,
      "grid_auto_flow": null,
      "grid_auto_rows": null,
      "grid_column": null,
      "grid_gap": null,
      "grid_row": null,
      "grid_template_areas": null,
      "grid_template_columns": null,
      "grid_template_rows": null,
      "height": null,
      "justify_content": null,
      "justify_items": null,
      "left": null,
      "margin": null,
      "max_height": null,
      "max_width": null,
      "min_height": null,
      "min_width": null,
      "object_fit": null,
      "object_position": null,
      "order": null,
      "overflow": null,
      "overflow_x": null,
      "overflow_y": null,
      "padding": null,
      "right": null,
      "top": null,
      "visibility": null,
      "width": null
     }
    },
    "16ffa712ff2e4287ad90cb19969a88d9": {
     "model_module": "@jupyter-widgets/controls",
     "model_module_version": "1.5.0",
     "model_name": "FloatProgressModel",
     "state": {
      "_dom_classes": [],
      "_model_module": "@jupyter-widgets/controls",
      "_model_module_version": "1.5.0",
      "_model_name": "FloatProgressModel",
      "_view_count": null,
      "_view_module": "@jupyter-widgets/controls",
      "_view_module_version": "1.5.0",
      "_view_name": "ProgressView",
      "bar_style": "success",
      "description": "",
      "description_tooltip": null,
      "layout": "IPY_MODEL_17dff1238a674a52a7b0c901c92bcbdf",
      "max": 1,
      "min": 0,
      "orientation": "horizontal",
      "style": "IPY_MODEL_27a3710fc24f40a19e1f8633905738b4",
      "value": 1
     }
    },
    "1781054e2fbe4948a4f788e7464441ed": {
     "model_module": "@jupyter-widgets/base",
     "model_module_version": "1.2.0",
     "model_name": "LayoutModel",
     "state": {
      "_model_module": "@jupyter-widgets/base",
      "_model_module_version": "1.2.0",
      "_model_name": "LayoutModel",
      "_view_count": null,
      "_view_module": "@jupyter-widgets/base",
      "_view_module_version": "1.2.0",
      "_view_name": "LayoutView",
      "align_content": null,
      "align_items": null,
      "align_self": null,
      "border": null,
      "bottom": null,
      "display": null,
      "flex": null,
      "flex_flow": null,
      "grid_area": null,
      "grid_auto_columns": null,
      "grid_auto_flow": null,
      "grid_auto_rows": null,
      "grid_column": null,
      "grid_gap": null,
      "grid_row": null,
      "grid_template_areas": null,
      "grid_template_columns": null,
      "grid_template_rows": null,
      "height": null,
      "justify_content": null,
      "justify_items": null,
      "left": null,
      "margin": null,
      "max_height": null,
      "max_width": null,
      "min_height": null,
      "min_width": null,
      "object_fit": null,
      "object_position": null,
      "order": null,
      "overflow": null,
      "overflow_x": null,
      "overflow_y": null,
      "padding": null,
      "right": null,
      "top": null,
      "visibility": null,
      "width": null
     }
    },
    "17dff1238a674a52a7b0c901c92bcbdf": {
     "model_module": "@jupyter-widgets/base",
     "model_module_version": "1.2.0",
     "model_name": "LayoutModel",
     "state": {
      "_model_module": "@jupyter-widgets/base",
      "_model_module_version": "1.2.0",
      "_model_name": "LayoutModel",
      "_view_count": null,
      "_view_module": "@jupyter-widgets/base",
      "_view_module_version": "1.2.0",
      "_view_name": "LayoutView",
      "align_content": null,
      "align_items": null,
      "align_self": null,
      "border": null,
      "bottom": null,
      "display": null,
      "flex": null,
      "flex_flow": null,
      "grid_area": null,
      "grid_auto_columns": null,
      "grid_auto_flow": null,
      "grid_auto_rows": null,
      "grid_column": null,
      "grid_gap": null,
      "grid_row": null,
      "grid_template_areas": null,
      "grid_template_columns": null,
      "grid_template_rows": null,
      "height": null,
      "justify_content": null,
      "justify_items": null,
      "left": null,
      "margin": null,
      "max_height": null,
      "max_width": null,
      "min_height": null,
      "min_width": null,
      "object_fit": null,
      "object_position": null,
      "order": null,
      "overflow": null,
      "overflow_x": null,
      "overflow_y": null,
      "padding": null,
      "right": null,
      "top": null,
      "visibility": null,
      "width": "20px"
     }
    },
    "18e060de90984e7081aa2163bfaae564": {
     "model_module": "@jupyter-widgets/base",
     "model_module_version": "1.2.0",
     "model_name": "LayoutModel",
     "state": {
      "_model_module": "@jupyter-widgets/base",
      "_model_module_version": "1.2.0",
      "_model_name": "LayoutModel",
      "_view_count": null,
      "_view_module": "@jupyter-widgets/base",
      "_view_module_version": "1.2.0",
      "_view_name": "LayoutView",
      "align_content": null,
      "align_items": null,
      "align_self": null,
      "border": null,
      "bottom": null,
      "display": null,
      "flex": null,
      "flex_flow": null,
      "grid_area": null,
      "grid_auto_columns": null,
      "grid_auto_flow": null,
      "grid_auto_rows": null,
      "grid_column": null,
      "grid_gap": null,
      "grid_row": null,
      "grid_template_areas": null,
      "grid_template_columns": null,
      "grid_template_rows": null,
      "height": null,
      "justify_content": null,
      "justify_items": null,
      "left": null,
      "margin": null,
      "max_height": null,
      "max_width": null,
      "min_height": null,
      "min_width": null,
      "object_fit": null,
      "object_position": null,
      "order": null,
      "overflow": null,
      "overflow_x": null,
      "overflow_y": null,
      "padding": null,
      "right": null,
      "top": null,
      "visibility": null,
      "width": null
     }
    },
    "1a7fde740f5043acabdc6427ca60b778": {
     "model_module": "@jupyter-widgets/base",
     "model_module_version": "1.2.0",
     "model_name": "LayoutModel",
     "state": {
      "_model_module": "@jupyter-widgets/base",
      "_model_module_version": "1.2.0",
      "_model_name": "LayoutModel",
      "_view_count": null,
      "_view_module": "@jupyter-widgets/base",
      "_view_module_version": "1.2.0",
      "_view_name": "LayoutView",
      "align_content": null,
      "align_items": null,
      "align_self": null,
      "border": null,
      "bottom": null,
      "display": null,
      "flex": null,
      "flex_flow": null,
      "grid_area": null,
      "grid_auto_columns": null,
      "grid_auto_flow": null,
      "grid_auto_rows": null,
      "grid_column": null,
      "grid_gap": null,
      "grid_row": null,
      "grid_template_areas": null,
      "grid_template_columns": null,
      "grid_template_rows": null,
      "height": null,
      "justify_content": null,
      "justify_items": null,
      "left": null,
      "margin": null,
      "max_height": null,
      "max_width": null,
      "min_height": null,
      "min_width": null,
      "object_fit": null,
      "object_position": null,
      "order": null,
      "overflow": null,
      "overflow_x": null,
      "overflow_y": null,
      "padding": null,
      "right": null,
      "top": null,
      "visibility": null,
      "width": null
     }
    },
    "1a8ac6d66312469880ab564c7177562f": {
     "model_module": "@jupyter-widgets/controls",
     "model_module_version": "1.5.0",
     "model_name": "DescriptionStyleModel",
     "state": {
      "_model_module": "@jupyter-widgets/controls",
      "_model_module_version": "1.5.0",
      "_model_name": "DescriptionStyleModel",
      "_view_count": null,
      "_view_module": "@jupyter-widgets/base",
      "_view_module_version": "1.2.0",
      "_view_name": "StyleView",
      "description_width": ""
     }
    },
    "1d37a17747464d25a2a91a606d1ccd57": {
     "model_module": "@jupyter-widgets/controls",
     "model_module_version": "1.5.0",
     "model_name": "DescriptionStyleModel",
     "state": {
      "_model_module": "@jupyter-widgets/controls",
      "_model_module_version": "1.5.0",
      "_model_name": "DescriptionStyleModel",
      "_view_count": null,
      "_view_module": "@jupyter-widgets/base",
      "_view_module_version": "1.2.0",
      "_view_name": "StyleView",
      "description_width": ""
     }
    },
    "20f72ca525dd4f3b9673dde39b94598e": {
     "model_module": "@jupyter-widgets/base",
     "model_module_version": "1.2.0",
     "model_name": "LayoutModel",
     "state": {
      "_model_module": "@jupyter-widgets/base",
      "_model_module_version": "1.2.0",
      "_model_name": "LayoutModel",
      "_view_count": null,
      "_view_module": "@jupyter-widgets/base",
      "_view_module_version": "1.2.0",
      "_view_name": "LayoutView",
      "align_content": null,
      "align_items": null,
      "align_self": null,
      "border": null,
      "bottom": null,
      "display": null,
      "flex": null,
      "flex_flow": null,
      "grid_area": null,
      "grid_auto_columns": null,
      "grid_auto_flow": null,
      "grid_auto_rows": null,
      "grid_column": null,
      "grid_gap": null,
      "grid_row": null,
      "grid_template_areas": null,
      "grid_template_columns": null,
      "grid_template_rows": null,
      "height": null,
      "justify_content": null,
      "justify_items": null,
      "left": null,
      "margin": null,
      "max_height": null,
      "max_width": null,
      "min_height": null,
      "min_width": null,
      "object_fit": null,
      "object_position": null,
      "order": null,
      "overflow": null,
      "overflow_x": null,
      "overflow_y": null,
      "padding": null,
      "right": null,
      "top": null,
      "visibility": null,
      "width": null
     }
    },
    "25614a17feed47449860819ab4185334": {
     "model_module": "@jupyter-widgets/base",
     "model_module_version": "1.2.0",
     "model_name": "LayoutModel",
     "state": {
      "_model_module": "@jupyter-widgets/base",
      "_model_module_version": "1.2.0",
      "_model_name": "LayoutModel",
      "_view_count": null,
      "_view_module": "@jupyter-widgets/base",
      "_view_module_version": "1.2.0",
      "_view_name": "LayoutView",
      "align_content": null,
      "align_items": null,
      "align_self": null,
      "border": null,
      "bottom": null,
      "display": null,
      "flex": null,
      "flex_flow": null,
      "grid_area": null,
      "grid_auto_columns": null,
      "grid_auto_flow": null,
      "grid_auto_rows": null,
      "grid_column": null,
      "grid_gap": null,
      "grid_row": null,
      "grid_template_areas": null,
      "grid_template_columns": null,
      "grid_template_rows": null,
      "height": null,
      "justify_content": null,
      "justify_items": null,
      "left": null,
      "margin": null,
      "max_height": null,
      "max_width": null,
      "min_height": null,
      "min_width": null,
      "object_fit": null,
      "object_position": null,
      "order": null,
      "overflow": null,
      "overflow_x": null,
      "overflow_y": null,
      "padding": null,
      "right": null,
      "top": null,
      "visibility": null,
      "width": null
     }
    },
    "27a3710fc24f40a19e1f8633905738b4": {
     "model_module": "@jupyter-widgets/controls",
     "model_module_version": "1.5.0",
     "model_name": "ProgressStyleModel",
     "state": {
      "_model_module": "@jupyter-widgets/controls",
      "_model_module_version": "1.5.0",
      "_model_name": "ProgressStyleModel",
      "_view_count": null,
      "_view_module": "@jupyter-widgets/base",
      "_view_module_version": "1.2.0",
      "_view_name": "StyleView",
      "bar_color": null,
      "description_width": ""
     }
    },
    "2910f05c3b0e418eb1a76d9cb8688c19": {
     "model_module": "@jupyter-widgets/controls",
     "model_module_version": "1.5.0",
     "model_name": "ProgressStyleModel",
     "state": {
      "_model_module": "@jupyter-widgets/controls",
      "_model_module_version": "1.5.0",
      "_model_name": "ProgressStyleModel",
      "_view_count": null,
      "_view_module": "@jupyter-widgets/base",
      "_view_module_version": "1.2.0",
      "_view_name": "StyleView",
      "bar_color": null,
      "description_width": ""
     }
    },
    "30f31075091047ff951aee5eff871362": {
     "model_module": "@jupyter-widgets/controls",
     "model_module_version": "1.5.0",
     "model_name": "ProgressStyleModel",
     "state": {
      "_model_module": "@jupyter-widgets/controls",
      "_model_module_version": "1.5.0",
      "_model_name": "ProgressStyleModel",
      "_view_count": null,
      "_view_module": "@jupyter-widgets/base",
      "_view_module_version": "1.2.0",
      "_view_name": "StyleView",
      "bar_color": null,
      "description_width": ""
     }
    },
    "313ed5f8612d4d4286b63d842fff228f": {
     "model_module": "@jupyter-widgets/base",
     "model_module_version": "1.2.0",
     "model_name": "LayoutModel",
     "state": {
      "_model_module": "@jupyter-widgets/base",
      "_model_module_version": "1.2.0",
      "_model_name": "LayoutModel",
      "_view_count": null,
      "_view_module": "@jupyter-widgets/base",
      "_view_module_version": "1.2.0",
      "_view_name": "LayoutView",
      "align_content": null,
      "align_items": null,
      "align_self": null,
      "border": null,
      "bottom": null,
      "display": null,
      "flex": null,
      "flex_flow": null,
      "grid_area": null,
      "grid_auto_columns": null,
      "grid_auto_flow": null,
      "grid_auto_rows": null,
      "grid_column": null,
      "grid_gap": null,
      "grid_row": null,
      "grid_template_areas": null,
      "grid_template_columns": null,
      "grid_template_rows": null,
      "height": null,
      "justify_content": null,
      "justify_items": null,
      "left": null,
      "margin": null,
      "max_height": null,
      "max_width": null,
      "min_height": null,
      "min_width": null,
      "object_fit": null,
      "object_position": null,
      "order": null,
      "overflow": null,
      "overflow_x": null,
      "overflow_y": null,
      "padding": null,
      "right": null,
      "top": null,
      "visibility": null,
      "width": null
     }
    },
    "36ec56b16423479aa21822d48a05632f": {
     "model_module": "@jupyter-widgets/controls",
     "model_module_version": "1.5.0",
     "model_name": "DescriptionStyleModel",
     "state": {
      "_model_module": "@jupyter-widgets/controls",
      "_model_module_version": "1.5.0",
      "_model_name": "DescriptionStyleModel",
      "_view_count": null,
      "_view_module": "@jupyter-widgets/base",
      "_view_module_version": "1.2.0",
      "_view_name": "StyleView",
      "description_width": ""
     }
    },
    "3a226c7577e14550a619137c641bb05f": {
     "model_module": "@jupyter-widgets/controls",
     "model_module_version": "1.5.0",
     "model_name": "FloatProgressModel",
     "state": {
      "_dom_classes": [],
      "_model_module": "@jupyter-widgets/controls",
      "_model_module_version": "1.5.0",
      "_model_name": "FloatProgressModel",
      "_view_count": null,
      "_view_module": "@jupyter-widgets/controls",
      "_view_module_version": "1.5.0",
      "_view_name": "ProgressView",
      "bar_style": "success",
      "description": "",
      "description_tooltip": null,
      "layout": "IPY_MODEL_f7697755bdd9494eac5aa3a520157ec9",
      "max": 1,
      "min": 0,
      "orientation": "horizontal",
      "style": "IPY_MODEL_626282d054424faa992b8d395b23546f",
      "value": 1
     }
    },
    "3b4a2b8061d14a7b8f8a246a78bf0a23": {
     "model_module": "@jupyter-widgets/controls",
     "model_module_version": "1.5.0",
     "model_name": "HTMLModel",
     "state": {
      "_dom_classes": [],
      "_model_module": "@jupyter-widgets/controls",
      "_model_module_version": "1.5.0",
      "_model_name": "HTMLModel",
      "_view_count": null,
      "_view_module": "@jupyter-widgets/controls",
      "_view_module_version": "1.5.0",
      "_view_name": "HTMLView",
      "description": "",
      "description_tooltip": null,
      "layout": "IPY_MODEL_93574226403e4780acad776aad7c1f84",
      "placeholder": "​",
      "style": "IPY_MODEL_53ba673b0766466d995ba4da8e48e931",
      "value": " 63/? [00:22&lt;00:00,  3.19it/s, train_loss=1.21, icl_score=-2.53, steps=189]"
     }
    },
    "3b74ca5db5244ba6bbcad741357171f9": {
     "model_module": "@jupyter-widgets/controls",
     "model_module_version": "1.5.0",
     "model_name": "HTMLModel",
     "state": {
      "_dom_classes": [],
      "_model_module": "@jupyter-widgets/controls",
      "_model_module_version": "1.5.0",
      "_model_name": "HTMLModel",
      "_view_count": null,
      "_view_module": "@jupyter-widgets/controls",
      "_view_module_version": "1.5.0",
      "_view_name": "HTMLView",
      "description": "",
      "description_tooltip": null,
      "layout": "IPY_MODEL_8a33d1e380084cf2a3c2c2405a4b9e29",
      "placeholder": "​",
      "style": "IPY_MODEL_056ecc69f211460f9999ac52e581923f",
      "value": " 63/? [00:23&lt;00:00,  3.16it/s, train_loss=1.08, icl_score=-2.38, steps=441]"
     }
    },
    "3c686777db8b4e45a45fb3cdbdbff207": {
     "model_module": "@jupyter-widgets/controls",
     "model_module_version": "1.5.0",
     "model_name": "HBoxModel",
     "state": {
      "_dom_classes": [],
      "_model_module": "@jupyter-widgets/controls",
      "_model_module_version": "1.5.0",
      "_model_name": "HBoxModel",
      "_view_count": null,
      "_view_module": "@jupyter-widgets/controls",
      "_view_module_version": "1.5.0",
      "_view_name": "HBoxView",
      "box_style": "",
      "children": [
       "IPY_MODEL_c381aff7e89f44d7a655a72e582af7b8",
       "IPY_MODEL_6ea96f6ae66c458e88dcc524f63aa3cf",
       "IPY_MODEL_dd4ea53f43994eb8881a4b707c209022"
      ],
      "layout": "IPY_MODEL_66d27f7c20214214824fc7b8bab72a26"
     }
    },
    "3d151c904fcc488ba9ce6377a42cb432": {
     "model_module": "@jupyter-widgets/base",
     "model_module_version": "1.2.0",
     "model_name": "LayoutModel",
     "state": {
      "_model_module": "@jupyter-widgets/base",
      "_model_module_version": "1.2.0",
      "_model_name": "LayoutModel",
      "_view_count": null,
      "_view_module": "@jupyter-widgets/base",
      "_view_module_version": "1.2.0",
      "_view_name": "LayoutView",
      "align_content": null,
      "align_items": null,
      "align_self": null,
      "border": null,
      "bottom": null,
      "display": null,
      "flex": null,
      "flex_flow": null,
      "grid_area": null,
      "grid_auto_columns": null,
      "grid_auto_flow": null,
      "grid_auto_rows": null,
      "grid_column": null,
      "grid_gap": null,
      "grid_row": null,
      "grid_template_areas": null,
      "grid_template_columns": null,
      "grid_template_rows": null,
      "height": null,
      "justify_content": null,
      "justify_items": null,
      "left": null,
      "margin": null,
      "max_height": null,
      "max_width": null,
      "min_height": null,
      "min_width": null,
      "object_fit": null,
      "object_position": null,
      "order": null,
      "overflow": null,
      "overflow_x": null,
      "overflow_y": null,
      "padding": null,
      "right": null,
      "top": null,
      "visibility": null,
      "width": null
     }
    },
    "4256ef583c584a9692354a2ed3f68e07": {
     "model_module": "@jupyter-widgets/base",
     "model_module_version": "1.2.0",
     "model_name": "LayoutModel",
     "state": {
      "_model_module": "@jupyter-widgets/base",
      "_model_module_version": "1.2.0",
      "_model_name": "LayoutModel",
      "_view_count": null,
      "_view_module": "@jupyter-widgets/base",
      "_view_module_version": "1.2.0",
      "_view_name": "LayoutView",
      "align_content": null,
      "align_items": null,
      "align_self": null,
      "border": null,
      "bottom": null,
      "display": null,
      "flex": null,
      "flex_flow": null,
      "grid_area": null,
      "grid_auto_columns": null,
      "grid_auto_flow": null,
      "grid_auto_rows": null,
      "grid_column": null,
      "grid_gap": null,
      "grid_row": null,
      "grid_template_areas": null,
      "grid_template_columns": null,
      "grid_template_rows": null,
      "height": null,
      "justify_content": null,
      "justify_items": null,
      "left": null,
      "margin": null,
      "max_height": null,
      "max_width": null,
      "min_height": null,
      "min_width": null,
      "object_fit": null,
      "object_position": null,
      "order": null,
      "overflow": null,
      "overflow_x": null,
      "overflow_y": null,
      "padding": null,
      "right": null,
      "top": null,
      "visibility": null,
      "width": "20px"
     }
    },
    "441eb5ea177d4befbceaf6f19b893bfd": {
     "model_module": "@jupyter-widgets/controls",
     "model_module_version": "1.5.0",
     "model_name": "FloatProgressModel",
     "state": {
      "_dom_classes": [],
      "_model_module": "@jupyter-widgets/controls",
      "_model_module_version": "1.5.0",
      "_model_name": "FloatProgressModel",
      "_view_count": null,
      "_view_module": "@jupyter-widgets/controls",
      "_view_module_version": "1.5.0",
      "_view_name": "ProgressView",
      "bar_style": "danger",
      "description": "",
      "description_tooltip": null,
      "layout": "IPY_MODEL_823e6a4916bd48b0bda424fdf8964d99",
      "max": 1,
      "min": 0,
      "orientation": "horizontal",
      "style": "IPY_MODEL_00a05e73092e41918b258c4034208603",
      "value": 1
     }
    },
    "465f5b8cb87e4d469cd1f767e848b6a9": {
     "model_module": "@jupyter-widgets/base",
     "model_module_version": "1.2.0",
     "model_name": "LayoutModel",
     "state": {
      "_model_module": "@jupyter-widgets/base",
      "_model_module_version": "1.2.0",
      "_model_name": "LayoutModel",
      "_view_count": null,
      "_view_module": "@jupyter-widgets/base",
      "_view_module_version": "1.2.0",
      "_view_name": "LayoutView",
      "align_content": null,
      "align_items": null,
      "align_self": null,
      "border": null,
      "bottom": null,
      "display": null,
      "flex": null,
      "flex_flow": null,
      "grid_area": null,
      "grid_auto_columns": null,
      "grid_auto_flow": null,
      "grid_auto_rows": null,
      "grid_column": null,
      "grid_gap": null,
      "grid_row": null,
      "grid_template_areas": null,
      "grid_template_columns": null,
      "grid_template_rows": null,
      "height": null,
      "justify_content": null,
      "justify_items": null,
      "left": null,
      "margin": null,
      "max_height": null,
      "max_width": null,
      "min_height": null,
      "min_width": null,
      "object_fit": null,
      "object_position": null,
      "order": null,
      "overflow": null,
      "overflow_x": null,
      "overflow_y": null,
      "padding": null,
      "right": null,
      "top": null,
      "visibility": null,
      "width": null
     }
    },
    "4bb795a0b4f2443cb44f4c8ba19bd2f5": {
     "model_module": "@jupyter-widgets/base",
     "model_module_version": "1.2.0",
     "model_name": "LayoutModel",
     "state": {
      "_model_module": "@jupyter-widgets/base",
      "_model_module_version": "1.2.0",
      "_model_name": "LayoutModel",
      "_view_count": null,
      "_view_module": "@jupyter-widgets/base",
      "_view_module_version": "1.2.0",
      "_view_name": "LayoutView",
      "align_content": null,
      "align_items": null,
      "align_self": null,
      "border": null,
      "bottom": null,
      "display": null,
      "flex": null,
      "flex_flow": null,
      "grid_area": null,
      "grid_auto_columns": null,
      "grid_auto_flow": null,
      "grid_auto_rows": null,
      "grid_column": null,
      "grid_gap": null,
      "grid_row": null,
      "grid_template_areas": null,
      "grid_template_columns": null,
      "grid_template_rows": null,
      "height": null,
      "justify_content": null,
      "justify_items": null,
      "left": null,
      "margin": null,
      "max_height": null,
      "max_width": null,
      "min_height": null,
      "min_width": null,
      "object_fit": null,
      "object_position": null,
      "order": null,
      "overflow": null,
      "overflow_x": null,
      "overflow_y": null,
      "padding": null,
      "right": null,
      "top": null,
      "visibility": null,
      "width": null
     }
    },
    "4c52f7dafeea41d09e337725d8f56a80": {
     "model_module": "@jupyter-widgets/base",
     "model_module_version": "1.2.0",
     "model_name": "LayoutModel",
     "state": {
      "_model_module": "@jupyter-widgets/base",
      "_model_module_version": "1.2.0",
      "_model_name": "LayoutModel",
      "_view_count": null,
      "_view_module": "@jupyter-widgets/base",
      "_view_module_version": "1.2.0",
      "_view_name": "LayoutView",
      "align_content": null,
      "align_items": null,
      "align_self": null,
      "border": null,
      "bottom": null,
      "display": null,
      "flex": null,
      "flex_flow": null,
      "grid_area": null,
      "grid_auto_columns": null,
      "grid_auto_flow": null,
      "grid_auto_rows": null,
      "grid_column": null,
      "grid_gap": null,
      "grid_row": null,
      "grid_template_areas": null,
      "grid_template_columns": null,
      "grid_template_rows": null,
      "height": null,
      "justify_content": null,
      "justify_items": null,
      "left": null,
      "margin": null,
      "max_height": null,
      "max_width": null,
      "min_height": null,
      "min_width": null,
      "object_fit": null,
      "object_position": null,
      "order": null,
      "overflow": null,
      "overflow_x": null,
      "overflow_y": null,
      "padding": null,
      "right": null,
      "top": null,
      "visibility": null,
      "width": null
     }
    },
    "4ce0895a48334ca7a92b3ba9031df515": {
     "model_module": "@jupyter-widgets/controls",
     "model_module_version": "1.5.0",
     "model_name": "DescriptionStyleModel",
     "state": {
      "_model_module": "@jupyter-widgets/controls",
      "_model_module_version": "1.5.0",
      "_model_name": "DescriptionStyleModel",
      "_view_count": null,
      "_view_module": "@jupyter-widgets/base",
      "_view_module_version": "1.2.0",
      "_view_name": "StyleView",
      "description_width": ""
     }
    },
    "514980eb78304705a0a32ce3c3085c7e": {
     "model_module": "@jupyter-widgets/controls",
     "model_module_version": "1.5.0",
     "model_name": "FloatProgressModel",
     "state": {
      "_dom_classes": [],
      "_model_module": "@jupyter-widgets/controls",
      "_model_module_version": "1.5.0",
      "_model_name": "FloatProgressModel",
      "_view_count": null,
      "_view_module": "@jupyter-widgets/controls",
      "_view_module_version": "1.5.0",
      "_view_name": "ProgressView",
      "bar_style": "success",
      "description": "",
      "description_tooltip": null,
      "layout": "IPY_MODEL_859eaac29c0a4976af94056f96330819",
      "max": 1,
      "min": 0,
      "orientation": "horizontal",
      "style": "IPY_MODEL_c0e22deb971f42fe83930ab9b1b9921c",
      "value": 1
     }
    },
    "52f475b9c22d463db047ff42d8e9bc2c": {
     "model_module": "@jupyter-widgets/controls",
     "model_module_version": "1.5.0",
     "model_name": "HTMLModel",
     "state": {
      "_dom_classes": [],
      "_model_module": "@jupyter-widgets/controls",
      "_model_module_version": "1.5.0",
      "_model_name": "HTMLModel",
      "_view_count": null,
      "_view_module": "@jupyter-widgets/controls",
      "_view_module_version": "1.5.0",
      "_view_name": "HTMLView",
      "description": "",
      "description_tooltip": null,
      "layout": "IPY_MODEL_0c88c4f79de843f19ba9ad313a1d6221",
      "placeholder": "​",
      "style": "IPY_MODEL_c3c136a8b035468eac398e4465d336d7",
      "value": " 8/100 [03:06&lt;35:26, 23.12s/it]"
     }
    },
    "53ba673b0766466d995ba4da8e48e931": {
     "model_module": "@jupyter-widgets/controls",
     "model_module_version": "1.5.0",
     "model_name": "DescriptionStyleModel",
     "state": {
      "_model_module": "@jupyter-widgets/controls",
      "_model_module_version": "1.5.0",
      "_model_name": "DescriptionStyleModel",
      "_view_count": null,
      "_view_module": "@jupyter-widgets/base",
      "_view_module_version": "1.2.0",
      "_view_name": "StyleView",
      "description_width": ""
     }
    },
    "5bbb696e69ff4d48914dc950173813e9": {
     "model_module": "@jupyter-widgets/base",
     "model_module_version": "1.2.0",
     "model_name": "LayoutModel",
     "state": {
      "_model_module": "@jupyter-widgets/base",
      "_model_module_version": "1.2.0",
      "_model_name": "LayoutModel",
      "_view_count": null,
      "_view_module": "@jupyter-widgets/base",
      "_view_module_version": "1.2.0",
      "_view_name": "LayoutView",
      "align_content": null,
      "align_items": null,
      "align_self": null,
      "border": null,
      "bottom": null,
      "display": null,
      "flex": null,
      "flex_flow": null,
      "grid_area": null,
      "grid_auto_columns": null,
      "grid_auto_flow": null,
      "grid_auto_rows": null,
      "grid_column": null,
      "grid_gap": null,
      "grid_row": null,
      "grid_template_areas": null,
      "grid_template_columns": null,
      "grid_template_rows": null,
      "height": null,
      "justify_content": null,
      "justify_items": null,
      "left": null,
      "margin": null,
      "max_height": null,
      "max_width": null,
      "min_height": null,
      "min_width": null,
      "object_fit": null,
      "object_position": null,
      "order": null,
      "overflow": null,
      "overflow_x": null,
      "overflow_y": null,
      "padding": null,
      "right": null,
      "top": null,
      "visibility": null,
      "width": null
     }
    },
    "5e3cd16860e744608d7161cc35e61e9b": {
     "model_module": "@jupyter-widgets/controls",
     "model_module_version": "1.5.0",
     "model_name": "DescriptionStyleModel",
     "state": {
      "_model_module": "@jupyter-widgets/controls",
      "_model_module_version": "1.5.0",
      "_model_name": "DescriptionStyleModel",
      "_view_count": null,
      "_view_module": "@jupyter-widgets/base",
      "_view_module_version": "1.2.0",
      "_view_name": "StyleView",
      "description_width": ""
     }
    },
    "5e990a1c80a94fc4ab97446bb730e79f": {
     "model_module": "@jupyter-widgets/controls",
     "model_module_version": "1.5.0",
     "model_name": "HTMLModel",
     "state": {
      "_dom_classes": [],
      "_model_module": "@jupyter-widgets/controls",
      "_model_module_version": "1.5.0",
      "_model_name": "HTMLModel",
      "_view_count": null,
      "_view_module": "@jupyter-widgets/controls",
      "_view_module_version": "1.5.0",
      "_view_name": "HTMLView",
      "description": "",
      "description_tooltip": null,
      "layout": "IPY_MODEL_db96978ef1d8428c9980ab0eb71fa0c1",
      "placeholder": "​",
      "style": "IPY_MODEL_36ec56b16423479aa21822d48a05632f",
      "value": " 63/? [00:23&lt;00:00,  3.15it/s, train_loss=1.19, icl_score=-2.42, steps=252]"
     }
    },
    "5e9bc0fcb4bf41989983baece2422a50": {
     "model_module": "@jupyter-widgets/controls",
     "model_module_version": "1.5.0",
     "model_name": "HBoxModel",
     "state": {
      "_dom_classes": [],
      "_model_module": "@jupyter-widgets/controls",
      "_model_module_version": "1.5.0",
      "_model_name": "HBoxModel",
      "_view_count": null,
      "_view_module": "@jupyter-widgets/controls",
      "_view_module_version": "1.5.0",
      "_view_name": "HBoxView",
      "box_style": "",
      "children": [
       "IPY_MODEL_710a190e40494325a45ece8eb0a4b158",
       "IPY_MODEL_a424bda0989845beb9f2bb0aad737960",
       "IPY_MODEL_52f475b9c22d463db047ff42d8e9bc2c"
      ],
      "layout": "IPY_MODEL_9eb95bb9bcd54fa9bc0ffe75060a864e"
     }
    },
    "626282d054424faa992b8d395b23546f": {
     "model_module": "@jupyter-widgets/controls",
     "model_module_version": "1.5.0",
     "model_name": "ProgressStyleModel",
     "state": {
      "_model_module": "@jupyter-widgets/controls",
      "_model_module_version": "1.5.0",
      "_model_name": "ProgressStyleModel",
      "_view_count": null,
      "_view_module": "@jupyter-widgets/base",
      "_view_module_version": "1.2.0",
      "_view_name": "StyleView",
      "bar_color": null,
      "description_width": ""
     }
    },
    "643bce502d93478e99d0c639617a3e0b": {
     "model_module": "@jupyter-widgets/controls",
     "model_module_version": "1.5.0",
     "model_name": "HTMLModel",
     "state": {
      "_dom_classes": [],
      "_model_module": "@jupyter-widgets/controls",
      "_model_module_version": "1.5.0",
      "_model_name": "HTMLModel",
      "_view_count": null,
      "_view_module": "@jupyter-widgets/controls",
      "_view_module_version": "1.5.0",
      "_view_name": "HTMLView",
      "description": "",
      "description_tooltip": null,
      "layout": "IPY_MODEL_f8f472aa78f343199ca09097c475fa02",
      "placeholder": "​",
      "style": "IPY_MODEL_c19bd45457d646b986f3d97281970ad2",
      "value": ""
     }
    },
    "66d27f7c20214214824fc7b8bab72a26": {
     "model_module": "@jupyter-widgets/base",
     "model_module_version": "1.2.0",
     "model_name": "LayoutModel",
     "state": {
      "_model_module": "@jupyter-widgets/base",
      "_model_module_version": "1.2.0",
      "_model_name": "LayoutModel",
      "_view_count": null,
      "_view_module": "@jupyter-widgets/base",
      "_view_module_version": "1.2.0",
      "_view_name": "LayoutView",
      "align_content": null,
      "align_items": null,
      "align_self": null,
      "border": null,
      "bottom": null,
      "display": null,
      "flex": null,
      "flex_flow": null,
      "grid_area": null,
      "grid_auto_columns": null,
      "grid_auto_flow": null,
      "grid_auto_rows": null,
      "grid_column": null,
      "grid_gap": null,
      "grid_row": null,
      "grid_template_areas": null,
      "grid_template_columns": null,
      "grid_template_rows": null,
      "height": null,
      "justify_content": null,
      "justify_items": null,
      "left": null,
      "margin": null,
      "max_height": null,
      "max_width": null,
      "min_height": null,
      "min_width": null,
      "object_fit": null,
      "object_position": null,
      "order": null,
      "overflow": null,
      "overflow_x": null,
      "overflow_y": null,
      "padding": null,
      "right": null,
      "top": null,
      "visibility": null,
      "width": null
     }
    },
    "6b8c7f813b474fccb95c5b8156a7699f": {
     "model_module": "@jupyter-widgets/controls",
     "model_module_version": "1.5.0",
     "model_name": "DescriptionStyleModel",
     "state": {
      "_model_module": "@jupyter-widgets/controls",
      "_model_module_version": "1.5.0",
      "_model_name": "DescriptionStyleModel",
      "_view_count": null,
      "_view_module": "@jupyter-widgets/base",
      "_view_module_version": "1.2.0",
      "_view_name": "StyleView",
      "description_width": ""
     }
    },
    "6c099a85705a45ad8d57e1d643ff31de": {
     "model_module": "@jupyter-widgets/controls",
     "model_module_version": "1.5.0",
     "model_name": "HBoxModel",
     "state": {
      "_dom_classes": [],
      "_model_module": "@jupyter-widgets/controls",
      "_model_module_version": "1.5.0",
      "_model_name": "HBoxModel",
      "_view_count": null,
      "_view_module": "@jupyter-widgets/controls",
      "_view_module_version": "1.5.0",
      "_view_name": "HBoxView",
      "box_style": "",
      "children": [
       "IPY_MODEL_cc435c1fad784afe87417cd2a1f4b49e",
       "IPY_MODEL_befc1df6a872482e9c33f3b3b40ee54c",
       "IPY_MODEL_3b4a2b8061d14a7b8f8a246a78bf0a23"
      ],
      "layout": "IPY_MODEL_93fad50b6950484299cf0e806d09fdd8"
     }
    },
    "6ea96f6ae66c458e88dcc524f63aa3cf": {
     "model_module": "@jupyter-widgets/controls",
     "model_module_version": "1.5.0",
     "model_name": "FloatProgressModel",
     "state": {
      "_dom_classes": [],
      "_model_module": "@jupyter-widgets/controls",
      "_model_module_version": "1.5.0",
      "_model_name": "FloatProgressModel",
      "_view_count": null,
      "_view_module": "@jupyter-widgets/controls",
      "_view_module_version": "1.5.0",
      "_view_name": "ProgressView",
      "bar_style": "success",
      "description": "",
      "description_tooltip": null,
      "layout": "IPY_MODEL_a9632dafcb8540a9b3caf643df1712a2",
      "max": 1,
      "min": 0,
      "orientation": "horizontal",
      "style": "IPY_MODEL_d06158c6cdce4a5f89defd59e69d073e",
      "value": 1
     }
    },
    "710a190e40494325a45ece8eb0a4b158": {
     "model_module": "@jupyter-widgets/controls",
     "model_module_version": "1.5.0",
     "model_name": "HTMLModel",
     "state": {
      "_dom_classes": [],
      "_model_module": "@jupyter-widgets/controls",
      "_model_module_version": "1.5.0",
      "_model_name": "HTMLModel",
      "_view_count": null,
      "_view_module": "@jupyter-widgets/controls",
      "_view_module_version": "1.5.0",
      "_view_name": "HTMLView",
      "description": "",
      "description_tooltip": null,
      "layout": "IPY_MODEL_e4b1be6554ec47a4b31847e7933ae3bc",
      "placeholder": "​",
      "style": "IPY_MODEL_e043d7a8d5c64f88be664c8cf3c122c5",
      "value": "  8%"
     }
    },
    "7503e3af44e8468d8741aa3a44f2e82b": {
     "model_module": "@jupyter-widgets/base",
     "model_module_version": "1.2.0",
     "model_name": "LayoutModel",
     "state": {
      "_model_module": "@jupyter-widgets/base",
      "_model_module_version": "1.2.0",
      "_model_name": "LayoutModel",
      "_view_count": null,
      "_view_module": "@jupyter-widgets/base",
      "_view_module_version": "1.2.0",
      "_view_name": "LayoutView",
      "align_content": null,
      "align_items": null,
      "align_self": null,
      "border": null,
      "bottom": null,
      "display": null,
      "flex": null,
      "flex_flow": null,
      "grid_area": null,
      "grid_auto_columns": null,
      "grid_auto_flow": null,
      "grid_auto_rows": null,
      "grid_column": null,
      "grid_gap": null,
      "grid_row": null,
      "grid_template_areas": null,
      "grid_template_columns": null,
      "grid_template_rows": null,
      "height": null,
      "justify_content": null,
      "justify_items": null,
      "left": null,
      "margin": null,
      "max_height": null,
      "max_width": null,
      "min_height": null,
      "min_width": null,
      "object_fit": null,
      "object_position": null,
      "order": null,
      "overflow": null,
      "overflow_x": null,
      "overflow_y": null,
      "padding": null,
      "right": null,
      "top": null,
      "visibility": null,
      "width": "20px"
     }
    },
    "77ebabcdb7f440a29abfc028c2ba52c6": {
     "model_module": "@jupyter-widgets/controls",
     "model_module_version": "1.5.0",
     "model_name": "ProgressStyleModel",
     "state": {
      "_model_module": "@jupyter-widgets/controls",
      "_model_module_version": "1.5.0",
      "_model_name": "ProgressStyleModel",
      "_view_count": null,
      "_view_module": "@jupyter-widgets/base",
      "_view_module_version": "1.2.0",
      "_view_name": "StyleView",
      "bar_color": null,
      "description_width": ""
     }
    },
    "793e2d4d6778415b84864a95bf3532a6": {
     "model_module": "@jupyter-widgets/base",
     "model_module_version": "1.2.0",
     "model_name": "LayoutModel",
     "state": {
      "_model_module": "@jupyter-widgets/base",
      "_model_module_version": "1.2.0",
      "_model_name": "LayoutModel",
      "_view_count": null,
      "_view_module": "@jupyter-widgets/base",
      "_view_module_version": "1.2.0",
      "_view_name": "LayoutView",
      "align_content": null,
      "align_items": null,
      "align_self": null,
      "border": null,
      "bottom": null,
      "display": null,
      "flex": null,
      "flex_flow": null,
      "grid_area": null,
      "grid_auto_columns": null,
      "grid_auto_flow": null,
      "grid_auto_rows": null,
      "grid_column": null,
      "grid_gap": null,
      "grid_row": null,
      "grid_template_areas": null,
      "grid_template_columns": null,
      "grid_template_rows": null,
      "height": null,
      "justify_content": null,
      "justify_items": null,
      "left": null,
      "margin": null,
      "max_height": null,
      "max_width": null,
      "min_height": null,
      "min_width": null,
      "object_fit": null,
      "object_position": null,
      "order": null,
      "overflow": null,
      "overflow_x": null,
      "overflow_y": null,
      "padding": null,
      "right": null,
      "top": null,
      "visibility": null,
      "width": null
     }
    },
    "7c991e4e3dd743b6a02078ec607f41bd": {
     "model_module": "@jupyter-widgets/controls",
     "model_module_version": "1.5.0",
     "model_name": "HTMLModel",
     "state": {
      "_dom_classes": [],
      "_model_module": "@jupyter-widgets/controls",
      "_model_module_version": "1.5.0",
      "_model_name": "HTMLModel",
      "_view_count": null,
      "_view_module": "@jupyter-widgets/controls",
      "_view_module_version": "1.5.0",
      "_view_name": "HTMLView",
      "description": "",
      "description_tooltip": null,
      "layout": "IPY_MODEL_4c52f7dafeea41d09e337725d8f56a80",
      "placeholder": "​",
      "style": "IPY_MODEL_5e3cd16860e744608d7161cc35e61e9b",
      "value": ""
     }
    },
    "7e3079bdff13438d851357744ac79d23": {
     "model_module": "@jupyter-widgets/controls",
     "model_module_version": "1.5.0",
     "model_name": "HBoxModel",
     "state": {
      "_dom_classes": [],
      "_model_module": "@jupyter-widgets/controls",
      "_model_module_version": "1.5.0",
      "_model_name": "HBoxModel",
      "_view_count": null,
      "_view_module": "@jupyter-widgets/controls",
      "_view_module_version": "1.5.0",
      "_view_name": "HBoxView",
      "box_style": "",
      "children": [
       "IPY_MODEL_7c991e4e3dd743b6a02078ec607f41bd",
       "IPY_MODEL_03ceeb7023a248b399eb17291792cb2b",
       "IPY_MODEL_86a12e728e11418181af56ee606eefd3"
      ],
      "layout": "IPY_MODEL_313ed5f8612d4d4286b63d842fff228f"
     }
    },
    "822ef68239414ca6b96a297b885b6d08": {
     "model_module": "@jupyter-widgets/controls",
     "model_module_version": "1.5.0",
     "model_name": "HTMLModel",
     "state": {
      "_dom_classes": [],
      "_model_module": "@jupyter-widgets/controls",
      "_model_module_version": "1.5.0",
      "_model_name": "HTMLModel",
      "_view_count": null,
      "_view_module": "@jupyter-widgets/controls",
      "_view_module_version": "1.5.0",
      "_view_name": "HTMLView",
      "description": "",
      "description_tooltip": null,
      "layout": "IPY_MODEL_4bb795a0b4f2443cb44f4c8ba19bd2f5",
      "placeholder": "​",
      "style": "IPY_MODEL_f7ce5b23d224449a91e8366614f99483",
      "value": ""
     }
    },
    "823e6a4916bd48b0bda424fdf8964d99": {
     "model_module": "@jupyter-widgets/base",
     "model_module_version": "1.2.0",
     "model_name": "LayoutModel",
     "state": {
      "_model_module": "@jupyter-widgets/base",
      "_model_module_version": "1.2.0",
      "_model_name": "LayoutModel",
      "_view_count": null,
      "_view_module": "@jupyter-widgets/base",
      "_view_module_version": "1.2.0",
      "_view_name": "LayoutView",
      "align_content": null,
      "align_items": null,
      "align_self": null,
      "border": null,
      "bottom": null,
      "display": null,
      "flex": null,
      "flex_flow": null,
      "grid_area": null,
      "grid_auto_columns": null,
      "grid_auto_flow": null,
      "grid_auto_rows": null,
      "grid_column": null,
      "grid_gap": null,
      "grid_row": null,
      "grid_template_areas": null,
      "grid_template_columns": null,
      "grid_template_rows": null,
      "height": null,
      "justify_content": null,
      "justify_items": null,
      "left": null,
      "margin": null,
      "max_height": null,
      "max_width": null,
      "min_height": null,
      "min_width": null,
      "object_fit": null,
      "object_position": null,
      "order": null,
      "overflow": null,
      "overflow_x": null,
      "overflow_y": null,
      "padding": null,
      "right": null,
      "top": null,
      "visibility": null,
      "width": "20px"
     }
    },
    "859eaac29c0a4976af94056f96330819": {
     "model_module": "@jupyter-widgets/base",
     "model_module_version": "1.2.0",
     "model_name": "LayoutModel",
     "state": {
      "_model_module": "@jupyter-widgets/base",
      "_model_module_version": "1.2.0",
      "_model_name": "LayoutModel",
      "_view_count": null,
      "_view_module": "@jupyter-widgets/base",
      "_view_module_version": "1.2.0",
      "_view_name": "LayoutView",
      "align_content": null,
      "align_items": null,
      "align_self": null,
      "border": null,
      "bottom": null,
      "display": null,
      "flex": null,
      "flex_flow": null,
      "grid_area": null,
      "grid_auto_columns": null,
      "grid_auto_flow": null,
      "grid_auto_rows": null,
      "grid_column": null,
      "grid_gap": null,
      "grid_row": null,
      "grid_template_areas": null,
      "grid_template_columns": null,
      "grid_template_rows": null,
      "height": null,
      "justify_content": null,
      "justify_items": null,
      "left": null,
      "margin": null,
      "max_height": null,
      "max_width": null,
      "min_height": null,
      "min_width": null,
      "object_fit": null,
      "object_position": null,
      "order": null,
      "overflow": null,
      "overflow_x": null,
      "overflow_y": null,
      "padding": null,
      "right": null,
      "top": null,
      "visibility": null,
      "width": "20px"
     }
    },
    "86a12e728e11418181af56ee606eefd3": {
     "model_module": "@jupyter-widgets/controls",
     "model_module_version": "1.5.0",
     "model_name": "HTMLModel",
     "state": {
      "_dom_classes": [],
      "_model_module": "@jupyter-widgets/controls",
      "_model_module_version": "1.5.0",
      "_model_name": "HTMLModel",
      "_view_count": null,
      "_view_module": "@jupyter-widgets/controls",
      "_view_module_version": "1.5.0",
      "_view_name": "HTMLView",
      "description": "",
      "description_tooltip": null,
      "layout": "IPY_MODEL_ad42e68608a3485b83c90c0cb410cd78",
      "placeholder": "​",
      "style": "IPY_MODEL_aca0cc3551a04272a67b45fa6bcd24eb",
      "value": " 63/? [00:23&lt;00:00,  3.13it/s, train_loss=1.11, icl_score=-2.32, steps=315]"
     }
    },
    "874d8c2db3354222aa07652b71b6aadb": {
     "model_module": "@jupyter-widgets/base",
     "model_module_version": "1.2.0",
     "model_name": "LayoutModel",
     "state": {
      "_model_module": "@jupyter-widgets/base",
      "_model_module_version": "1.2.0",
      "_model_name": "LayoutModel",
      "_view_count": null,
      "_view_module": "@jupyter-widgets/base",
      "_view_module_version": "1.2.0",
      "_view_name": "LayoutView",
      "align_content": null,
      "align_items": null,
      "align_self": null,
      "border": null,
      "bottom": null,
      "display": null,
      "flex": null,
      "flex_flow": null,
      "grid_area": null,
      "grid_auto_columns": null,
      "grid_auto_flow": null,
      "grid_auto_rows": null,
      "grid_column": null,
      "grid_gap": null,
      "grid_row": null,
      "grid_template_areas": null,
      "grid_template_columns": null,
      "grid_template_rows": null,
      "height": null,
      "justify_content": null,
      "justify_items": null,
      "left": null,
      "margin": null,
      "max_height": null,
      "max_width": null,
      "min_height": null,
      "min_width": null,
      "object_fit": null,
      "object_position": null,
      "order": null,
      "overflow": null,
      "overflow_x": null,
      "overflow_y": null,
      "padding": null,
      "right": null,
      "top": null,
      "visibility": null,
      "width": null
     }
    },
    "8a33d1e380084cf2a3c2c2405a4b9e29": {
     "model_module": "@jupyter-widgets/base",
     "model_module_version": "1.2.0",
     "model_name": "LayoutModel",
     "state": {
      "_model_module": "@jupyter-widgets/base",
      "_model_module_version": "1.2.0",
      "_model_name": "LayoutModel",
      "_view_count": null,
      "_view_module": "@jupyter-widgets/base",
      "_view_module_version": "1.2.0",
      "_view_name": "LayoutView",
      "align_content": null,
      "align_items": null,
      "align_self": null,
      "border": null,
      "bottom": null,
      "display": null,
      "flex": null,
      "flex_flow": null,
      "grid_area": null,
      "grid_auto_columns": null,
      "grid_auto_flow": null,
      "grid_auto_rows": null,
      "grid_column": null,
      "grid_gap": null,
      "grid_row": null,
      "grid_template_areas": null,
      "grid_template_columns": null,
      "grid_template_rows": null,
      "height": null,
      "justify_content": null,
      "justify_items": null,
      "left": null,
      "margin": null,
      "max_height": null,
      "max_width": null,
      "min_height": null,
      "min_width": null,
      "object_fit": null,
      "object_position": null,
      "order": null,
      "overflow": null,
      "overflow_x": null,
      "overflow_y": null,
      "padding": null,
      "right": null,
      "top": null,
      "visibility": null,
      "width": null
     }
    },
    "93574226403e4780acad776aad7c1f84": {
     "model_module": "@jupyter-widgets/base",
     "model_module_version": "1.2.0",
     "model_name": "LayoutModel",
     "state": {
      "_model_module": "@jupyter-widgets/base",
      "_model_module_version": "1.2.0",
      "_model_name": "LayoutModel",
      "_view_count": null,
      "_view_module": "@jupyter-widgets/base",
      "_view_module_version": "1.2.0",
      "_view_name": "LayoutView",
      "align_content": null,
      "align_items": null,
      "align_self": null,
      "border": null,
      "bottom": null,
      "display": null,
      "flex": null,
      "flex_flow": null,
      "grid_area": null,
      "grid_auto_columns": null,
      "grid_auto_flow": null,
      "grid_auto_rows": null,
      "grid_column": null,
      "grid_gap": null,
      "grid_row": null,
      "grid_template_areas": null,
      "grid_template_columns": null,
      "grid_template_rows": null,
      "height": null,
      "justify_content": null,
      "justify_items": null,
      "left": null,
      "margin": null,
      "max_height": null,
      "max_width": null,
      "min_height": null,
      "min_width": null,
      "object_fit": null,
      "object_position": null,
      "order": null,
      "overflow": null,
      "overflow_x": null,
      "overflow_y": null,
      "padding": null,
      "right": null,
      "top": null,
      "visibility": null,
      "width": null
     }
    },
    "93fad50b6950484299cf0e806d09fdd8": {
     "model_module": "@jupyter-widgets/base",
     "model_module_version": "1.2.0",
     "model_name": "LayoutModel",
     "state": {
      "_model_module": "@jupyter-widgets/base",
      "_model_module_version": "1.2.0",
      "_model_name": "LayoutModel",
      "_view_count": null,
      "_view_module": "@jupyter-widgets/base",
      "_view_module_version": "1.2.0",
      "_view_name": "LayoutView",
      "align_content": null,
      "align_items": null,
      "align_self": null,
      "border": null,
      "bottom": null,
      "display": null,
      "flex": null,
      "flex_flow": null,
      "grid_area": null,
      "grid_auto_columns": null,
      "grid_auto_flow": null,
      "grid_auto_rows": null,
      "grid_column": null,
      "grid_gap": null,
      "grid_row": null,
      "grid_template_areas": null,
      "grid_template_columns": null,
      "grid_template_rows": null,
      "height": null,
      "justify_content": null,
      "justify_items": null,
      "left": null,
      "margin": null,
      "max_height": null,
      "max_width": null,
      "min_height": null,
      "min_width": null,
      "object_fit": null,
      "object_position": null,
      "order": null,
      "overflow": null,
      "overflow_x": null,
      "overflow_y": null,
      "padding": null,
      "right": null,
      "top": null,
      "visibility": null,
      "width": null
     }
    },
    "9742d8a8b3f74174ab4d30f744a3eb50": {
     "model_module": "@jupyter-widgets/controls",
     "model_module_version": "1.5.0",
     "model_name": "HBoxModel",
     "state": {
      "_dom_classes": [],
      "_model_module": "@jupyter-widgets/controls",
      "_model_module_version": "1.5.0",
      "_model_name": "HBoxModel",
      "_view_count": null,
      "_view_module": "@jupyter-widgets/controls",
      "_view_module_version": "1.5.0",
      "_view_name": "HBoxView",
      "box_style": "",
      "children": [
       "IPY_MODEL_b48aec3fe66a4d35a72967dcbd35df68",
       "IPY_MODEL_ca0ba0cc1eb643ab9495966cb954d051",
       "IPY_MODEL_b932a46b485e4e2fadc822518d78c5db"
      ],
      "layout": "IPY_MODEL_f87c415fd2b04a46bf439e5911d2e6bb"
     }
    },
    "9cf15645480c4805b20877af254acf35": {
     "model_module": "@jupyter-widgets/controls",
     "model_module_version": "1.5.0",
     "model_name": "HTMLModel",
     "state": {
      "_dom_classes": [],
      "_model_module": "@jupyter-widgets/controls",
      "_model_module_version": "1.5.0",
      "_model_name": "HTMLModel",
      "_view_count": null,
      "_view_module": "@jupyter-widgets/controls",
      "_view_module_version": "1.5.0",
      "_view_name": "HTMLView",
      "description": "",
      "description_tooltip": null,
      "layout": "IPY_MODEL_0ea4e55576074d59913a006fc455a4ca",
      "placeholder": "​",
      "style": "IPY_MODEL_1d37a17747464d25a2a91a606d1ccd57",
      "value": " 58/? [00:22&lt;00:00,  2.72it/s, train_loss=1.07, icl_score=-2.85, steps=500]"
     }
    },
    "9dd68328c815467dbfc858d96fcab2fd": {
     "model_module": "@jupyter-widgets/controls",
     "model_module_version": "1.5.0",
     "model_name": "DescriptionStyleModel",
     "state": {
      "_model_module": "@jupyter-widgets/controls",
      "_model_module_version": "1.5.0",
      "_model_name": "DescriptionStyleModel",
      "_view_count": null,
      "_view_module": "@jupyter-widgets/base",
      "_view_module_version": "1.2.0",
      "_view_name": "StyleView",
      "description_width": ""
     }
    },
    "9eb95bb9bcd54fa9bc0ffe75060a864e": {
     "model_module": "@jupyter-widgets/base",
     "model_module_version": "1.2.0",
     "model_name": "LayoutModel",
     "state": {
      "_model_module": "@jupyter-widgets/base",
      "_model_module_version": "1.2.0",
      "_model_name": "LayoutModel",
      "_view_count": null,
      "_view_module": "@jupyter-widgets/base",
      "_view_module_version": "1.2.0",
      "_view_name": "LayoutView",
      "align_content": null,
      "align_items": null,
      "align_self": null,
      "border": null,
      "bottom": null,
      "display": null,
      "flex": null,
      "flex_flow": null,
      "grid_area": null,
      "grid_auto_columns": null,
      "grid_auto_flow": null,
      "grid_auto_rows": null,
      "grid_column": null,
      "grid_gap": null,
      "grid_row": null,
      "grid_template_areas": null,
      "grid_template_columns": null,
      "grid_template_rows": null,
      "height": null,
      "justify_content": null,
      "justify_items": null,
      "left": null,
      "margin": null,
      "max_height": null,
      "max_width": null,
      "min_height": null,
      "min_width": null,
      "object_fit": null,
      "object_position": null,
      "order": null,
      "overflow": null,
      "overflow_x": null,
      "overflow_y": null,
      "padding": null,
      "right": null,
      "top": null,
      "visibility": null,
      "width": null
     }
    },
    "a33ddabffb2c4578b71c66d79ddb155b": {
     "model_module": "@jupyter-widgets/controls",
     "model_module_version": "1.5.0",
     "model_name": "DescriptionStyleModel",
     "state": {
      "_model_module": "@jupyter-widgets/controls",
      "_model_module_version": "1.5.0",
      "_model_name": "DescriptionStyleModel",
      "_view_count": null,
      "_view_module": "@jupyter-widgets/base",
      "_view_module_version": "1.2.0",
      "_view_name": "StyleView",
      "description_width": ""
     }
    },
    "a424bda0989845beb9f2bb0aad737960": {
     "model_module": "@jupyter-widgets/controls",
     "model_module_version": "1.5.0",
     "model_name": "FloatProgressModel",
     "state": {
      "_dom_classes": [],
      "_model_module": "@jupyter-widgets/controls",
      "_model_module_version": "1.5.0",
      "_model_name": "FloatProgressModel",
      "_view_count": null,
      "_view_module": "@jupyter-widgets/controls",
      "_view_module_version": "1.5.0",
      "_view_name": "ProgressView",
      "bar_style": "danger",
      "description": "",
      "description_tooltip": null,
      "layout": "IPY_MODEL_25614a17feed47449860819ab4185334",
      "max": 100,
      "min": 0,
      "orientation": "horizontal",
      "style": "IPY_MODEL_2910f05c3b0e418eb1a76d9cb8688c19",
      "value": 8
     }
    },
    "a9632dafcb8540a9b3caf643df1712a2": {
     "model_module": "@jupyter-widgets/base",
     "model_module_version": "1.2.0",
     "model_name": "LayoutModel",
     "state": {
      "_model_module": "@jupyter-widgets/base",
      "_model_module_version": "1.2.0",
      "_model_name": "LayoutModel",
      "_view_count": null,
      "_view_module": "@jupyter-widgets/base",
      "_view_module_version": "1.2.0",
      "_view_name": "LayoutView",
      "align_content": null,
      "align_items": null,
      "align_self": null,
      "border": null,
      "bottom": null,
      "display": null,
      "flex": null,
      "flex_flow": null,
      "grid_area": null,
      "grid_auto_columns": null,
      "grid_auto_flow": null,
      "grid_auto_rows": null,
      "grid_column": null,
      "grid_gap": null,
      "grid_row": null,
      "grid_template_areas": null,
      "grid_template_columns": null,
      "grid_template_rows": null,
      "height": null,
      "justify_content": null,
      "justify_items": null,
      "left": null,
      "margin": null,
      "max_height": null,
      "max_width": null,
      "min_height": null,
      "min_width": null,
      "object_fit": null,
      "object_position": null,
      "order": null,
      "overflow": null,
      "overflow_x": null,
      "overflow_y": null,
      "padding": null,
      "right": null,
      "top": null,
      "visibility": null,
      "width": "20px"
     }
    },
    "aca0cc3551a04272a67b45fa6bcd24eb": {
     "model_module": "@jupyter-widgets/controls",
     "model_module_version": "1.5.0",
     "model_name": "DescriptionStyleModel",
     "state": {
      "_model_module": "@jupyter-widgets/controls",
      "_model_module_version": "1.5.0",
      "_model_name": "DescriptionStyleModel",
      "_view_count": null,
      "_view_module": "@jupyter-widgets/base",
      "_view_module_version": "1.2.0",
      "_view_name": "StyleView",
      "description_width": ""
     }
    },
    "ad42e68608a3485b83c90c0cb410cd78": {
     "model_module": "@jupyter-widgets/base",
     "model_module_version": "1.2.0",
     "model_name": "LayoutModel",
     "state": {
      "_model_module": "@jupyter-widgets/base",
      "_model_module_version": "1.2.0",
      "_model_name": "LayoutModel",
      "_view_count": null,
      "_view_module": "@jupyter-widgets/base",
      "_view_module_version": "1.2.0",
      "_view_name": "LayoutView",
      "align_content": null,
      "align_items": null,
      "align_self": null,
      "border": null,
      "bottom": null,
      "display": null,
      "flex": null,
      "flex_flow": null,
      "grid_area": null,
      "grid_auto_columns": null,
      "grid_auto_flow": null,
      "grid_auto_rows": null,
      "grid_column": null,
      "grid_gap": null,
      "grid_row": null,
      "grid_template_areas": null,
      "grid_template_columns": null,
      "grid_template_rows": null,
      "height": null,
      "justify_content": null,
      "justify_items": null,
      "left": null,
      "margin": null,
      "max_height": null,
      "max_width": null,
      "min_height": null,
      "min_width": null,
      "object_fit": null,
      "object_position": null,
      "order": null,
      "overflow": null,
      "overflow_x": null,
      "overflow_y": null,
      "padding": null,
      "right": null,
      "top": null,
      "visibility": null,
      "width": null
     }
    },
    "b48aec3fe66a4d35a72967dcbd35df68": {
     "model_module": "@jupyter-widgets/controls",
     "model_module_version": "1.5.0",
     "model_name": "HTMLModel",
     "state": {
      "_dom_classes": [],
      "_model_module": "@jupyter-widgets/controls",
      "_model_module_version": "1.5.0",
      "_model_name": "HTMLModel",
      "_view_count": null,
      "_view_module": "@jupyter-widgets/controls",
      "_view_module_version": "1.5.0",
      "_view_name": "HTMLView",
      "description": "",
      "description_tooltip": null,
      "layout": "IPY_MODEL_da542800a43a4cce9077a6ae7ac0b37d",
      "placeholder": "​",
      "style": "IPY_MODEL_a33ddabffb2c4578b71c66d79ddb155b",
      "value": ""
     }
    },
    "b52b3d4a44b0409ab5df32b5304a23cc": {
     "model_module": "@jupyter-widgets/controls",
     "model_module_version": "1.5.0",
     "model_name": "DescriptionStyleModel",
     "state": {
      "_model_module": "@jupyter-widgets/controls",
      "_model_module_version": "1.5.0",
      "_model_name": "DescriptionStyleModel",
      "_view_count": null,
      "_view_module": "@jupyter-widgets/base",
      "_view_module_version": "1.2.0",
      "_view_name": "StyleView",
      "description_width": ""
     }
    },
    "b86111d358844a63878e3b001d008202": {
     "model_module": "@jupyter-widgets/controls",
     "model_module_version": "1.5.0",
     "model_name": "HTMLModel",
     "state": {
      "_dom_classes": [],
      "_model_module": "@jupyter-widgets/controls",
      "_model_module_version": "1.5.0",
      "_model_name": "HTMLModel",
      "_view_count": null,
      "_view_module": "@jupyter-widgets/controls",
      "_view_module_version": "1.5.0",
      "_view_name": "HTMLView",
      "description": "",
      "description_tooltip": null,
      "layout": "IPY_MODEL_5bbb696e69ff4d48914dc950173813e9",
      "placeholder": "​",
      "style": "IPY_MODEL_1a8ac6d66312469880ab564c7177562f",
      "value": ""
     }
    },
    "b932a46b485e4e2fadc822518d78c5db": {
     "model_module": "@jupyter-widgets/controls",
     "model_module_version": "1.5.0",
     "model_name": "HTMLModel",
     "state": {
      "_dom_classes": [],
      "_model_module": "@jupyter-widgets/controls",
      "_model_module_version": "1.5.0",
      "_model_name": "HTMLModel",
      "_view_count": null,
      "_view_module": "@jupyter-widgets/controls",
      "_view_module_version": "1.5.0",
      "_view_name": "HTMLView",
      "description": "",
      "description_tooltip": null,
      "layout": "IPY_MODEL_3d151c904fcc488ba9ce6377a42cb432",
      "placeholder": "​",
      "style": "IPY_MODEL_05d7e5024535439c96a5e823895a4d19",
      "value": " 63/? [00:23&lt;00:00,  3.19it/s, train_loss=1.26, icl_score=-2.62, steps=126]"
     }
    },
    "bb90b0aff22549d89788d9e3c51442c5": {
     "model_module": "@jupyter-widgets/controls",
     "model_module_version": "1.5.0",
     "model_name": "HBoxModel",
     "state": {
      "_dom_classes": [],
      "_model_module": "@jupyter-widgets/controls",
      "_model_module_version": "1.5.0",
      "_model_name": "HBoxModel",
      "_view_count": null,
      "_view_module": "@jupyter-widgets/controls",
      "_view_module_version": "1.5.0",
      "_view_name": "HBoxView",
      "box_style": "",
      "children": [
       "IPY_MODEL_643bce502d93478e99d0c639617a3e0b",
       "IPY_MODEL_16ffa712ff2e4287ad90cb19969a88d9",
       "IPY_MODEL_5e990a1c80a94fc4ab97446bb730e79f"
      ],
      "layout": "IPY_MODEL_1781054e2fbe4948a4f788e7464441ed"
     }
    },
    "befc1df6a872482e9c33f3b3b40ee54c": {
     "model_module": "@jupyter-widgets/controls",
     "model_module_version": "1.5.0",
     "model_name": "FloatProgressModel",
     "state": {
      "_dom_classes": [],
      "_model_module": "@jupyter-widgets/controls",
      "_model_module_version": "1.5.0",
      "_model_name": "FloatProgressModel",
      "_view_count": null,
      "_view_module": "@jupyter-widgets/controls",
      "_view_module_version": "1.5.0",
      "_view_name": "ProgressView",
      "bar_style": "success",
      "description": "",
      "description_tooltip": null,
      "layout": "IPY_MODEL_cb9ef1bbb74b41dd8fd5e66db08c7b37",
      "max": 1,
      "min": 0,
      "orientation": "horizontal",
      "style": "IPY_MODEL_77ebabcdb7f440a29abfc028c2ba52c6",
      "value": 1
     }
    },
    "c00362393b944a969dbe35975b203123": {
     "model_module": "@jupyter-widgets/controls",
     "model_module_version": "1.5.0",
     "model_name": "ProgressStyleModel",
     "state": {
      "_model_module": "@jupyter-widgets/controls",
      "_model_module_version": "1.5.0",
      "_model_name": "ProgressStyleModel",
      "_view_count": null,
      "_view_module": "@jupyter-widgets/base",
      "_view_module_version": "1.2.0",
      "_view_name": "StyleView",
      "bar_color": null,
      "description_width": ""
     }
    },
    "c0e155ae3e724766991040841b0e3394": {
     "model_module": "@jupyter-widgets/base",
     "model_module_version": "1.2.0",
     "model_name": "LayoutModel",
     "state": {
      "_model_module": "@jupyter-widgets/base",
      "_model_module_version": "1.2.0",
      "_model_name": "LayoutModel",
      "_view_count": null,
      "_view_module": "@jupyter-widgets/base",
      "_view_module_version": "1.2.0",
      "_view_name": "LayoutView",
      "align_content": null,
      "align_items": null,
      "align_self": null,
      "border": null,
      "bottom": null,
      "display": null,
      "flex": null,
      "flex_flow": null,
      "grid_area": null,
      "grid_auto_columns": null,
      "grid_auto_flow": null,
      "grid_auto_rows": null,
      "grid_column": null,
      "grid_gap": null,
      "grid_row": null,
      "grid_template_areas": null,
      "grid_template_columns": null,
      "grid_template_rows": null,
      "height": null,
      "justify_content": null,
      "justify_items": null,
      "left": null,
      "margin": null,
      "max_height": null,
      "max_width": null,
      "min_height": null,
      "min_width": null,
      "object_fit": null,
      "object_position": null,
      "order": null,
      "overflow": null,
      "overflow_x": null,
      "overflow_y": null,
      "padding": null,
      "right": null,
      "top": null,
      "visibility": null,
      "width": null
     }
    },
    "c0e22deb971f42fe83930ab9b1b9921c": {
     "model_module": "@jupyter-widgets/controls",
     "model_module_version": "1.5.0",
     "model_name": "ProgressStyleModel",
     "state": {
      "_model_module": "@jupyter-widgets/controls",
      "_model_module_version": "1.5.0",
      "_model_name": "ProgressStyleModel",
      "_view_count": null,
      "_view_module": "@jupyter-widgets/base",
      "_view_module_version": "1.2.0",
      "_view_name": "StyleView",
      "bar_color": null,
      "description_width": ""
     }
    },
    "c19bd45457d646b986f3d97281970ad2": {
     "model_module": "@jupyter-widgets/controls",
     "model_module_version": "1.5.0",
     "model_name": "DescriptionStyleModel",
     "state": {
      "_model_module": "@jupyter-widgets/controls",
      "_model_module_version": "1.5.0",
      "_model_name": "DescriptionStyleModel",
      "_view_count": null,
      "_view_module": "@jupyter-widgets/base",
      "_view_module_version": "1.2.0",
      "_view_name": "StyleView",
      "description_width": ""
     }
    },
    "c381aff7e89f44d7a655a72e582af7b8": {
     "model_module": "@jupyter-widgets/controls",
     "model_module_version": "1.5.0",
     "model_name": "HTMLModel",
     "state": {
      "_dom_classes": [],
      "_model_module": "@jupyter-widgets/controls",
      "_model_module_version": "1.5.0",
      "_model_name": "HTMLModel",
      "_view_count": null,
      "_view_module": "@jupyter-widgets/controls",
      "_view_module_version": "1.5.0",
      "_view_name": "HTMLView",
      "description": "",
      "description_tooltip": null,
      "layout": "IPY_MODEL_793e2d4d6778415b84864a95bf3532a6",
      "placeholder": "​",
      "style": "IPY_MODEL_b52b3d4a44b0409ab5df32b5304a23cc",
      "value": ""
     }
    },
    "c3c136a8b035468eac398e4465d336d7": {
     "model_module": "@jupyter-widgets/controls",
     "model_module_version": "1.5.0",
     "model_name": "DescriptionStyleModel",
     "state": {
      "_model_module": "@jupyter-widgets/controls",
      "_model_module_version": "1.5.0",
      "_model_name": "DescriptionStyleModel",
      "_view_count": null,
      "_view_module": "@jupyter-widgets/base",
      "_view_module_version": "1.2.0",
      "_view_name": "StyleView",
      "description_width": ""
     }
    },
    "c45de8f9a10d4f5b9c4e0a1cd0f659b2": {
     "model_module": "@jupyter-widgets/controls",
     "model_module_version": "1.5.0",
     "model_name": "HTMLModel",
     "state": {
      "_dom_classes": [],
      "_model_module": "@jupyter-widgets/controls",
      "_model_module_version": "1.5.0",
      "_model_name": "HTMLModel",
      "_view_count": null,
      "_view_module": "@jupyter-widgets/controls",
      "_view_module_version": "1.5.0",
      "_view_name": "HTMLView",
      "description": "",
      "description_tooltip": null,
      "layout": "IPY_MODEL_18e060de90984e7081aa2163bfaae564",
      "placeholder": "​",
      "style": "IPY_MODEL_6b8c7f813b474fccb95c5b8156a7699f",
      "value": " 63/? [00:23&lt;00:00,  3.15it/s, train_loss=1.08, icl_score=0.152, steps=378]"
     }
    },
    "c7b7036eca374ea79966f69316be4af9": {
     "model_module": "@jupyter-widgets/controls",
     "model_module_version": "1.5.0",
     "model_name": "HBoxModel",
     "state": {
      "_dom_classes": [],
      "_model_module": "@jupyter-widgets/controls",
      "_model_module_version": "1.5.0",
      "_model_name": "HBoxModel",
      "_view_count": null,
      "_view_module": "@jupyter-widgets/controls",
      "_view_module_version": "1.5.0",
      "_view_name": "HBoxView",
      "box_style": "",
      "children": [
       "IPY_MODEL_014b21cfb01f46008c95a7d53b76c884",
       "IPY_MODEL_514980eb78304705a0a32ce3c3085c7e",
       "IPY_MODEL_c45de8f9a10d4f5b9c4e0a1cd0f659b2"
      ],
      "layout": "IPY_MODEL_20f72ca525dd4f3b9673dde39b94598e"
     }
    },
    "ca0ba0cc1eb643ab9495966cb954d051": {
     "model_module": "@jupyter-widgets/controls",
     "model_module_version": "1.5.0",
     "model_name": "FloatProgressModel",
     "state": {
      "_dom_classes": [],
      "_model_module": "@jupyter-widgets/controls",
      "_model_module_version": "1.5.0",
      "_model_name": "FloatProgressModel",
      "_view_count": null,
      "_view_module": "@jupyter-widgets/controls",
      "_view_module_version": "1.5.0",
      "_view_name": "ProgressView",
      "bar_style": "success",
      "description": "",
      "description_tooltip": null,
      "layout": "IPY_MODEL_4256ef583c584a9692354a2ed3f68e07",
      "max": 1,
      "min": 0,
      "orientation": "horizontal",
      "style": "IPY_MODEL_30f31075091047ff951aee5eff871362",
      "value": 1
     }
    },
    "cb9ef1bbb74b41dd8fd5e66db08c7b37": {
     "model_module": "@jupyter-widgets/base",
     "model_module_version": "1.2.0",
     "model_name": "LayoutModel",
     "state": {
      "_model_module": "@jupyter-widgets/base",
      "_model_module_version": "1.2.0",
      "_model_name": "LayoutModel",
      "_view_count": null,
      "_view_module": "@jupyter-widgets/base",
      "_view_module_version": "1.2.0",
      "_view_name": "LayoutView",
      "align_content": null,
      "align_items": null,
      "align_self": null,
      "border": null,
      "bottom": null,
      "display": null,
      "flex": null,
      "flex_flow": null,
      "grid_area": null,
      "grid_auto_columns": null,
      "grid_auto_flow": null,
      "grid_auto_rows": null,
      "grid_column": null,
      "grid_gap": null,
      "grid_row": null,
      "grid_template_areas": null,
      "grid_template_columns": null,
      "grid_template_rows": null,
      "height": null,
      "justify_content": null,
      "justify_items": null,
      "left": null,
      "margin": null,
      "max_height": null,
      "max_width": null,
      "min_height": null,
      "min_width": null,
      "object_fit": null,
      "object_position": null,
      "order": null,
      "overflow": null,
      "overflow_x": null,
      "overflow_y": null,
      "padding": null,
      "right": null,
      "top": null,
      "visibility": null,
      "width": "20px"
     }
    },
    "cc435c1fad784afe87417cd2a1f4b49e": {
     "model_module": "@jupyter-widgets/controls",
     "model_module_version": "1.5.0",
     "model_name": "HTMLModel",
     "state": {
      "_dom_classes": [],
      "_model_module": "@jupyter-widgets/controls",
      "_model_module_version": "1.5.0",
      "_model_name": "HTMLModel",
      "_view_count": null,
      "_view_module": "@jupyter-widgets/controls",
      "_view_module_version": "1.5.0",
      "_view_name": "HTMLView",
      "description": "",
      "description_tooltip": null,
      "layout": "IPY_MODEL_874d8c2db3354222aa07652b71b6aadb",
      "placeholder": "​",
      "style": "IPY_MODEL_9dd68328c815467dbfc858d96fcab2fd",
      "value": ""
     }
    },
    "d06158c6cdce4a5f89defd59e69d073e": {
     "model_module": "@jupyter-widgets/controls",
     "model_module_version": "1.5.0",
     "model_name": "ProgressStyleModel",
     "state": {
      "_model_module": "@jupyter-widgets/controls",
      "_model_module_version": "1.5.0",
      "_model_name": "ProgressStyleModel",
      "_view_count": null,
      "_view_module": "@jupyter-widgets/base",
      "_view_module_version": "1.2.0",
      "_view_name": "StyleView",
      "bar_color": null,
      "description_width": ""
     }
    },
    "d13dc2a10b554663825ed8ba759acc75": {
     "model_module": "@jupyter-widgets/base",
     "model_module_version": "1.2.0",
     "model_name": "LayoutModel",
     "state": {
      "_model_module": "@jupyter-widgets/base",
      "_model_module_version": "1.2.0",
      "_model_name": "LayoutModel",
      "_view_count": null,
      "_view_module": "@jupyter-widgets/base",
      "_view_module_version": "1.2.0",
      "_view_name": "LayoutView",
      "align_content": null,
      "align_items": null,
      "align_self": null,
      "border": null,
      "bottom": null,
      "display": null,
      "flex": null,
      "flex_flow": null,
      "grid_area": null,
      "grid_auto_columns": null,
      "grid_auto_flow": null,
      "grid_auto_rows": null,
      "grid_column": null,
      "grid_gap": null,
      "grid_row": null,
      "grid_template_areas": null,
      "grid_template_columns": null,
      "grid_template_rows": null,
      "height": null,
      "justify_content": null,
      "justify_items": null,
      "left": null,
      "margin": null,
      "max_height": null,
      "max_width": null,
      "min_height": null,
      "min_width": null,
      "object_fit": null,
      "object_position": null,
      "order": null,
      "overflow": null,
      "overflow_x": null,
      "overflow_y": null,
      "padding": null,
      "right": null,
      "top": null,
      "visibility": null,
      "width": null
     }
    },
    "da542800a43a4cce9077a6ae7ac0b37d": {
     "model_module": "@jupyter-widgets/base",
     "model_module_version": "1.2.0",
     "model_name": "LayoutModel",
     "state": {
      "_model_module": "@jupyter-widgets/base",
      "_model_module_version": "1.2.0",
      "_model_name": "LayoutModel",
      "_view_count": null,
      "_view_module": "@jupyter-widgets/base",
      "_view_module_version": "1.2.0",
      "_view_name": "LayoutView",
      "align_content": null,
      "align_items": null,
      "align_self": null,
      "border": null,
      "bottom": null,
      "display": null,
      "flex": null,
      "flex_flow": null,
      "grid_area": null,
      "grid_auto_columns": null,
      "grid_auto_flow": null,
      "grid_auto_rows": null,
      "grid_column": null,
      "grid_gap": null,
      "grid_row": null,
      "grid_template_areas": null,
      "grid_template_columns": null,
      "grid_template_rows": null,
      "height": null,
      "justify_content": null,
      "justify_items": null,
      "left": null,
      "margin": null,
      "max_height": null,
      "max_width": null,
      "min_height": null,
      "min_width": null,
      "object_fit": null,
      "object_position": null,
      "order": null,
      "overflow": null,
      "overflow_x": null,
      "overflow_y": null,
      "padding": null,
      "right": null,
      "top": null,
      "visibility": null,
      "width": null
     }
    },
    "db96978ef1d8428c9980ab0eb71fa0c1": {
     "model_module": "@jupyter-widgets/base",
     "model_module_version": "1.2.0",
     "model_name": "LayoutModel",
     "state": {
      "_model_module": "@jupyter-widgets/base",
      "_model_module_version": "1.2.0",
      "_model_name": "LayoutModel",
      "_view_count": null,
      "_view_module": "@jupyter-widgets/base",
      "_view_module_version": "1.2.0",
      "_view_name": "LayoutView",
      "align_content": null,
      "align_items": null,
      "align_self": null,
      "border": null,
      "bottom": null,
      "display": null,
      "flex": null,
      "flex_flow": null,
      "grid_area": null,
      "grid_auto_columns": null,
      "grid_auto_flow": null,
      "grid_auto_rows": null,
      "grid_column": null,
      "grid_gap": null,
      "grid_row": null,
      "grid_template_areas": null,
      "grid_template_columns": null,
      "grid_template_rows": null,
      "height": null,
      "justify_content": null,
      "justify_items": null,
      "left": null,
      "margin": null,
      "max_height": null,
      "max_width": null,
      "min_height": null,
      "min_width": null,
      "object_fit": null,
      "object_position": null,
      "order": null,
      "overflow": null,
      "overflow_x": null,
      "overflow_y": null,
      "padding": null,
      "right": null,
      "top": null,
      "visibility": null,
      "width": null
     }
    },
    "dd4ea53f43994eb8881a4b707c209022": {
     "model_module": "@jupyter-widgets/controls",
     "model_module_version": "1.5.0",
     "model_name": "HTMLModel",
     "state": {
      "_dom_classes": [],
      "_model_module": "@jupyter-widgets/controls",
      "_model_module_version": "1.5.0",
      "_model_name": "HTMLModel",
      "_view_count": null,
      "_view_module": "@jupyter-widgets/controls",
      "_view_module_version": "1.5.0",
      "_view_name": "HTMLView",
      "description": "",
      "description_tooltip": null,
      "layout": "IPY_MODEL_465f5b8cb87e4d469cd1f767e848b6a9",
      "placeholder": "​",
      "style": "IPY_MODEL_fc1b5793ff704ad393057b00a9420374",
      "value": " 63/? [00:23&lt;00:00,  3.09it/s, train_loss=1.46, icl_score=-1.42, steps=63]"
     }
    },
    "e043d7a8d5c64f88be664c8cf3c122c5": {
     "model_module": "@jupyter-widgets/controls",
     "model_module_version": "1.5.0",
     "model_name": "DescriptionStyleModel",
     "state": {
      "_model_module": "@jupyter-widgets/controls",
      "_model_module_version": "1.5.0",
      "_model_name": "DescriptionStyleModel",
      "_view_count": null,
      "_view_module": "@jupyter-widgets/base",
      "_view_module_version": "1.2.0",
      "_view_name": "StyleView",
      "description_width": ""
     }
    },
    "e0b730c29dec41afb67931a0c5018f39": {
     "model_module": "@jupyter-widgets/controls",
     "model_module_version": "1.5.0",
     "model_name": "HBoxModel",
     "state": {
      "_dom_classes": [],
      "_model_module": "@jupyter-widgets/controls",
      "_model_module_version": "1.5.0",
      "_model_name": "HBoxModel",
      "_view_count": null,
      "_view_module": "@jupyter-widgets/controls",
      "_view_module_version": "1.5.0",
      "_view_name": "HBoxView",
      "box_style": "",
      "children": [
       "IPY_MODEL_822ef68239414ca6b96a297b885b6d08",
       "IPY_MODEL_441eb5ea177d4befbceaf6f19b893bfd",
       "IPY_MODEL_9cf15645480c4805b20877af254acf35"
      ],
      "layout": "IPY_MODEL_d13dc2a10b554663825ed8ba759acc75"
     }
    },
    "e4b1be6554ec47a4b31847e7933ae3bc": {
     "model_module": "@jupyter-widgets/base",
     "model_module_version": "1.2.0",
     "model_name": "LayoutModel",
     "state": {
      "_model_module": "@jupyter-widgets/base",
      "_model_module_version": "1.2.0",
      "_model_name": "LayoutModel",
      "_view_count": null,
      "_view_module": "@jupyter-widgets/base",
      "_view_module_version": "1.2.0",
      "_view_name": "LayoutView",
      "align_content": null,
      "align_items": null,
      "align_self": null,
      "border": null,
      "bottom": null,
      "display": null,
      "flex": null,
      "flex_flow": null,
      "grid_area": null,
      "grid_auto_columns": null,
      "grid_auto_flow": null,
      "grid_auto_rows": null,
      "grid_column": null,
      "grid_gap": null,
      "grid_row": null,
      "grid_template_areas": null,
      "grid_template_columns": null,
      "grid_template_rows": null,
      "height": null,
      "justify_content": null,
      "justify_items": null,
      "left": null,
      "margin": null,
      "max_height": null,
      "max_width": null,
      "min_height": null,
      "min_width": null,
      "object_fit": null,
      "object_position": null,
      "order": null,
      "overflow": null,
      "overflow_x": null,
      "overflow_y": null,
      "padding": null,
      "right": null,
      "top": null,
      "visibility": null,
      "width": null
     }
    },
    "f7697755bdd9494eac5aa3a520157ec9": {
     "model_module": "@jupyter-widgets/base",
     "model_module_version": "1.2.0",
     "model_name": "LayoutModel",
     "state": {
      "_model_module": "@jupyter-widgets/base",
      "_model_module_version": "1.2.0",
      "_model_name": "LayoutModel",
      "_view_count": null,
      "_view_module": "@jupyter-widgets/base",
      "_view_module_version": "1.2.0",
      "_view_name": "LayoutView",
      "align_content": null,
      "align_items": null,
      "align_self": null,
      "border": null,
      "bottom": null,
      "display": null,
      "flex": null,
      "flex_flow": null,
      "grid_area": null,
      "grid_auto_columns": null,
      "grid_auto_flow": null,
      "grid_auto_rows": null,
      "grid_column": null,
      "grid_gap": null,
      "grid_row": null,
      "grid_template_areas": null,
      "grid_template_columns": null,
      "grid_template_rows": null,
      "height": null,
      "justify_content": null,
      "justify_items": null,
      "left": null,
      "margin": null,
      "max_height": null,
      "max_width": null,
      "min_height": null,
      "min_width": null,
      "object_fit": null,
      "object_position": null,
      "order": null,
      "overflow": null,
      "overflow_x": null,
      "overflow_y": null,
      "padding": null,
      "right": null,
      "top": null,
      "visibility": null,
      "width": "20px"
     }
    },
    "f7ce5b23d224449a91e8366614f99483": {
     "model_module": "@jupyter-widgets/controls",
     "model_module_version": "1.5.0",
     "model_name": "DescriptionStyleModel",
     "state": {
      "_model_module": "@jupyter-widgets/controls",
      "_model_module_version": "1.5.0",
      "_model_name": "DescriptionStyleModel",
      "_view_count": null,
      "_view_module": "@jupyter-widgets/base",
      "_view_module_version": "1.2.0",
      "_view_name": "StyleView",
      "description_width": ""
     }
    },
    "f87c415fd2b04a46bf439e5911d2e6bb": {
     "model_module": "@jupyter-widgets/base",
     "model_module_version": "1.2.0",
     "model_name": "LayoutModel",
     "state": {
      "_model_module": "@jupyter-widgets/base",
      "_model_module_version": "1.2.0",
      "_model_name": "LayoutModel",
      "_view_count": null,
      "_view_module": "@jupyter-widgets/base",
      "_view_module_version": "1.2.0",
      "_view_name": "LayoutView",
      "align_content": null,
      "align_items": null,
      "align_self": null,
      "border": null,
      "bottom": null,
      "display": null,
      "flex": null,
      "flex_flow": null,
      "grid_area": null,
      "grid_auto_columns": null,
      "grid_auto_flow": null,
      "grid_auto_rows": null,
      "grid_column": null,
      "grid_gap": null,
      "grid_row": null,
      "grid_template_areas": null,
      "grid_template_columns": null,
      "grid_template_rows": null,
      "height": null,
      "justify_content": null,
      "justify_items": null,
      "left": null,
      "margin": null,
      "max_height": null,
      "max_width": null,
      "min_height": null,
      "min_width": null,
      "object_fit": null,
      "object_position": null,
      "order": null,
      "overflow": null,
      "overflow_x": null,
      "overflow_y": null,
      "padding": null,
      "right": null,
      "top": null,
      "visibility": null,
      "width": null
     }
    },
    "f8f472aa78f343199ca09097c475fa02": {
     "model_module": "@jupyter-widgets/base",
     "model_module_version": "1.2.0",
     "model_name": "LayoutModel",
     "state": {
      "_model_module": "@jupyter-widgets/base",
      "_model_module_version": "1.2.0",
      "_model_name": "LayoutModel",
      "_view_count": null,
      "_view_module": "@jupyter-widgets/base",
      "_view_module_version": "1.2.0",
      "_view_name": "LayoutView",
      "align_content": null,
      "align_items": null,
      "align_self": null,
      "border": null,
      "bottom": null,
      "display": null,
      "flex": null,
      "flex_flow": null,
      "grid_area": null,
      "grid_auto_columns": null,
      "grid_auto_flow": null,
      "grid_auto_rows": null,
      "grid_column": null,
      "grid_gap": null,
      "grid_row": null,
      "grid_template_areas": null,
      "grid_template_columns": null,
      "grid_template_rows": null,
      "height": null,
      "justify_content": null,
      "justify_items": null,
      "left": null,
      "margin": null,
      "max_height": null,
      "max_width": null,
      "min_height": null,
      "min_width": null,
      "object_fit": null,
      "object_position": null,
      "order": null,
      "overflow": null,
      "overflow_x": null,
      "overflow_y": null,
      "padding": null,
      "right": null,
      "top": null,
      "visibility": null,
      "width": null
     }
    },
    "fc1b5793ff704ad393057b00a9420374": {
     "model_module": "@jupyter-widgets/controls",
     "model_module_version": "1.5.0",
     "model_name": "DescriptionStyleModel",
     "state": {
      "_model_module": "@jupyter-widgets/controls",
      "_model_module_version": "1.5.0",
      "_model_name": "DescriptionStyleModel",
      "_view_count": null,
      "_view_module": "@jupyter-widgets/base",
      "_view_module_version": "1.2.0",
      "_view_name": "StyleView",
      "description_width": ""
     }
    }
   }
  }
 },
 "nbformat": 4,
 "nbformat_minor": 0
}
