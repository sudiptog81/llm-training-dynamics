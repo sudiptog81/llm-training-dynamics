{
 "cells": [
  {
   "cell_type": "code",
   "execution_count": 1,
   "metadata": {},
   "outputs": [],
   "source": [
    "import torch\n",
    "import torch.nn as nn\n",
    "import torch.nn.functional as F\n",
    "import torch.optim as optim\n",
    "import numpy as np\n",
    "import einops\n",
    "from fancy_einsum import einsum\n",
    "import os\n",
    "import tqdm.auto as tqdm\n",
    "import random\n",
    "from pathlib import Path\n",
    "import plotly.express as px\n",
    "from torch.utils.data import DataLoader\n",
    "\n",
    "from typing import List, Union, Optional\n",
    "from functools import partial\n",
    "import copy\n",
    "\n",
    "import itertools\n",
    "from transformers import AutoModelForCausalLM, AutoConfig, AutoTokenizer\n",
    "import dataclasses\n",
    "import datasets\n",
    "\n",
    "import transformer_lens\n",
    "import transformer_lens.utils as utils\n",
    "from transformer_lens.hook_points import (\n",
    "    HookedRootModule,\n",
    "    HookPoint,\n",
    ")\n",
    "from transformer_lens import HookedTransformer, HookedTransformerConfig, FactoredMatrix, ActivationCache\n",
    "\n",
    "device = \"cuda:1\" if torch.cuda.is_available() else \"cpu\""
   ]
  },
  {
   "cell_type": "code",
   "execution_count": 2,
   "metadata": {},
   "outputs": [],
   "source": [
    "def imshow(tensor, model='', renderer=None, xaxis=\"\", yaxis=\"\", **kwargs):\n",
    "    px.imshow(utils.to_numpy(tensor), color_continuous_midpoint=0.0, color_continuous_scale=\"RdBu\", labels={\"x\":xaxis, \"y\":yaxis}, **kwargs).write_image('images/' + model + '/' + kwargs.get('title') + '.png')\n",
    "\n",
    "def line(tensor, renderer=None, xaxis=\"\", yaxis=\"\", **kwargs):\n",
    "    px.line(utils.to_numpy(tensor), labels={\"x\":xaxis, \"y\":yaxis}, **kwargs).show(renderer)\n",
    "\n",
    "def scatter(x, y, xaxis=\"\", yaxis=\"\", caxis=\"\", renderer=None, **kwargs):\n",
    "    x = utils.to_numpy(x)\n",
    "    y = utils.to_numpy(y)\n",
    "    px.scatter(y=y, x=x, labels={\"x\":xaxis, \"y\":yaxis, \"color\":caxis}, **kwargs).show(renderer)"
   ]
  },
  {
   "cell_type": "code",
   "execution_count": 3,
   "metadata": {},
   "outputs": [
    {
     "name": "stdout",
     "output_type": "stream",
     "text": [
      "\n",
      "Target GCD: 64\n",
      "Triplets:\n",
      "[[128 192  64]\n",
      " [ 64  64  64]\n",
      " [192  64 192]\n",
      " [128 128 192]\n",
      " [192 128 192]\n",
      " [ 64 128 192]\n",
      " [ 64  64 192]\n",
      " [192 128 128]\n",
      " [192  64 192]\n",
      " [ 64  64  64]]\n",
      "\n",
      "Target GCD: 16\n",
      "Triplets:\n",
      "[[144 224  32]\n",
      " [176 160  64]\n",
      " [ 80  64  80]\n",
      " [ 80 128 240]\n",
      " [240 144 128]\n",
      " [144 208 128]\n",
      " [144 160  96]\n",
      " [144 144  48]\n",
      " [160  64 160]\n",
      " [ 80  96  96]]\n"
     ]
    }
   ],
   "source": [
    "import numpy as np\n",
    "from einops import repeat\n",
    "\n",
    "n = 1000\n",
    "m = 10\n",
    "\n",
    "gcd_targets = np.random.randint(1, 65, size=n)\n",
    "gcd_targets_expanded = repeat(gcd_targets, 'n -> (n m)', m=m)\n",
    "scaling_factors = np.random.randint(1, 256 // gcd_targets_expanded[:, None], size=(n * m, 3))\n",
    "\n",
    "numbers = gcd_targets_expanded[:, None] * scaling_factors\n",
    "numbers_grouped = numbers.reshape(n, m, 3)\n",
    "\n",
    "for i, target_gcd in enumerate(gcd_targets[:2]):\n",
    "    print(f\"\\nTarget GCD: {target_gcd}\")\n",
    "    print(\"Triplets:\")\n",
    "    print(numbers_grouped[i])"
   ]
  },
  {
   "cell_type": "code",
   "execution_count": 4,
   "metadata": {},
   "outputs": [
    {
     "data": {
      "text/plain": [
       "(torch.Size([10000, 3]), torch.Size([10000, 1]))"
      ]
     },
     "execution_count": 4,
     "metadata": {},
     "output_type": "execute_result"
    }
   ],
   "source": [
    "numbers_tensor = torch.tensor(numbers, dtype=int)\n",
    "gcd_tensor = torch.tensor(gcd_targets_expanded, dtype=int).reshape(10000, 1)\n",
    "numbers_tensor.shape, gcd_tensor.shape"
   ]
  },
  {
   "cell_type": "code",
   "execution_count": 5,
   "metadata": {},
   "outputs": [
    {
     "data": {
      "text/plain": [
       "torch.Size([10000, 4])"
      ]
     },
     "execution_count": 5,
     "metadata": {},
     "output_type": "execute_result"
    }
   ],
   "source": [
    "concatenated_tensor = torch.cat((numbers_tensor, gcd_tensor), dim=1)\n",
    "concatenated_tensor.shape"
   ]
  },
  {
   "cell_type": "code",
   "execution_count": 6,
   "metadata": {},
   "outputs": [
    {
     "data": {
      "text/plain": [
       "tensor([[189, 189, 126,  63],\n",
       "        [114, 152, 152,  38],\n",
       "        [150,  30, 180,  30],\n",
       "        [198, 216,  90,   9],\n",
       "        [182, 130,  52,  26]])"
      ]
     },
     "execution_count": 6,
     "metadata": {},
     "output_type": "execute_result"
    }
   ],
   "source": [
    "sample_indices = np.random.choice(concatenated_tensor.shape[0], size=5, replace=False)\n",
    "samples = concatenated_tensor[sample_indices]\n",
    "samples"
   ]
  },
  {
   "cell_type": "code",
   "execution_count": null,
   "metadata": {},
   "outputs": [],
   "source": [
    "training_datapoints = []\n",
    "for _ in range(2000):\n",
    "  sample_indices = np.random.choice(concatenated_tensor.shape[0], size=1, replace=False)\n",
    "  samples = concatenated_tensor[sample_indices]\n",
    "  prompt = ''\n",
    "  for idx, tensor in enumerate(samples):\n",
    "    prompt += ','.join(map(str, (tensor[:-1].tolist()))) + f'=>{tensor[-1]}'*10\n",
    "  training_datapoints.append(prompt)\n",
    "\n",
    "test_datapoints = []\n",
    "for _ in range(1000):\n",
    "  sample_indices = np.random.choice(concatenated_tensor.shape[0], size=1, replace=False)\n",
    "  samples = concatenated_tensor[sample_indices]\n",
    "  prompt = ''\n",
    "  for idx, tensor in enumerate(samples):\n",
    "    prompt += ','.join(map(str, (tensor[:-1].tolist()))) + f'=>{tensor[-1]}'*10\n",
    "  test_datapoints.append(prompt)"
   ]
  },
  {
   "cell_type": "code",
   "execution_count": 8,
   "metadata": {},
   "outputs": [
    {
     "name": "stdout",
     "output_type": "stream",
     "text": [
      "60,120,180=>60\n"
     ]
    }
   ],
   "source": [
    "print(training_datapoints[0])"
   ]
  },
  {
   "cell_type": "code",
   "execution_count": 9,
   "metadata": {},
   "outputs": [],
   "source": [
    "import requests\n",
    "import pypac\n",
    "\n",
    "def request(method, url, **kwargs):\n",
    "    with pypac.PACSession() as session:\n",
    "        return session.request(method=method, url=url, **kwargs)\n",
    "\n",
    "requests.request = request"
   ]
  },
  {
   "cell_type": "code",
   "execution_count": 10,
   "metadata": {},
   "outputs": [
    {
     "data": {
      "text/plain": [
       "True"
      ]
     },
     "execution_count": 10,
     "metadata": {},
     "output_type": "execute_result"
    }
   ],
   "source": [
    "import dotenv\n",
    "dotenv.load_dotenv(\".env\", override=True)"
   ]
  },
  {
   "cell_type": "code",
   "execution_count": 11,
   "metadata": {},
   "outputs": [],
   "source": [
    "# MODEL='solu-2l'\n",
    "# model = HookedTransformer.from_pretrained(MODEL, device=device)\n",
    "# model.cfg.d_vocab = 16\n",
    "# model"
   ]
  },
  {
   "cell_type": "code",
   "execution_count": 9,
   "metadata": {},
   "outputs": [],
   "source": [
    "import matplotlib.pyplot as plt\n",
    "import seaborn as sns\n",
    "\n",
    "sns.set()\n",
    "sns.set_theme(rc={'figure.figsize':(5,5)})"
   ]
  },
  {
   "cell_type": "code",
   "execution_count": 4,
   "metadata": {},
   "outputs": [],
   "source": [
    "from transformer_lens import evals\n",
    "model_names = ['attn-only-1l','attn-only-2l','attn-only-3l']"
   ]
  },
  {
   "cell_type": "code",
   "execution_count": 12,
   "metadata": {},
   "outputs": [
    {
     "name": "stdout",
     "output_type": "stream",
     "text": [
      "Model: attn-only-1l\n",
      "Loaded pretrained model attn-only-1l into HookedTransformer\n",
      "Loaded pretrained model attn-only-1l into HookedTransformer\n",
      "Loaded pretrained model attn-only-1l into HookedTransformer\n",
      "Loaded pretrained model attn-only-1l into HookedTransformer\n",
      "Loaded pretrained model attn-only-1l into HookedTransformer\n",
      "Loaded pretrained model attn-only-1l into HookedTransformer\n",
      "Loaded pretrained model attn-only-1l into HookedTransformer\n",
      "Loaded pretrained model attn-only-1l into HookedTransformer\n",
      "Loaded pretrained model attn-only-1l into HookedTransformer\n",
      "Loaded pretrained model attn-only-1l into HookedTransformer\n",
      "Model: attn-only-2l\n",
      "Loaded pretrained model attn-only-2l into HookedTransformer\n",
      "Loaded pretrained model attn-only-2l into HookedTransformer\n",
      "Loaded pretrained model attn-only-2l into HookedTransformer\n",
      "Loaded pretrained model attn-only-2l into HookedTransformer\n",
      "Loaded pretrained model attn-only-2l into HookedTransformer\n",
      "Loaded pretrained model attn-only-2l into HookedTransformer\n",
      "Loaded pretrained model attn-only-2l into HookedTransformer\n",
      "Loaded pretrained model attn-only-2l into HookedTransformer\n",
      "Loaded pretrained model attn-only-2l into HookedTransformer\n",
      "Loaded pretrained model attn-only-2l into HookedTransformer\n",
      "Model: attn-only-3l\n",
      "Loaded pretrained model attn-only-3l into HookedTransformer\n",
      "Loaded pretrained model attn-only-3l into HookedTransformer\n",
      "Loaded pretrained model attn-only-3l into HookedTransformer\n",
      "Loaded pretrained model attn-only-3l into HookedTransformer\n",
      "Loaded pretrained model attn-only-3l into HookedTransformer\n",
      "Loaded pretrained model attn-only-3l into HookedTransformer\n",
      "Loaded pretrained model attn-only-3l into HookedTransformer\n",
      "Loaded pretrained model attn-only-3l into HookedTransformer\n",
      "Loaded pretrained model attn-only-3l into HookedTransformer\n",
      "Loaded pretrained model attn-only-3l into HookedTransformer\n"
     ]
    },
    {
     "data": {
      "image/png": "[encoded data removed]",
      "text/plain": [
       "<Figure size 500x500 with 1 Axes>"
      ]
     },
     "metadata": {},
     "output_type": "display_data"
    }
   ],
   "source": [
    "for model_name in model_names:\n",
    "  print(f\"Model: {model_name}\")\n",
    "\n",
    "  checkpoint_indices = range(0, 100, 10)\n",
    "  checkpointed_models = []\n",
    "  tokens_trained_on = []\n",
    "  induction_losses = []\n",
    "\n",
    "  for index in checkpoint_indices:\n",
    "    model_for_this_checkpoint = HookedTransformer.from_pretrained(model_name, checkpoint_index=index, device=device)\n",
    "    checkpointed_models.append(model_for_this_checkpoint)\n",
    "\n",
    "    tokens_seen_for_this_checkpoint = model_for_this_checkpoint.cfg.checkpoint_value\n",
    "    tokens_trained_on.append(tokens_seen_for_this_checkpoint)\n",
    "\n",
    "    induction_loss_for_this_checkpoint = evals.induction_loss(model_for_this_checkpoint, device=device).item()\n",
    "    induction_losses.append(induction_loss_for_this_checkpoint)\n",
    "\n",
    "  ax = sns.lineplot(x=tokens_trained_on, y=induction_losses, markers=True, label=model_name)\n",
    "  ax.set(xscale='log')\n",
    "  ax.set(xlabel=\"Tokens Trained On\", ylabel=\"Induction Loss\")\n",
    "  plt.legend()\n",
    "  plt.savefig(f'images/induction_loss_{model_name}.png')"
   ]
  }
 ],
 "metadata": {
  "kernelspec": {
   "display_name": "ail821",
   "language": "python",
   "name": "python3"
  },
  "language_info": {
   "codemirror_mode": {
    "name": "ipython",
    "version": 3
   },
   "file_extension": ".py",
   "mimetype": "text/x-python",
   "name": "python",
   "nbconvert_exporter": "python",
   "pygments_lexer": "ipython3",
   "version": "3.10.15"
  }
 },
 "nbformat": 4,
 "nbformat_minor": 2
}
